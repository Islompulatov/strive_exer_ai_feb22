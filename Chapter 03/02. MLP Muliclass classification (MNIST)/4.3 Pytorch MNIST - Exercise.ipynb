{
 "cells": [
  {
   "cell_type": "markdown",
   "metadata": {},
   "source": [
    "<div style=\"background:#222222; color:#ffffff; padding:20px\">\n",
    "    <h2 align=\"center\">Deep Learning Fundamentals</h2>\n",
    "    <h2 align=\"center\" style=\"color:#01ff84\">Multiclass Clasification: MNIST</h2>\n",
    "<div>"
   ]
  },
  {
   "cell_type": "markdown",
   "metadata": {},
   "source": [
    "## Imports"
   ]
  },
  {
   "cell_type": "code",
   "execution_count": 1,
   "metadata": {},
   "outputs": [],
   "source": [
    "%matplotlib inline\n",
    "%config InlineBackend.figure_format = 'retina'\n",
    "\n",
    "from collections import OrderedDict\n",
    "\n",
    "import numpy as np\n",
    "import matplotlib.pyplot as plt\n",
    "import time\n",
    "\n",
    "import torch\n",
    "from torch import nn\n",
    "from torch import optim\n",
    "import torch.nn.functional as F\n",
    "\n",
    "from torchvision import datasets, transforms"
   ]
  },
  {
   "cell_type": "markdown",
   "metadata": {},
   "source": [
    "## Auxliary plotting function"
   ]
  },
  {
   "cell_type": "code",
   "execution_count": 2,
   "metadata": {},
   "outputs": [],
   "source": [
    "# https://discuss.pytorch.org/t/view-classify-in-module-helper/30279/6\n",
    "\n",
    "def view_classify(img, ps):\n",
    "\n",
    "    ps = ps.data.numpy().squeeze()\n",
    "\n",
    "    fig, (ax1, ax2) = plt.subplots(figsize=(6,9), ncols=2)\n",
    "    ax1.imshow(img.resize_(1, 28, 28).numpy().squeeze())\n",
    "    ax1.axis('off')\n",
    "    ax2.barh(np.arange(10), ps)\n",
    "    ax2.set_aspect(0.1)\n",
    "    ax2.set_yticks(np.arange(10))\n",
    "    ax2.set_yticklabels(np.arange(10))\n",
    "    ax2.set_title('Class Probability')\n",
    "    ax2.set_xlim(0, 1.1)"
   ]
  },
  {
   "cell_type": "markdown",
   "metadata": {},
   "source": [
    "# Load MNIST Dataset\n",
    "First up, we need to get our dataset. This is provided through the `torchvision` package. The code below will download the MNIST dataset, then create training and test datasets for us. Don't worry too much about the details here, you'll learn more about this later."
   ]
  },
  {
   "cell_type": "code",
   "execution_count": 3,
   "metadata": {},
   "outputs": [],
   "source": [
    "# Define a transform to normalize the data (Preprocessing)\n",
    "transform = transforms.Compose([transforms.ToTensor(), transforms.Normalize((0.5), (0.5)) ])\n",
    "\n",
    "# Download and load the training data\n",
    "trainset    = datasets.MNIST('MNIST_data/', download=True, train=True, transform=transform)\n",
    "trainloader = torch.utils.data.DataLoader(trainset, batch_size=64, shuffle=True)\n",
    "\n",
    "# Download and load the test data\n",
    "testset    = datasets.MNIST('MNIST_data/', download=True, train=False, transform=transform)\n",
    "testloader = torch.utils.data.DataLoader(testset, batch_size=64, shuffle=True)"
   ]
  },
  {
   "cell_type": "code",
   "execution_count": 4,
   "metadata": {},
   "outputs": [],
   "source": [
    "dataiter = iter(trainloader)\n",
    "images, labels = dataiter.next()\n"
   ]
  },
  {
   "cell_type": "markdown",
   "metadata": {},
   "source": [
    "We have the training data loaded into `trainloader` and we make that an iterator with `iter(trainloader)`. We'd use this to loop through the dataset for training, but here I'm just grabbing the first batch so we can check out the data. We can see below that `images` is just a tensor with size (64, 1, 28, 28). So, 64 images per batch, 1 color channel, and 28x28 images."
   ]
  },
  {
   "cell_type": "code",
   "execution_count": 5,
   "metadata": {},
   "outputs": [
    {
     "data": {
      "image/png": "[encoded data removed]",
      "text/plain": [
       "<Figure size 432x288 with 1 Axes>"
      ]
     },
     "metadata": {
      "image/png": {
       "height": 248,
       "width": 251
      },
      "needs_background": "light"
     },
     "output_type": "display_data"
    }
   ],
   "source": [
    "plt.imshow(images[1].numpy().squeeze(), cmap='Greys_r');"
   ]
  },
  {
   "cell_type": "markdown",
   "metadata": {},
   "source": [
    "## Building networks with PyTorch\n",
    "\n",
    "Here I'll use PyTorch to build a simple feedfoward network to classify the MNIST images. That is, the network will receive a digit image as input and predict the digit in the image.\n",
    "\n",
    "<img src=\"assets/mlp_mnist.png\" width=600px>\n",
    "\n",
    "To build a neural network with PyTorch, you use the `torch.nn` module. The network itself is a class inheriting from `torch.nn.Module`. You define each of the operations separately, like `nn.Linear(784, 128)` for a fully connected linear layer with 784 inputs and 128 units.\n",
    "\n",
    "The class needs to include a `forward` method that implements the forward pass through the network. In this method, you pass some input tensor `x` through each of the operations you defined earlier. The `torch.nn` module also has functional equivalents for things like ReLUs in `torch.nn.functional`. This module is usually imported as `F`. Then to use a ReLU activation on some layer (which is just a tensor), you'd do `F.relu(x)`. Below are a few different commonly used activation functions.\n",
    "\n",
    "<img src=\"assets/activation.png\" width=700px>\n",
    "\n",
    "So, for this network, I'll build it with three fully connected layers, then a softmax output for predicting classes. The softmax function is similar to the sigmoid in that it squashes inputs between 0 and 1, but it's also normalized so that all the values sum to one like a proper probability distribution."
   ]
  },
  {
   "cell_type": "code",
   "execution_count": 6,
   "metadata": {},
   "outputs": [
    {
     "data": {
      "text/plain": [
       "Network(\n",
       "  (fc1): Linear(in_features=784, out_features=128, bias=True)\n",
       "  (fc2): Linear(in_features=128, out_features=64, bias=True)\n",
       "  (fc3): Linear(in_features=64, out_features=10, bias=True)\n",
       ")"
      ]
     },
     "execution_count": 6,
     "metadata": {},
     "output_type": "execute_result"
    }
   ],
   "source": [
    "class Network(nn.Module):\n",
    "    \n",
    "    # Defining the layers, 128, 64, 10 units each\n",
    "    def __init__(self):\n",
    "        super().__init__()\n",
    "        self.fc1 = nn.Linear(784, 128)\n",
    "        self.fc2 = nn.Linear(128, 64)\n",
    "        self.fc3 = nn.Linear(64, 10)\n",
    "        \n",
    "    # Forward pass through the network, returns the output logits\n",
    "    def forward(self, x):\n",
    "        x = self.fc1(x)\n",
    "        x = F.relu(x)\n",
    "        x = self.fc2(x)\n",
    "        x = F.relu(x)\n",
    "        x = self.fc3(x)\n",
    "        x = F.softmax(x, dim=1)\n",
    "        return x\n",
    "\n",
    "model = Network()\n",
    "model"
   ]
  },
  {
   "cell_type": "markdown",
   "metadata": {},
   "source": [
    "### Sequential API\n",
    "PyTorch provides a convenient way to build networks like this where a tensor is passed sequentially through operations, `nn.Sequential` ([documentation](https://pytorch.org/docs/master/nn.html#torch.nn.Sequential)). Using this to build the equivalent network:"
   ]
  },
  {
   "cell_type": "code",
   "execution_count": 7,
   "metadata": {},
   "outputs": [
    {
     "name": "stdout",
     "output_type": "stream",
     "text": [
      "Sequential(\n",
      "  (0): Linear(in_features=784, out_features=128, bias=True)\n",
      "  (1): ReLU()\n",
      "  (2): Linear(in_features=128, out_features=64, bias=True)\n",
      "  (3): ReLU()\n",
      "  (4): Linear(in_features=64, out_features=10, bias=True)\n",
      "  (5): Softmax(dim=1)\n",
      ")\n"
     ]
    }
   ],
   "source": [
    "# Hyperparameters for our network\n",
    "input_size   = 784\n",
    "hidden_sizes = [128, 64]\n",
    "output_size   = 10\n",
    "\n",
    "# Build a feed-forward network\n",
    "model = nn.Sequential(nn.Linear(input_size, hidden_sizes[0]),\n",
    "                      nn.ReLU(),\n",
    "                      nn.Linear(hidden_sizes[0], hidden_sizes[1]),\n",
    "                      nn.ReLU(),\n",
    "                      nn.Linear(hidden_sizes[1], output_size),\n",
    "                      nn.Softmax(dim=1))\n",
    "print(model)"
   ]
  },
  {
   "cell_type": "markdown",
   "metadata": {},
   "source": [
    "You can also pass in an `OrderedDict` to name the individual layers and operations. Note that a dictionary keys must be unique, so _each operation must have a different name_."
   ]
  },
  {
   "cell_type": "code",
   "execution_count": 8,
   "metadata": {},
   "outputs": [
    {
     "data": {
      "text/plain": [
       "Sequential(\n",
       "  (fc1): Linear(in_features=784, out_features=128, bias=True)\n",
       "  (relu1): ReLU()\n",
       "  (fc2): Linear(in_features=128, out_features=64, bias=True)\n",
       "  (relu2): ReLU()\n",
       "  (output): Linear(in_features=64, out_features=10, bias=True)\n",
       "  (softmax): Softmax(dim=1)\n",
       ")"
      ]
     },
     "execution_count": 8,
     "metadata": {},
     "output_type": "execute_result"
    }
   ],
   "source": [
    "model = nn.Sequential(OrderedDict([\n",
    "          ('fc1',   nn.Linear(input_size, hidden_sizes[0])),\n",
    "          ('relu1', nn.ReLU()),\n",
    "          ('fc2',   nn.Linear(hidden_sizes[0], hidden_sizes[1])),\n",
    "          ('relu2', nn.ReLU()),\n",
    "          ('output', nn.Linear(hidden_sizes[1], output_size)),\n",
    "          ('softmax', nn.Softmax(dim=1))]))\n",
    "model"
   ]
  },
  {
   "cell_type": "markdown",
   "metadata": {},
   "source": [
    "### Initializing weights and biases\n",
    "\n",
    "The weights and such are automatically initialized for you, but it's possible to customize how they are initialized. The weights and biases are tensors attached to the layer you defined, you can get them with `model.fc1.weight` for instance."
   ]
  },
  {
   "cell_type": "code",
   "execution_count": 9,
   "metadata": {},
   "outputs": [
    {
     "name": "stdout",
     "output_type": "stream",
     "text": [
      "Parameter containing:\n",
      "tensor([[ 0.0212, -0.0285,  0.0083,  ...,  0.0205, -0.0249,  0.0177],\n",
      "        [ 0.0311, -0.0157,  0.0024,  ...,  0.0262, -0.0247, -0.0161],\n",
      "        [ 0.0353,  0.0279,  0.0020,  ..., -0.0032,  0.0106, -0.0315],\n",
      "        ...,\n",
      "        [-0.0291, -0.0168,  0.0106,  ..., -0.0104, -0.0128, -0.0064],\n",
      "        [ 0.0297,  0.0216, -0.0026,  ...,  0.0032, -0.0236, -0.0176],\n",
      "        [-0.0167,  0.0018, -0.0095,  ..., -0.0057, -0.0217,  0.0186]],\n",
      "       requires_grad=True)\n",
      "Parameter containing:\n",
      "tensor([ 0.0047, -0.0088,  0.0056, -0.0303, -0.0295, -0.0016,  0.0102,  0.0065,\n",
      "         0.0127, -0.0313, -0.0264,  0.0012, -0.0244, -0.0064,  0.0335, -0.0156,\n",
      "         0.0135,  0.0061, -0.0296,  0.0208, -0.0270,  0.0102, -0.0271,  0.0292,\n",
      "         0.0346, -0.0061, -0.0131,  0.0106, -0.0353,  0.0290, -0.0009,  0.0333,\n",
      "        -0.0333, -0.0060,  0.0047,  0.0113, -0.0246,  0.0354, -0.0145, -0.0259,\n",
      "         0.0272, -0.0264,  0.0018,  0.0250, -0.0166,  0.0279, -0.0104, -0.0029,\n",
      "         0.0112, -0.0008, -0.0263,  0.0353,  0.0117, -0.0309, -0.0011, -0.0228,\n",
      "         0.0102, -0.0133,  0.0330, -0.0037,  0.0085, -0.0323, -0.0009, -0.0026,\n",
      "        -0.0293, -0.0147,  0.0205, -0.0163, -0.0246, -0.0210,  0.0329,  0.0339,\n",
      "        -0.0214,  0.0096, -0.0047,  0.0024,  0.0048, -0.0007, -0.0208,  0.0352,\n",
      "         0.0090, -0.0078,  0.0158, -0.0309, -0.0167,  0.0266,  0.0265, -0.0244,\n",
      "         0.0169, -0.0178,  0.0074, -0.0021,  0.0072, -0.0249, -0.0207, -0.0354,\n",
      "         0.0218, -0.0151, -0.0158, -0.0041,  0.0211,  0.0140, -0.0048, -0.0204,\n",
      "        -0.0104, -0.0184,  0.0277, -0.0200, -0.0273, -0.0024,  0.0150, -0.0182,\n",
      "        -0.0045,  0.0342, -0.0228,  0.0135,  0.0037, -0.0266, -0.0183,  0.0167,\n",
      "         0.0211,  0.0309,  0.0036, -0.0296,  0.0305, -0.0124, -0.0311, -0.0081],\n",
      "       requires_grad=True)\n"
     ]
    }
   ],
   "source": [
    "print(model.fc1.weight)\n",
    "print(model.fc1.bias)"
   ]
  },
  {
   "cell_type": "markdown",
   "metadata": {},
   "source": [
    "For custom initialization, we want to modify these tensors in place. These are actually autograd *Variables*, so we need to get back the actual tensors with `model.fc1.weight.data`. Once we have the tensors, we can fill them with zeros (for biases) or random normal values."
   ]
  },
  {
   "cell_type": "code",
   "execution_count": 10,
   "metadata": {},
   "outputs": [
    {
     "data": {
      "text/plain": [
       "tensor([0., 0., 0., 0., 0., 0., 0., 0., 0., 0., 0., 0., 0., 0., 0., 0., 0., 0., 0., 0., 0., 0., 0., 0.,\n",
       "        0., 0., 0., 0., 0., 0., 0., 0., 0., 0., 0., 0., 0., 0., 0., 0., 0., 0., 0., 0., 0., 0., 0., 0.,\n",
       "        0., 0., 0., 0., 0., 0., 0., 0., 0., 0., 0., 0., 0., 0., 0., 0., 0., 0., 0., 0., 0., 0., 0., 0.,\n",
       "        0., 0., 0., 0., 0., 0., 0., 0., 0., 0., 0., 0., 0., 0., 0., 0., 0., 0., 0., 0., 0., 0., 0., 0.,\n",
       "        0., 0., 0., 0., 0., 0., 0., 0., 0., 0., 0., 0., 0., 0., 0., 0., 0., 0., 0., 0., 0., 0., 0., 0.,\n",
       "        0., 0., 0., 0., 0., 0., 0., 0.])"
      ]
     },
     "execution_count": 10,
     "metadata": {},
     "output_type": "execute_result"
    }
   ],
   "source": [
    "# Set biases to all zeros\n",
    "model.fc1.bias.data.fill_(0)"
   ]
  },
  {
   "cell_type": "code",
   "execution_count": 11,
   "metadata": {},
   "outputs": [
    {
     "data": {
      "text/plain": [
       "tensor([[ 0.0011,  0.0049, -0.0030,  ...,  0.0078, -0.0047, -0.0045],\n",
       "        [-0.0005, -0.0209, -0.0159,  ..., -0.0052,  0.0008,  0.0012],\n",
       "        [-0.0115,  0.0009, -0.0024,  ...,  0.0061, -0.0059,  0.0062],\n",
       "        ...,\n",
       "        [-0.0065,  0.0053, -0.0025,  ...,  0.0059,  0.0033, -0.0022],\n",
       "        [-0.0177, -0.0078, -0.0093,  ...,  0.0178, -0.0102,  0.0036],\n",
       "        [-0.0029, -0.0119, -0.0025,  ..., -0.0019,  0.0071, -0.0006]])"
      ]
     },
     "execution_count": 11,
     "metadata": {},
     "output_type": "execute_result"
    }
   ],
   "source": [
    "# sample from random normal with standard dev = 0.01\n",
    "model.fc1.weight.data.normal_(std=0.01)"
   ]
  },
  {
   "cell_type": "markdown",
   "metadata": {},
   "source": [
    "### STEP 1: Forward pass\n",
    "\n",
    "Now that we have a network, let's see what happens when we pass in an image. This is called the forward pass. We're going to convert the image data into a tensor, then pass it through the operations defined by the network architecture."
   ]
  },
  {
   "cell_type": "code",
   "execution_count": 12,
   "metadata": {},
   "outputs": [
    {
     "data": {
      "image/png": "[encoded data removed]",
      "text/plain": [
       "<Figure size 432x648 with 2 Axes>"
      ]
     },
     "metadata": {
      "image/png": {
       "height": 195,
       "width": 349
      },
      "needs_background": "light"
     },
     "output_type": "display_data"
    }
   ],
   "source": [
    "# Grab some data \n",
    "dataiter = iter(trainloader)\n",
    "images, labels = dataiter.next()\n",
    "\n",
    "# Resize images into a 1D vector, new shape is (batch size, color channels, image pixels) \n",
    "images.resize_(64, 1, 784)\n",
    "# or images.resize_(images.shape[0], 1, 784) to not automatically get batch size\n",
    "\n",
    "# Forward pass through the network\n",
    "img_idx = 0\n",
    "ps = model.forward(images[img_idx,:])\n",
    "\n",
    "img = images[img_idx]\n",
    "view_classify(img.view(1, 28, 28), ps)"
   ]
  },
  {
   "cell_type": "markdown",
   "metadata": {},
   "source": [
    "As you can see above, our network has basically no idea what this digit is. It's because we haven't trained it yet, all the weights are random!"
   ]
  },
  {
   "cell_type": "markdown",
   "metadata": {},
   "source": [
    "# Training Neural Networks\n",
    "\n",
    "The network we built isn't so smart, it doesn't know anything about our handwritten digits. Neural networks with non-linear activations work like universal function approximators. There is some function that maps your input to the output. For example, images of handwritten digits to class probabilities. The power of neural networks is that we can train them to approximate this function, and basically any function given enough data and compute time.\n",
    "\n",
    "<img src=\"assets/function_approx.png\" width=500px>\n",
    "\n",
    "At first the network is naive, it doesn't know the function mapping the inputs to the outputs. We train the network by showing it examples of real data, then adjusting the network parameters such that it approximates this function.\n",
    "\n",
    "To find these parameters, we need to know how poorly the network is predicting the real outputs. For this we calculate a **loss function** (also called the cost), a measure of our prediction error. For example, the mean squared loss is often used in regression and binary classification problems\n",
    "\n",
    "$$\n",
    "\\ell = \\frac{1}{2n}\\sum_i^n{\\left(y_i - \\hat{y}_i\\right)^2}\n",
    "$$\n",
    "\n",
    "where $n$ is the number of training examples, $y_i$ are the true labels, and $\\hat{y}_i$ are the predicted labels.\n",
    "\n",
    "By minimizing this loss with respect to the network parameters, we can find configurations where the loss is at a minimum and the network is able to predict the correct labels with high accuracy. We find this minimum using a process called **gradient descent**. The gradient is the slope of the loss function and points in the direction of fastest change. To get to the minimum in the least amount of time, we then want to follow the gradient (downwards). You can think of this like descending a mountain by following the steepest slope to the base.\n",
    "\n",
    "<img src='assets/gradient_descent.png' width=350px>"
   ]
  },
  {
   "cell_type": "markdown",
   "metadata": {},
   "source": [
    "## Backpropagation\n",
    "\n",
    "For single layer networks, gradient descent is simple to implement. However, it's more complicated for deeper, multilayer neural networks like the one we've built. Complicated enough that it took about 30 years before researchers figured out how to train multilayer networks, although it's straightforward once you learn about it. \n",
    "\n",
    "This is done through **backpropagation** which is really just an application of the chain rule from calculus. It's easiest to understand if we convert a two layer network into a graph representation.\n",
    "\n",
    "<img src='assets/w1_backprop_graph.png' width=400px>\n",
    "\n",
    "In the forward pass through the network, our data and operations go from right to left here. To train the weights with gradient descent, we propagate the gradient of the cost backwards through the network. Mathematically, this is really just calculating the gradient of the loss with respect to the weights using the chain rule.\n",
    "\n",
    "$$\n",
    "\\frac{\\partial \\ell}{\\partial w_1} = \\frac{\\partial l_1}{\\partial w_1} \\frac{\\partial s}{\\partial l_1} \\frac{\\partial l_2}{\\partial s} \\frac{\\partial \\ell}{\\partial l_2}\n",
    "$$\n",
    "\n",
    "We update our weights using this gradient with some learning rate $\\alpha$. \n",
    "\n",
    "$$\n",
    "w^\\prime = w - \\alpha \\frac{\\partial \\ell}{\\partial w}\n",
    "$$\n",
    "\n",
    "The learning rate is set such that the weight update steps are small enough that the iterative method settles in a minimum.\n",
    "\n",
    "The first thing we need to do for training is define our loss function. In PyTorch, you'll usually see this as `criterion`. Here we're using softmax output, so we want to use `criterion = nn.CrossEntropyLoss()` as our loss. Later when training, you use `loss = criterion(output, targets)` to calculate the actual loss.\n",
    "\n",
    "We also need to define the optimizer we're using, SGD or Adam, or something along those lines. Here I'll just use SGD with `torch.optim.SGD`, passing in the network parameters and the learning rate."
   ]
  },
  {
   "cell_type": "markdown",
   "metadata": {},
   "source": [
    "## Autograd\n",
    "\n",
    "Torch provides a module, `autograd`, for automatically calculating the gradient of tensors. It does this by keeping track of operations performed on tensors. To make sure PyTorch keeps track of operations on a tensor and calculates the gradients, you need to set `requires_grad` on a tensor. You can do this at creation with the `requires_grad` keyword, or at any time with `x.requires_grad_(True)`.\n",
    "\n",
    "You can turn off gradients for a block of code with the `torch.no_grad()` content:\n",
    "```python\n",
    "x = torch.zeros(1, requires_grad=True)\n",
    ">>> with torch.no_grad():\n",
    "...     y = x * 2\n",
    ">>> y.requires_grad\n",
    "False\n",
    "```\n",
    "\n",
    "Also, you can turn on or off gradients altogether with `torch.set_grad_enabled(True|False)`.\n",
    "\n",
    "The gradients are computed with respect to some variable `z` with `z.backward()`. This does a backward pass through the operations that created `z`."
   ]
  },
  {
   "cell_type": "code",
   "execution_count": 13,
   "metadata": {},
   "outputs": [
    {
     "name": "stdout",
     "output_type": "stream",
     "text": [
      "tensor([[-0.2757,  0.9623],\n",
      "        [-0.4631,  1.2297]], requires_grad=True)\n"
     ]
    }
   ],
   "source": [
    "x = torch.randn(2,2, requires_grad=True)\n",
    "print(x)"
   ]
  },
  {
   "cell_type": "code",
   "execution_count": 14,
   "metadata": {},
   "outputs": [
    {
     "name": "stdout",
     "output_type": "stream",
     "text": [
      "tensor([[0.0760, 0.9261],\n",
      "        [0.2145, 1.5122]], grad_fn=<PowBackward0>)\n"
     ]
    }
   ],
   "source": [
    "y = x**2\n",
    "print(y)"
   ]
  },
  {
   "cell_type": "markdown",
   "metadata": {},
   "source": [
    "Below we can see the operation that created `y`, a power operation `PowBackward0`."
   ]
  },
  {
   "cell_type": "code",
   "execution_count": 15,
   "metadata": {},
   "outputs": [
    {
     "name": "stdout",
     "output_type": "stream",
     "text": [
      "<PowBackward0 object at 0x000002ED058E6E50>\n"
     ]
    }
   ],
   "source": [
    "## grad_fn shows the function that generated this variable\n",
    "print(y.grad_fn)"
   ]
  },
  {
   "cell_type": "markdown",
   "metadata": {},
   "source": [
    "The autgrad module keeps track of these operations and knows how to calculate the gradient for each one. In this way, it's able to calculate the gradients for a chain of operations, with respect to any one tensor. Let's reduce the tensor `y` to a scalar value, the mean."
   ]
  },
  {
   "cell_type": "code",
   "execution_count": 16,
   "metadata": {},
   "outputs": [
    {
     "name": "stdout",
     "output_type": "stream",
     "text": [
      "tensor(0.6822, grad_fn=<MeanBackward0>)\n"
     ]
    }
   ],
   "source": [
    "z = y.mean()\n",
    "print(z)"
   ]
  },
  {
   "cell_type": "markdown",
   "metadata": {},
   "source": [
    "You can check the gradients for `x` and `y` but they are empty currently."
   ]
  },
  {
   "cell_type": "code",
   "execution_count": 17,
   "metadata": {},
   "outputs": [
    {
     "name": "stdout",
     "output_type": "stream",
     "text": [
      "None\n"
     ]
    }
   ],
   "source": [
    "print(x.grad)"
   ]
  },
  {
   "cell_type": "markdown",
   "metadata": {},
   "source": [
    "To calculate the gradients, you need to run the `.backward` method on a Variable, `z` for example. This will calculate the gradient for `z` with respect to `x`\n",
    "\n",
    "$$\n",
    "\\frac{\\partial z}{\\partial x} = \\frac{\\partial}{\\partial x}\\left[\\frac{1}{n}\\sum_i^n x_i^2\\right] = \\frac{x}{2}\n",
    "$$"
   ]
  },
  {
   "cell_type": "code",
   "execution_count": 18,
   "metadata": {},
   "outputs": [
    {
     "name": "stdout",
     "output_type": "stream",
     "text": [
      "tensor([[-0.1379,  0.4812],\n",
      "        [-0.2315,  0.6148]])\n",
      "tensor([[-0.1379,  0.4812],\n",
      "        [-0.2315,  0.6148]], grad_fn=<DivBackward0>)\n"
     ]
    }
   ],
   "source": [
    "z.backward()\n",
    "print(x.grad)\n",
    "print(x/2)"
   ]
  },
  {
   "cell_type": "markdown",
   "metadata": {},
   "source": [
    "These gradients calculations are particularly useful for neural networks. For training we need the gradients of the weights with respect to the cost. With PyTorch, we run data forward through the network to calculate the cost, then, go backwards to calculate the gradients with respect to the cost. Once we have the gradients we can make a gradient descent step. "
   ]
  },
  {
   "cell_type": "markdown",
   "metadata": {},
   "source": [
    "I'll build a network with `nn.Sequential` here. Only difference from the last part is I'm not actually using softmax on the output, but instead just using the raw output from the last layer. This is because the output from softmax is a probability distribution. Often, the output will have values really close to zero or really close to one. Due to [inaccuracies with representing numbers as floating points](https://docs.python.org/3/tutorial/floatingpoint.html), computations with a softmax output can lose accuracy and become unstable. To get around this, we'll use the raw output, called the **logits**, to calculate the loss."
   ]
  },
  {
   "cell_type": "code",
   "execution_count": 19,
   "metadata": {},
   "outputs": [],
   "source": [
    "# Hyperparameters for our network\n",
    "input_size   = 784\n",
    "hidden_sizes = [128, 64]\n",
    "output_size  = 10\n",
    "\n",
    "# Build a feed-forward network\n",
    "model = nn.Sequential(OrderedDict([\n",
    "          ('fc1', nn.Linear(input_size, hidden_sizes[0])),\n",
    "          ('relu1', nn.ReLU()),\n",
    "          ('fc2', nn.Linear(hidden_sizes[0], hidden_sizes[1])),\n",
    "          ('relu2', nn.ReLU()),\n",
    "          ('logits', nn.Linear(hidden_sizes[1], output_size))]))"
   ]
  },
  {
   "cell_type": "markdown",
   "metadata": {},
   "source": [
    "## Training the network!\n",
    "\n",
    "The first thing we need to do for training is define our loss function. In PyTorch, you'll usually see this as `criterion`. Here we're using softmax output, so we want to use `criterion = nn.CrossEntropyLoss()` as our loss. Later when training, you use `loss = criterion(output, targets)` to calculate the actual loss.\n",
    "\n",
    "We also need to define the optimizer we're using, SGD or Adam, or something along those lines. Here I'll just use SGD with `torch.optim.SGD`, passing in the network parameters and the learning rate."
   ]
  },
  {
   "cell_type": "code",
   "execution_count": 20,
   "metadata": {},
   "outputs": [],
   "source": [
    "criterion = nn.CrossEntropyLoss()\n",
    "optimizer = optim.SGD(model.parameters(), lr=0.01)"
   ]
  },
  {
   "cell_type": "markdown",
   "metadata": {},
   "source": [
    "First, let's consider just one learning step before looping through all the data. The general process with PyTorch:\n",
    "\n",
    "* Make a forward pass through the network to get the logits \n",
    "* Use the logits to calculate the loss\n",
    "* Perform a backward pass through the network with `loss.backward()` to calculate the gradients\n",
    "* Take a step with the optimizer to update the weights\n",
    "\n",
    "Below I'll go through one training step and print out the weights and gradients so you can see how it changes."
   ]
  },
  {
   "cell_type": "code",
   "execution_count": 21,
   "metadata": {},
   "outputs": [
    {
     "name": "stdout",
     "output_type": "stream",
     "text": [
      "Initial weights -  Parameter containing:\n",
      "tensor([[ 0.0126, -0.0126,  0.0024,  ..., -0.0275, -0.0151, -0.0336],\n",
      "        [-0.0179, -0.0069, -0.0084,  ..., -0.0042,  0.0194,  0.0261],\n",
      "        [ 0.0320,  0.0105, -0.0300,  ..., -0.0304, -0.0094, -0.0230],\n",
      "        ...,\n",
      "        [ 0.0338,  0.0305,  0.0229,  ...,  0.0244,  0.0356,  0.0230],\n",
      "        [ 0.0119,  0.0320,  0.0285,  ..., -0.0198, -0.0335,  0.0048],\n",
      "        [ 0.0009,  0.0121,  0.0281,  ..., -0.0039, -0.0253, -0.0192]],\n",
      "       requires_grad=True)\n",
      "Gradient - tensor([[-0.0018, -0.0018, -0.0018,  ..., -0.0018, -0.0018, -0.0018],\n",
      "        [-0.0023, -0.0023, -0.0023,  ..., -0.0023, -0.0023, -0.0023],\n",
      "        [ 0.0005,  0.0005,  0.0005,  ...,  0.0005,  0.0005,  0.0005],\n",
      "        ...,\n",
      "        [-0.0003, -0.0003, -0.0003,  ..., -0.0003, -0.0003, -0.0003],\n",
      "        [ 0.0002,  0.0002,  0.0002,  ...,  0.0002,  0.0002,  0.0002],\n",
      "        [ 0.0006,  0.0006,  0.0006,  ...,  0.0006,  0.0006,  0.0006]])\n"
     ]
    }
   ],
   "source": [
    "print('Initial weights - ', model.fc1.weight)\n",
    "\n",
    "images, labels = next(iter(trainloader))\n",
    "images.resize_(64, 784)\n",
    "\n",
    "# Clear the gradients, do this because gradients are accumulated\n",
    "optimizer.zero_grad()\n",
    "\n",
    "# Forward pass, then backward pass, then update weights\n",
    "output = model.forward(images)\n",
    "loss = criterion(output, labels)\n",
    "loss.backward()\n",
    "print('Gradient -', model.fc1.weight.grad)\n",
    "optimizer.step()"
   ]
  },
  {
   "cell_type": "code",
   "execution_count": 22,
   "metadata": {},
   "outputs": [
    {
     "name": "stdout",
     "output_type": "stream",
     "text": [
      "Updated weights -  Parameter containing:\n",
      "tensor([[ 0.0126, -0.0126,  0.0024,  ..., -0.0274, -0.0150, -0.0335],\n",
      "        [-0.0179, -0.0069, -0.0084,  ..., -0.0042,  0.0195,  0.0261],\n",
      "        [ 0.0320,  0.0105, -0.0300,  ..., -0.0304, -0.0094, -0.0231],\n",
      "        ...,\n",
      "        [ 0.0338,  0.0305,  0.0229,  ...,  0.0244,  0.0356,  0.0230],\n",
      "        [ 0.0119,  0.0320,  0.0285,  ..., -0.0199, -0.0335,  0.0048],\n",
      "        [ 0.0009,  0.0121,  0.0281,  ..., -0.0039, -0.0253, -0.0192]],\n",
      "       requires_grad=True)\n"
     ]
    }
   ],
   "source": [
    "print('Updated weights - ', model.fc1.weight)"
   ]
  },
  {
   "cell_type": "markdown",
   "metadata": {},
   "source": [
    "### Training for real\n",
    "\n",
    "Now we'll put this algorithm into a loop so we can go through all the images. This is fairly straightforward. We'll loop through the mini-batches in our dataset, pass the data through the network to calculate the losses, get the gradients, then run the optimizer."
   ]
  },
  {
   "cell_type": "code",
   "execution_count": 23,
   "metadata": {},
   "outputs": [],
   "source": [
    "optimizer = optim.SGD(model.parameters(), lr=0.003)"
   ]
  },
  {
   "cell_type": "code",
   "execution_count": 24,
   "metadata": {},
   "outputs": [
    {
     "name": "stdout",
     "output_type": "stream",
     "text": [
      "Epoch: 1/3\n",
      "\tIteration: 0\t Loss: 0.0574\n",
      "\tIteration: 40\t Loss: 2.2791\n",
      "\tIteration: 80\t Loss: 2.2569\n",
      "\tIteration: 120\t Loss: 2.2351\n",
      "\tIteration: 160\t Loss: 2.2084\n",
      "\tIteration: 200\t Loss: 2.1867\n",
      "\tIteration: 240\t Loss: 2.1546\n",
      "\tIteration: 280\t Loss: 2.1214\n",
      "\tIteration: 320\t Loss: 2.0895\n",
      "\tIteration: 360\t Loss: 2.0501\n",
      "\tIteration: 400\t Loss: 2.0061\n",
      "\tIteration: 440\t Loss: 1.9728\n",
      "\tIteration: 480\t Loss: 1.9152\n",
      "\tIteration: 520\t Loss: 1.8590\n",
      "\tIteration: 560\t Loss: 1.7869\n",
      "\tIteration: 600\t Loss: 1.7138\n",
      "\tIteration: 640\t Loss: 1.6813\n",
      "\tIteration: 680\t Loss: 1.6161\n",
      "\tIteration: 720\t Loss: 1.5443\n",
      "\tIteration: 760\t Loss: 1.4783\n",
      "\tIteration: 800\t Loss: 1.4170\n",
      "\tIteration: 840\t Loss: 1.3598\n",
      "\tIteration: 880\t Loss: 1.3082\n",
      "\tIteration: 920\t Loss: 1.2524\n",
      "Epoch: 2/3\n",
      "\tIteration: 0\t Loss: 0.0265\n",
      "\tIteration: 40\t Loss: 1.1560\n",
      "\tIteration: 80\t Loss: 1.1135\n",
      "\tIteration: 120\t Loss: 1.0759\n",
      "\tIteration: 160\t Loss: 1.0551\n",
      "\tIteration: 200\t Loss: 0.9937\n",
      "\tIteration: 240\t Loss: 0.9479\n",
      "\tIteration: 280\t Loss: 0.9290\n",
      "\tIteration: 320\t Loss: 0.8928\n",
      "\tIteration: 360\t Loss: 0.8570\n",
      "\tIteration: 400\t Loss: 0.8202\n",
      "\tIteration: 440\t Loss: 0.8114\n",
      "\tIteration: 480\t Loss: 0.7534\n",
      "\tIteration: 520\t Loss: 0.7553\n",
      "\tIteration: 560\t Loss: 0.7110\n",
      "\tIteration: 600\t Loss: 0.7144\n",
      "\tIteration: 640\t Loss: 0.7080\n",
      "\tIteration: 680\t Loss: 0.6699\n",
      "\tIteration: 720\t Loss: 0.6843\n",
      "\tIteration: 760\t Loss: 0.6493\n",
      "\tIteration: 800\t Loss: 0.6202\n",
      "\tIteration: 840\t Loss: 0.5998\n",
      "\tIteration: 880\t Loss: 0.6377\n",
      "\tIteration: 920\t Loss: 0.6107\n",
      "Epoch: 3/3\n",
      "\tIteration: 0\t Loss: 0.0143\n",
      "\tIteration: 40\t Loss: 0.5855\n",
      "\tIteration: 80\t Loss: 0.5583\n",
      "\tIteration: 120\t Loss: 0.5644\n",
      "\tIteration: 160\t Loss: 0.5671\n",
      "\tIteration: 200\t Loss: 0.5503\n",
      "\tIteration: 240\t Loss: 0.5522\n",
      "\tIteration: 280\t Loss: 0.5216\n",
      "\tIteration: 320\t Loss: 0.5237\n",
      "\tIteration: 360\t Loss: 0.5204\n",
      "\tIteration: 400\t Loss: 0.4977\n",
      "\tIteration: 440\t Loss: 0.5040\n",
      "\tIteration: 480\t Loss: 0.5058\n",
      "\tIteration: 520\t Loss: 0.5174\n",
      "\tIteration: 560\t Loss: 0.4836\n",
      "\tIteration: 600\t Loss: 0.4902\n",
      "\tIteration: 640\t Loss: 0.4799\n",
      "\tIteration: 680\t Loss: 0.4756\n",
      "\tIteration: 720\t Loss: 0.4865\n",
      "\tIteration: 760\t Loss: 0.4803\n",
      "\tIteration: 800\t Loss: 0.4662\n",
      "\tIteration: 840\t Loss: 0.4824\n",
      "\tIteration: 880\t Loss: 0.4701\n",
      "\tIteration: 920\t Loss: 0.4770\n"
     ]
    }
   ],
   "source": [
    "epochs = 3\n",
    "print_every = 40\n",
    "\n",
    "for e in range(epochs):\n",
    "    running_loss = 0\n",
    "    print(f\"Epoch: {e+1}/{epochs}\")\n",
    "\n",
    "    for i, (images, labels) in enumerate(iter(trainloader)):\n",
    "\n",
    "        # Flatten MNIST images into a 784 long vector\n",
    "        images.resize_(images.size()[0], 784)\n",
    "        \n",
    "        optimizer.zero_grad()\n",
    "        \n",
    "        output = model.forward(images)   # 1) Forward pass\n",
    "        loss = criterion(output, labels) # 2) Compute loss\n",
    "        loss.backward()                  # 3) Backward pass\n",
    "        optimizer.step()                 # 4) Update model\n",
    "        \n",
    "        running_loss += loss.item()\n",
    "        \n",
    "        if i % print_every == 0:\n",
    "            print(f\"\\tIteration: {i}\\t Loss: {running_loss/print_every:.4f}\")\n",
    "            running_loss = 0"
   ]
  },
  {
   "cell_type": "markdown",
   "metadata": {},
   "source": [
    "With the network trained, we can check out it's predictions."
   ]
  },
  {
   "cell_type": "code",
   "execution_count": 25,
   "metadata": {},
   "outputs": [
    {
     "data": {
      "image/png": "[encoded data removed]",
      "text/plain": [
       "<Figure size 432x648 with 2 Axes>"
      ]
     },
     "metadata": {
      "image/png": {
       "height": 195,
       "width": 349
      },
      "needs_background": "light"
     },
     "output_type": "display_data"
    }
   ],
   "source": [
    "images, labels = next(iter(trainloader))\n",
    "\n",
    "img = images[0].view(1, 784)\n",
    "# Turn off gradients to speed up this part\n",
    "with torch.no_grad():\n",
    "    logits = model.forward(img)\n",
    "\n",
    "# Output of the network are logits, need to take softmax for probabilities\n",
    "ps = F.softmax(logits, dim=1)\n",
    "view_classify(img.view(1, 28, 28), ps)"
   ]
  },
  {
   "cell_type": "markdown",
   "metadata": {},
   "source": [
    "Now our network is brilliant. It can accurately predict the digits in our images."
   ]
  },
  {
   "cell_type": "markdown",
   "metadata": {},
   "source": [
    "<div style=\"background:#222222; color:#ffffff; padding:20px\">\n",
    "    <h2 align=\"center\" style=\"color:#01ff84\">MNIST Clasification: Exercise</h2>\n",
    "<div>"
   ]
  },
  {
   "cell_type": "markdown",
   "metadata": {},
   "source": [
    "<div style=\"background:#222222; color:#ffffff; padding:20px\">\n",
    "  <h3 style=\"color:#01ff84; margin-top:4px\">Exercise 1:</h3>\n",
    "  <p>Now it's your turn to build a simple network, use any method I've covered so far. In the next notebook, you'll learn how to train a network so it can make good predictions.</p>\n",
    "  <p>Build a network to classify the MNIST images with 3 hidden layers. Use 400 units in the first hidden layer, 200 units in the second layer, and 100 units in the third layer. Each hidden layer should have a ReLU activation function, and use softmax on the output layer.</p>\n",
    "<div>"
   ]
  },
  {
   "cell_type": "code",
   "execution_count": 26,
   "metadata": {},
   "outputs": [
    {
     "data": {
      "text/plain": [
       "Network(\n",
       "  (fc1): Linear(in_features=784, out_features=400, bias=True)\n",
       "  (fc2): Linear(in_features=400, out_features=200, bias=True)\n",
       "  (fc3): Linear(in_features=200, out_features=100, bias=True)\n",
       "  (fc4): Linear(in_features=100, out_features=10, bias=True)\n",
       ")"
      ]
     },
     "execution_count": 26,
     "metadata": {},
     "output_type": "execute_result"
    }
   ],
   "source": [
    "## TODO: Your network here\n",
    "\n",
    "class Network(nn.Module):\n",
    "    def __init__(self, input_size, hidden_layer1, hidden_layer2, hidden_layer3, output_layer):\n",
    "        super().__init__()\n",
    "        self.fc1 = nn.Linear(input_size, hidden_layer1)\n",
    "        self.fc2 = nn.Linear(hidden_layer1, hidden_layer2)\n",
    "        self.fc3 = nn.Linear(hidden_layer2, hidden_layer3)\n",
    "        self.fc4 = nn.Linear(hidden_layer3, output_layer)\n",
    "\n",
    "    def forward(self, x):\n",
    "        layer1 = self.fc1(x)\n",
    "        act1 = F.relu(layer1)\n",
    "        layer2 = self.fc2(act1)\n",
    "        act2 = F.relu(layer2)\n",
    "        layer3 = self.fc3(act2)\n",
    "        act3 = F.relu(layer3)\n",
    "        layer4 = self.fc4(act3)\n",
    "        output = F.softmax(layer4, dim=1)\n",
    "        return output\n",
    "        \n",
    "\n",
    "\n",
    "model = Network(784, 400, 200, 100, 10)\n",
    "model"
   ]
  },
  {
   "cell_type": "code",
   "execution_count": 27,
   "metadata": {},
   "outputs": [
    {
     "name": "stdout",
     "output_type": "stream",
     "text": [
      "Initial weights -  Parameter containing:\n",
      "tensor([[-0.0018, -0.0183,  0.0202,  ..., -0.0256,  0.0080,  0.0313],\n",
      "        [ 0.0227,  0.0254, -0.0006,  ...,  0.0106,  0.0331,  0.0123],\n",
      "        [ 0.0229,  0.0309, -0.0106,  ...,  0.0313,  0.0201,  0.0075],\n",
      "        ...,\n",
      "        [ 0.0119,  0.0197,  0.0183,  ...,  0.0152,  0.0187,  0.0343],\n",
      "        [-0.0109,  0.0026,  0.0255,  ...,  0.0183, -0.0007, -0.0162],\n",
      "        [ 0.0033,  0.0310, -0.0139,  ...,  0.0007, -0.0315, -0.0083]],\n",
      "       requires_grad=True)\n",
      "Gradient - tensor([[ 9.1368e-06,  9.1368e-06,  9.1368e-06,  ...,  9.1369e-06,\n",
      "          9.1369e-06,  9.1369e-06],\n",
      "        [-3.6037e-05, -3.6037e-05, -3.6037e-05,  ..., -3.6037e-05,\n",
      "         -3.6037e-05, -3.6037e-05],\n",
      "        [ 5.4343e-05,  5.4343e-05,  5.4343e-05,  ...,  5.4343e-05,\n",
      "          5.4343e-05,  5.4343e-05],\n",
      "        ...,\n",
      "        [-2.6326e-05, -2.6326e-05, -2.6326e-05,  ..., -2.6326e-05,\n",
      "         -2.6326e-05, -2.6326e-05],\n",
      "        [ 4.8354e-05,  4.8354e-05,  4.8354e-05,  ...,  4.8354e-05,\n",
      "          4.8354e-05,  4.8354e-05],\n",
      "        [-4.8060e-05, -4.8060e-05, -4.8060e-05,  ..., -4.8060e-05,\n",
      "         -4.8060e-05, -4.8060e-05]])\n"
     ]
    }
   ],
   "source": [
    "print('Initial weights - ', model.fc1.weight)\n",
    "\n",
    "images, labels = next(iter(trainloader))\n",
    "images.resize_(64, 784)\n",
    "\n",
    "# Clear the gradients, do this because gradients are accumulated\n",
    "optimizer.zero_grad()\n",
    "\n",
    "# Forward pass, then backward pass, then update weights\n",
    "output = model.forward(images)\n",
    "loss = criterion(output, labels)\n",
    "loss.backward()\n",
    "print('Gradient -', model.fc1.weight.grad)\n",
    "optimizer.step()"
   ]
  },
  {
   "cell_type": "code",
   "execution_count": 28,
   "metadata": {},
   "outputs": [
    {
     "data": {
      "image/png": "[encoded data removed]",
      "text/plain": [
       "<Figure size 432x648 with 2 Axes>"
      ]
     },
     "metadata": {
      "image/png": {
       "height": 195,
       "width": 349
      },
      "needs_background": "light"
     },
     "output_type": "display_data"
    }
   ],
   "source": [
    "# Run this cell with your model to make sure it works\n",
    "# Forward pass through the network and display output\n",
    "images, labels = next(iter(trainloader))\n",
    "images.resize_(images.shape[0], 1, 784)\n",
    "ps = model.forward(images[0,:])\n",
    "view_classify(images[0].view(1, 28, 28), ps)"
   ]
  },
  {
   "cell_type": "markdown",
   "metadata": {},
   "source": [
    "<div style=\"background:#222222; color:#ffffff; padding:20px\">\n",
    "  <h3 style=\"color:#01ff84; margin-top:4px\">Exercise 2:</h3>\n",
    "  <p>Train your network implementing the Pytorch training loop and <strong style=\"color:#01ff84\">after each epoch, use the model for predicting the test (validation) MNIST data.</strong></p>\n",
    "  <p>Note: If your model does not fit with the final softmax layer, you can remove this layer.</p>\n",
    "  <p>Hint: <a href=\"https://discuss.pytorch.org/t/training-loop-checking-validation-accuracy/78399\">Training loop checking validation accuracy\n",
    "</a></p>\n",
    "  <p>Research about <code>model.train()</code>, <code>model.eval()</code> and <code>with torch.no_grad()</code> in Pytorch.\n",
    "<div>"
   ]
  },
  {
   "cell_type": "code",
   "execution_count": 34,
   "metadata": {},
   "outputs": [],
   "source": [
    "model = nn.Sequential(OrderedDict([\n",
    "          ('fc11', nn.Linear(784, 400)),\n",
    "          ('relu11', nn.ReLU()),\n",
    "          ('fc22', nn.Linear(400, 200)),\n",
    "          ('relu22', nn.ReLU()),\n",
    "          ('fc33', nn.Linear(200,100)),\n",
    "          ('relu33', nn.ReLU()),\n",
    "          ('logits1', nn.Linear(100, 10))]))"
   ]
  },
  {
   "cell_type": "code",
   "execution_count": 38,
   "metadata": {},
   "outputs": [],
   "source": [
    "\n",
    "\n",
    "\n",
    "optimizer = optim.Adam(model.parameters(), lr=0.001)"
   ]
  },
  {
   "cell_type": "code",
   "execution_count": null,
   "metadata": {},
   "outputs": [],
   "source": []
  },
  {
   "cell_type": "code",
   "execution_count": 45,
   "metadata": {},
   "outputs": [
    {
     "name": "stdout",
     "output_type": "stream",
     "text": [
      "Epoch: 1/6\n",
      "\tIteration: 0\t Loss: 0.0017\n",
      "\tIteration: 40\t Loss: 0.0853\n",
      "\tIteration: 80\t Loss: 0.0917\n",
      "\tIteration: 120\t Loss: 0.0852\n",
      "\tIteration: 160\t Loss: 0.0700\n",
      "\tIteration: 200\t Loss: 0.1002\n",
      "\tIteration: 240\t Loss: 0.0603\n",
      "\tIteration: 280\t Loss: 0.0636\n",
      "\tIteration: 320\t Loss: 0.0773\n",
      "\tIteration: 360\t Loss: 0.0561\n",
      "\tIteration: 400\t Loss: 0.0866\n",
      "\tIteration: 440\t Loss: 0.0793\n",
      "\tIteration: 480\t Loss: 0.0525\n",
      "\tIteration: 520\t Loss: 0.0490\n",
      "\tIteration: 560\t Loss: 0.0846\n",
      "\tIteration: 600\t Loss: 0.0645\n",
      "\tIteration: 640\t Loss: 0.0486\n",
      "\tIteration: 680\t Loss: 0.0535\n",
      "\tIteration: 720\t Loss: 0.0658\n",
      "\tIteration: 760\t Loss: 0.0660\n",
      "\tIteration: 800\t Loss: 0.0584\n",
      "\tIteration: 840\t Loss: 0.0616\n",
      "\tIteration: 880\t Loss: 0.0548\n",
      "\tIteration: 920\t Loss: 0.0570\n",
      "Epoch: 2/6\n",
      "\tIteration: 0\t Loss: 0.0004\n",
      "\tIteration: 40\t Loss: 0.0552\n",
      "\tIteration: 80\t Loss: 0.0405\n",
      "\tIteration: 120\t Loss: 0.0480\n",
      "\tIteration: 160\t Loss: 0.0525\n",
      "\tIteration: 200\t Loss: 0.0488\n",
      "\tIteration: 240\t Loss: 0.0608\n",
      "\tIteration: 280\t Loss: 0.0570\n",
      "\tIteration: 320\t Loss: 0.0539\n",
      "\tIteration: 360\t Loss: 0.0833\n",
      "\tIteration: 400\t Loss: 0.0633\n",
      "\tIteration: 440\t Loss: 0.0494\n",
      "\tIteration: 480\t Loss: 0.0513\n",
      "\tIteration: 520\t Loss: 0.0491\n",
      "\tIteration: 560\t Loss: 0.0386\n",
      "\tIteration: 600\t Loss: 0.0473\n",
      "\tIteration: 640\t Loss: 0.0488\n",
      "\tIteration: 680\t Loss: 0.0663\n",
      "\tIteration: 720\t Loss: 0.0689\n",
      "\tIteration: 760\t Loss: 0.0659\n",
      "\tIteration: 800\t Loss: 0.0578\n",
      "\tIteration: 840\t Loss: 0.0704\n",
      "\tIteration: 880\t Loss: 0.0727\n",
      "\tIteration: 920\t Loss: 0.0629\n",
      "Epoch: 3/6\n",
      "\tIteration: 0\t Loss: 0.0029\n",
      "\tIteration: 40\t Loss: 0.0483\n",
      "\tIteration: 80\t Loss: 0.0400\n",
      "\tIteration: 120\t Loss: 0.0350\n",
      "\tIteration: 160\t Loss: 0.0382\n",
      "\tIteration: 200\t Loss: 0.0310\n",
      "\tIteration: 240\t Loss: 0.0459\n",
      "\tIteration: 280\t Loss: 0.0348\n",
      "\tIteration: 320\t Loss: 0.0343\n",
      "\tIteration: 360\t Loss: 0.0456\n",
      "\tIteration: 400\t Loss: 0.0404\n",
      "\tIteration: 440\t Loss: 0.0537\n",
      "\tIteration: 480\t Loss: 0.0427\n",
      "\tIteration: 520\t Loss: 0.0447\n",
      "\tIteration: 560\t Loss: 0.0440\n",
      "\tIteration: 600\t Loss: 0.0500\n",
      "\tIteration: 640\t Loss: 0.0440\n",
      "\tIteration: 680\t Loss: 0.0547\n",
      "\tIteration: 720\t Loss: 0.0381\n",
      "\tIteration: 760\t Loss: 0.0258\n",
      "\tIteration: 800\t Loss: 0.0570\n",
      "\tIteration: 840\t Loss: 0.0588\n",
      "\tIteration: 880\t Loss: 0.0597\n",
      "\tIteration: 920\t Loss: 0.0505\n",
      "Epoch: 4/6\n",
      "\tIteration: 0\t Loss: 0.0007\n",
      "\tIteration: 40\t Loss: 0.0375\n",
      "\tIteration: 80\t Loss: 0.0401\n",
      "\tIteration: 120\t Loss: 0.0407\n",
      "\tIteration: 160\t Loss: 0.0434\n",
      "\tIteration: 200\t Loss: 0.0390\n",
      "\tIteration: 240\t Loss: 0.0479\n",
      "\tIteration: 280\t Loss: 0.0384\n",
      "\tIteration: 320\t Loss: 0.0300\n",
      "\tIteration: 360\t Loss: 0.0703\n",
      "\tIteration: 400\t Loss: 0.0451\n",
      "\tIteration: 440\t Loss: 0.0414\n",
      "\tIteration: 480\t Loss: 0.0432\n",
      "\tIteration: 520\t Loss: 0.0377\n",
      "\tIteration: 560\t Loss: 0.0469\n",
      "\tIteration: 600\t Loss: 0.0426\n",
      "\tIteration: 640\t Loss: 0.0414\n",
      "\tIteration: 680\t Loss: 0.0365\n",
      "\tIteration: 720\t Loss: 0.0373\n",
      "\tIteration: 760\t Loss: 0.0370\n",
      "\tIteration: 800\t Loss: 0.0513\n",
      "\tIteration: 840\t Loss: 0.0493\n",
      "\tIteration: 880\t Loss: 0.0464\n",
      "\tIteration: 920\t Loss: 0.0477\n",
      "Epoch: 5/6\n",
      "\tIteration: 0\t Loss: 0.0006\n",
      "\tIteration: 40\t Loss: 0.0358\n",
      "\tIteration: 80\t Loss: 0.0317\n",
      "\tIteration: 120\t Loss: 0.0322\n",
      "\tIteration: 160\t Loss: 0.0416\n",
      "\tIteration: 200\t Loss: 0.0369\n",
      "\tIteration: 240\t Loss: 0.0290\n",
      "\tIteration: 280\t Loss: 0.0374\n",
      "\tIteration: 320\t Loss: 0.0259\n",
      "\tIteration: 360\t Loss: 0.0416\n",
      "\tIteration: 400\t Loss: 0.0332\n",
      "\tIteration: 440\t Loss: 0.0317\n",
      "\tIteration: 480\t Loss: 0.0497\n",
      "\tIteration: 520\t Loss: 0.0434\n",
      "\tIteration: 560\t Loss: 0.0497\n",
      "\tIteration: 600\t Loss: 0.0379\n",
      "\tIteration: 640\t Loss: 0.0531\n",
      "\tIteration: 680\t Loss: 0.0572\n",
      "\tIteration: 720\t Loss: 0.0399\n",
      "\tIteration: 760\t Loss: 0.0295\n",
      "\tIteration: 800\t Loss: 0.0259\n",
      "\tIteration: 840\t Loss: 0.0367\n",
      "\tIteration: 880\t Loss: 0.0386\n",
      "\tIteration: 920\t Loss: 0.0496\n",
      "Epoch: 6/6\n",
      "\tIteration: 0\t Loss: 0.0016\n",
      "\tIteration: 40\t Loss: 0.0367\n",
      "\tIteration: 80\t Loss: 0.0254\n",
      "\tIteration: 120\t Loss: 0.0248\n",
      "\tIteration: 160\t Loss: 0.0269\n",
      "\tIteration: 200\t Loss: 0.0188\n",
      "\tIteration: 240\t Loss: 0.0424\n",
      "\tIteration: 280\t Loss: 0.0330\n",
      "\tIteration: 320\t Loss: 0.0361\n",
      "\tIteration: 360\t Loss: 0.0298\n",
      "\tIteration: 400\t Loss: 0.0362\n",
      "\tIteration: 440\t Loss: 0.0404\n",
      "\tIteration: 480\t Loss: 0.0310\n",
      "\tIteration: 520\t Loss: 0.0473\n",
      "\tIteration: 560\t Loss: 0.0340\n",
      "\tIteration: 600\t Loss: 0.0382\n",
      "\tIteration: 640\t Loss: 0.0493\n",
      "\tIteration: 680\t Loss: 0.0448\n",
      "\tIteration: 720\t Loss: 0.0407\n",
      "\tIteration: 760\t Loss: 0.0478\n",
      "\tIteration: 800\t Loss: 0.0471\n",
      "\tIteration: 840\t Loss: 0.0371\n",
      "\tIteration: 880\t Loss: 0.0470\n",
      "\tIteration: 920\t Loss: 0.0465\n"
     ]
    }
   ],
   "source": [
    "## TODO: Your training loop here\n",
    "epochs = 6\n",
    "print_every = 40\n",
    "\n",
    "for e in range(epochs):\n",
    "    running_loss = 0\n",
    "    print(f\"Epoch: {e+1}/{epochs}\")\n",
    "\n",
    "    for i, (images, labels) in enumerate(iter(trainloader)):\n",
    "\n",
    "        # Flatten MNIST images into a 784 long vector\n",
    "        images.resize_(images.size()[0], 784)\n",
    "        \n",
    "        optimizer.zero_grad()\n",
    "        \n",
    "        output = model.forward(images)   # 1) Forward pass\n",
    "        loss = criterion(output, labels) # 2) Compute loss\n",
    "        loss.backward()                  # 3) Backward pass\n",
    "        optimizer.step()                 # 4) Update model\n",
    "        \n",
    "        running_loss += loss.item()\n",
    "        \n",
    "        if i % print_every == 0:\n",
    "            print(f\"\\tIteration: {i}\\t Loss: {running_loss/print_every:.4f}\")\n",
    "            running_loss = 0\n",
    "\n"
   ]
  },
  {
   "cell_type": "code",
   "execution_count": 54,
   "metadata": {},
   "outputs": [
    {
     "data": {
      "image/png": "[encoded data removed]",
      "text/plain": [
       "<Figure size 432x648 with 2 Axes>"
      ]
     },
     "metadata": {
      "image/png": {
       "height": 195,
       "width": 349
      },
      "needs_background": "light"
     },
     "output_type": "display_data"
    }
   ],
   "source": [
    "# Run this cell with your model to make sure it works and predicts well for the validation data\n",
    "images, labels = next(iter(testloader))\n",
    "images.resize_(images.shape[0], 1, 784)\n",
    "with torch.no_grad():\n",
    "    logits = model.forward(images[0,:])\n",
    "ps = F.softmax(logits, dim=1)\n",
    "view_classify(images[0].view(1, 28, 28), ps)"
   ]
  },
  {
   "cell_type": "markdown",
   "metadata": {},
   "source": [
    "<div style=\"background:#222222; color:#ffffff; padding:20px\">\n",
    "  <h3 style=\"color:#01ff84; margin-top:4px\">Exercise 3:</h3>\n",
    "  <p>Write the code for adding <strong style=\"color:#01ff84\">Early Stopping with patience = 2</strong> to the training loop from scratch.</p>\n",
    "  <p><strong style=\"color:#01ff84\">Hint:</strong> Monitor the Validation loss every epoch, and if in 2 epochs, the validation loss does not improve, stop the training loop with <code>break</code>.</p>\n",
    "<div>"
   ]
  }
 ],
 "metadata": {
  "kernelspec": {
   "display_name": "Python 3.10.7 64-bit",
   "language": "python",
   "name": "python3"
  },
  "language_info": {
   "codemirror_mode": {
    "name": "ipython",
    "version": 3
   },
   "file_extension": ".py",
   "mimetype": "text/x-python",
   "name": "python",
   "nbconvert_exporter": "python",
   "pygments_lexer": "ipython3",
   "version": "3.10.7"
  },
  "vscode": {
   "interpreter": {
    "hash": "26de051ba29f2982a8de78e945f0abaf191376122a1563185a90213a26c5da77"
   }
  }
 },
 "nbformat": 4,
 "nbformat_minor": 2
}
