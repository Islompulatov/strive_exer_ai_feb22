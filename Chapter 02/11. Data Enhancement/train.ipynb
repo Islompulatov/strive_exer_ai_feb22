{
 "cells": [
  {
   "cell_type": "code",
   "execution_count": 49,
   "metadata": {},
   "outputs": [],
   "source": [
    "import numpy    as np\n",
    "from numpy.testing._private.utils import decorate_methods\n",
    "import pandas   as pd\n",
    "import seaborn  as sb\n",
    "import matplotlib.pyplot as plt\n",
    "import sklearn  as skl\n",
    "import time\n",
    "\n",
    "from sklearn import pipeline      # Pipeline\n",
    "from sklearn import preprocessing # OrdinalEncoder, LabelEncoder\n",
    "from sklearn import impute\n",
    "from sklearn import compose\n",
    "from sklearn import model_selection # train_test_split\n",
    "from sklearn import metrics         # accuracy_score, balanced_accuracy_score, plot_confusion_matrix\n",
    "from sklearn import set_config\n",
    "\n",
    "from sklearn.tree          import DecisionTreeRegressor\n",
    "from sklearn.ensemble      import RandomForestRegressor\n",
    "from sklearn.ensemble      import ExtraTreesRegressor\n",
    "from sklearn.ensemble      import AdaBoostRegressor\n",
    "from sklearn.ensemble      import GradientBoostingRegressor\n",
    "from xgboost               import XGBRegressor\n",
    "from lightgbm              import LGBMRegressor\n",
    "from catboost              import CatBoostRegressor\n",
    "from sklearn.linear_model import LogisticRegression"
   ]
  },
  {
   "cell_type": "code",
   "execution_count": 50,
   "metadata": {},
   "outputs": [
    {
     "data": {
      "text/html": [
       "<div>\n",
       "<style scoped>\n",
       "    .dataframe tbody tr th:only-of-type {\n",
       "        vertical-align: middle;\n",
       "    }\n",
       "\n",
       "    .dataframe tbody tr th {\n",
       "        vertical-align: top;\n",
       "    }\n",
       "\n",
       "    .dataframe thead th {\n",
       "        text-align: right;\n",
       "    }\n",
       "</style>\n",
       "<table border=\"1\" class=\"dataframe\">\n",
       "  <thead>\n",
       "    <tr style=\"text-align: right;\">\n",
       "      <th></th>\n",
       "      <th>timestamp</th>\n",
       "      <th>cnt</th>\n",
       "      <th>t1</th>\n",
       "      <th>t2</th>\n",
       "      <th>hum</th>\n",
       "      <th>wind_speed</th>\n",
       "      <th>weather_code</th>\n",
       "      <th>is_holiday</th>\n",
       "      <th>is_weekend</th>\n",
       "      <th>season</th>\n",
       "    </tr>\n",
       "  </thead>\n",
       "  <tbody>\n",
       "    <tr>\n",
       "      <th>0</th>\n",
       "      <td>2015-01-04 00:00:00</td>\n",
       "      <td>182</td>\n",
       "      <td>3.0</td>\n",
       "      <td>2.0</td>\n",
       "      <td>93.0</td>\n",
       "      <td>6.0</td>\n",
       "      <td>3.0</td>\n",
       "      <td>0.0</td>\n",
       "      <td>1.0</td>\n",
       "      <td>3.0</td>\n",
       "    </tr>\n",
       "    <tr>\n",
       "      <th>1</th>\n",
       "      <td>2015-01-04 01:00:00</td>\n",
       "      <td>138</td>\n",
       "      <td>3.0</td>\n",
       "      <td>2.5</td>\n",
       "      <td>93.0</td>\n",
       "      <td>5.0</td>\n",
       "      <td>1.0</td>\n",
       "      <td>0.0</td>\n",
       "      <td>1.0</td>\n",
       "      <td>3.0</td>\n",
       "    </tr>\n",
       "    <tr>\n",
       "      <th>2</th>\n",
       "      <td>2015-01-04 02:00:00</td>\n",
       "      <td>134</td>\n",
       "      <td>2.5</td>\n",
       "      <td>2.5</td>\n",
       "      <td>96.5</td>\n",
       "      <td>0.0</td>\n",
       "      <td>1.0</td>\n",
       "      <td>0.0</td>\n",
       "      <td>1.0</td>\n",
       "      <td>3.0</td>\n",
       "    </tr>\n",
       "    <tr>\n",
       "      <th>3</th>\n",
       "      <td>2015-01-04 03:00:00</td>\n",
       "      <td>72</td>\n",
       "      <td>2.0</td>\n",
       "      <td>2.0</td>\n",
       "      <td>100.0</td>\n",
       "      <td>0.0</td>\n",
       "      <td>1.0</td>\n",
       "      <td>0.0</td>\n",
       "      <td>1.0</td>\n",
       "      <td>3.0</td>\n",
       "    </tr>\n",
       "    <tr>\n",
       "      <th>4</th>\n",
       "      <td>2015-01-04 04:00:00</td>\n",
       "      <td>47</td>\n",
       "      <td>2.0</td>\n",
       "      <td>0.0</td>\n",
       "      <td>93.0</td>\n",
       "      <td>6.5</td>\n",
       "      <td>1.0</td>\n",
       "      <td>0.0</td>\n",
       "      <td>1.0</td>\n",
       "      <td>3.0</td>\n",
       "    </tr>\n",
       "  </tbody>\n",
       "</table>\n",
       "</div>"
      ],
      "text/plain": [
       "             timestamp  cnt   t1   t2    hum  wind_speed  weather_code  \\\n",
       "0  2015-01-04 00:00:00  182  3.0  2.0   93.0         6.0           3.0   \n",
       "1  2015-01-04 01:00:00  138  3.0  2.5   93.0         5.0           1.0   \n",
       "2  2015-01-04 02:00:00  134  2.5  2.5   96.5         0.0           1.0   \n",
       "3  2015-01-04 03:00:00   72  2.0  2.0  100.0         0.0           1.0   \n",
       "4  2015-01-04 04:00:00   47  2.0  0.0   93.0         6.5           1.0   \n",
       "\n",
       "   is_holiday  is_weekend  season  \n",
       "0         0.0         1.0     3.0  \n",
       "1         0.0         1.0     3.0  \n",
       "2         0.0         1.0     3.0  \n",
       "3         0.0         1.0     3.0  \n",
       "4         0.0         1.0     3.0  "
      ]
     },
     "execution_count": 50,
     "metadata": {},
     "output_type": "execute_result"
    }
   ],
   "source": [
    "data = pd.read_csv(r\"data/london_merged.csv\")\n",
    "np.random.seed(0)\n",
    "data.head()"
   ]
  },
  {
   "cell_type": "code",
   "execution_count": 51,
   "metadata": {},
   "outputs": [],
   "source": [
    "data['year'] = data['timestamp'].apply(lambda row: row[:4])\n",
    "data['month'] = data['timestamp'].apply(lambda row: row.split('-')[2][:2])\n",
    "data['hour'] = data['timestamp'].apply(lambda row: row.split(':')[0][-2:])"
   ]
  },
  {
   "cell_type": "code",
   "execution_count": 52,
   "metadata": {},
   "outputs": [
    {
     "name": "stdout",
     "output_type": "stream",
     "text": [
      "<class 'pandas.core.frame.DataFrame'>\n",
      "RangeIndex: 17414 entries, 0 to 17413\n",
      "Data columns (total 13 columns):\n",
      " #   Column        Non-Null Count  Dtype  \n",
      "---  ------        --------------  -----  \n",
      " 0   timestamp     17414 non-null  object \n",
      " 1   cnt           17414 non-null  int64  \n",
      " 2   t1            17414 non-null  float64\n",
      " 3   t2            17414 non-null  float64\n",
      " 4   hum           17414 non-null  float64\n",
      " 5   wind_speed    17414 non-null  float64\n",
      " 6   weather_code  17414 non-null  float64\n",
      " 7   is_holiday    17414 non-null  float64\n",
      " 8   is_weekend    17414 non-null  float64\n",
      " 9   season        17414 non-null  float64\n",
      " 10  year          17414 non-null  object \n",
      " 11  month         17414 non-null  object \n",
      " 12  hour          17414 non-null  object \n",
      "dtypes: float64(8), int64(1), object(4)\n",
      "memory usage: 1.7+ MB\n"
     ]
    }
   ],
   "source": [
    "data.info()"
   ]
  },
  {
   "cell_type": "code",
   "execution_count": 53,
   "metadata": {},
   "outputs": [],
   "source": [
    "# print(target.isnull().sum())\n",
    "# print(data.isnull().sum())"
   ]
  },
  {
   "cell_type": "code",
   "execution_count": 54,
   "metadata": {},
   "outputs": [],
   "source": [
    "data.drop('timestamp', axis=1, inplace=True)\n"
   ]
  },
  {
   "cell_type": "code",
   "execution_count": 55,
   "metadata": {},
   "outputs": [
    {
     "name": "stdout",
     "output_type": "stream",
     "text": [
      "   cnt   t1   t2    hum  wind_speed  weather_code  is_holiday  is_weekend  \\\n",
      "0  182  3.0  2.0   93.0         6.0           3.0         0.0         1.0   \n",
      "1  138  3.0  2.5   93.0         5.0           1.0         0.0         1.0   \n",
      "2  134  2.5  2.5   96.5         0.0           1.0         0.0         1.0   \n",
      "3   72  2.0  2.0  100.0         0.0           1.0         0.0         1.0   \n",
      "\n",
      "   season  year month hour  \n",
      "0     3.0  2015    04   00  \n",
      "1     3.0  2015    04   01  \n",
      "2     3.0  2015    04   02  \n",
      "3     3.0  2015    04   03  \n",
      "   cnt        t1       t2        hum  wind_speed  weather_code  is_holiday  \\\n",
      "0  182  3.379372  1.51169  91.910483    6.890895           3.0         0.0   \n",
      "1  138  3.379372  2.98831  94.089517    5.890895           1.0         0.0   \n",
      "2  134  2.879372  2.01169  97.589517    0.890895           1.0         0.0   \n",
      "3   72  1.620628  1.51169  98.910483    0.890895           1.0         0.0   \n",
      "4   47  1.620628  0.48831  91.910483    5.609105           1.0         0.0   \n",
      "\n",
      "   is_weekend  season  year month hour  \n",
      "0         1.0     3.0  2015    04   00  \n",
      "1         1.0     3.0  2015    04   01  \n",
      "2         1.0     3.0  2015    04   02  \n",
      "3         1.0     3.0  2015    04   03  \n",
      "4         1.0     3.0  2015    04   04  \n",
      "(17414, 12)\n"
     ]
    }
   ],
   "source": [
    "def data_enhancement(data):\n",
    "    gen_data = data\n",
    "\n",
    "    for season in data['season'].unique():\n",
    "\n",
    "        seasonal_data = gen_data[gen_data['season'] == season]\n",
    "        hum_std = seasonal_data['hum'].std()\n",
    "        wind_speed_std = seasonal_data['wind_speed'].std()\n",
    "        t1_std = seasonal_data['t1'].std()\n",
    "        t2_std = seasonal_data['t2'].std()\n",
    "        \n",
    "        \n",
    "        for i in gen_data[gen_data['season']==season].index:\n",
    "            if np.random.randint(2) == 1:\n",
    "                gen_data['hum'].values[i] += hum_std/10\n",
    "            else:\n",
    "                gen_data['hum'].values[i] -= hum_std/10\n",
    "            if np.random.randint(2) == 1:\n",
    "                gen_data['wind_speed'].values[i] += wind_speed_std/10\n",
    "            else:\n",
    "                gen_data['wind_speed'].values[i] -= wind_speed_std/10\n",
    "\n",
    "            if np.random.randint(2) == 1:\n",
    "                gen_data['t1'].values[i] += t1_std/10\n",
    "            else:\n",
    "                gen_data['t1'].values[i] -= t1_std/10\n",
    "            if np.random.randint(2) == 1:\n",
    "                gen_data['t2'].values[i] += t2_std/10\n",
    "            else:\n",
    "                gen_data['t2'].values[i] -= t2_std/10     \n",
    "\n",
    "    return gen_data\n",
    "\n",
    "print(data.head(4))\n",
    "gen = data_enhancement(data)\n",
    "print(gen.head(5))\n",
    "print(gen.shape)\n",
    "\n"
   ]
  },
  {
   "cell_type": "code",
   "execution_count": 56,
   "metadata": {},
   "outputs": [],
   "source": [
    "y = data['cnt']\n",
    "x = data.drop(['cnt'], axis=1)"
   ]
  },
  {
   "cell_type": "code",
   "execution_count": 57,
   "metadata": {},
   "outputs": [],
   "source": [
    "cat_vars = ['season','is_weekend','is_holiday','year','month','weather_code']\n",
    "num_vars = ['t1','t2','hum','wind_speed']"
   ]
  },
  {
   "cell_type": "code",
   "execution_count": 58,
   "metadata": {},
   "outputs": [],
   "source": [
    "x_train, x_val, y_train, y_val = model_selection.train_test_split(x,y, test_size=0.2, random_state=0)"
   ]
  },
  {
   "cell_type": "code",
   "execution_count": 59,
   "metadata": {},
   "outputs": [],
   "source": [
    "extra_sample = gen.sample(gen.shape[0] // 3)\n",
    "x_train = pd.concat([x_train, extra_sample.drop(['cnt'], axis=1 ) ])\n",
    "y_train = pd.concat([y_train, extra_sample['cnt'] ])"
   ]
  },
  {
   "cell_type": "code",
   "execution_count": 60,
   "metadata": {},
   "outputs": [
    {
     "data": {
      "text/plain": [
       "((19735, 11), (19735,))"
      ]
     },
     "execution_count": 60,
     "metadata": {},
     "output_type": "execute_result"
    }
   ],
   "source": [
    "x_train.shape, y_train.shape"
   ]
  },
  {
   "cell_type": "code",
   "execution_count": 61,
   "metadata": {},
   "outputs": [],
   "source": [
    "#preproceesing\n",
    "transformer = preprocessing.PowerTransformer()\n",
    "y_train = transformer.fit_transform(y_train.values.reshape(-1,1))\n",
    "y_val = transformer.transform(y_val.values.reshape(-1,1))"
   ]
  },
  {
   "cell_type": "code",
   "execution_count": 62,
   "metadata": {},
   "outputs": [],
   "source": [
    "#impute values\n",
    "cat_4_treeModel = pipeline.Pipeline(steps=[('impute', impute.SimpleImputer(strategy='constant', fill_value='missing')),\n",
    "                                           ('ordinal', preprocessing.OrdinalEncoder())])\n",
    "\n",
    "num_4_treeModel = pipeline.Pipeline(steps=[('impute', impute.SimpleImputer(strategy='constant', fill_value=-9999))])                                            "
   ]
  },
  {
   "cell_type": "code",
   "execution_count": 63,
   "metadata": {},
   "outputs": [],
   "source": [
    "tree_prepo = compose.ColumnTransformer(transformers=[('num', num_4_treeModel, num_vars),\n",
    "                                        ('cat', cat_4_treeModel, cat_vars)], remainder='drop')"
   ]
  },
  {
   "cell_type": "code",
   "execution_count": 64,
   "metadata": {},
   "outputs": [],
   "source": [
    "tree_classifiers = {  \"Decision Tree\": DecisionTreeRegressor(),\n",
    "                    \"Extra Trees\":   ExtraTreesRegressor(n_estimators=100),\n",
    "                    \"Random Forest\": RandomForestRegressor(n_estimators=100),\n",
    "                    \"AdaBoost\":      AdaBoostRegressor(n_estimators=100),\n",
    "                    \"Skl GBM\":       GradientBoostingRegressor(n_estimators=100),\n",
    "                    \"XGBoost\":       XGBRegressor(n_estimators=100),\n",
    "                    \"LightGBM\":      LGBMRegressor(n_estimators=100),\n",
    "                    \"CatBoost\":      CatBoostRegressor(n_estimators=100),\n",
    "                   \n",
    "                    }"
   ]
  },
  {
   "cell_type": "code",
   "execution_count": 65,
   "metadata": {},
   "outputs": [],
   "source": [
    "tree_classifiers = {name: pipeline.make_pipeline(tree_prepo, model) for name, model in classifiers.items()}"
   ]
  },
  {
   "cell_type": "code",
   "execution_count": 70,
   "metadata": {},
   "outputs": [
    {
     "name": "stderr",
     "output_type": "stream",
     "text": [
      "C:\\Users\\asus\\AppData\\Local\\Temp\\ipykernel_15312\\3306509223.py:9: FutureWarning: The frame.append method is deprecated and will be removed from pandas in a future version. Use pandas.concat instead.\n",
      "  results = results.append({\"Model\":    model_name,\n",
      "C:\\Users\\asus\\anaconda3\\envs\\school\\lib\\site-packages\\sklearn\\pipeline.py:346: DataConversionWarning: A column-vector y was passed when a 1d array was expected. Please change the shape of y to (n_samples,), for example using ravel().\n",
      "  self._final_estimator.fit(Xt, y, **fit_params_last_step)\n",
      "C:\\Users\\asus\\AppData\\Local\\Temp\\ipykernel_15312\\3306509223.py:9: FutureWarning: The frame.append method is deprecated and will be removed from pandas in a future version. Use pandas.concat instead.\n",
      "  results = results.append({\"Model\":    model_name,\n",
      "C:\\Users\\asus\\anaconda3\\envs\\school\\lib\\site-packages\\sklearn\\pipeline.py:346: DataConversionWarning: A column-vector y was passed when a 1d array was expected. Please change the shape of y to (n_samples,), for example using ravel().\n",
      "  self._final_estimator.fit(Xt, y, **fit_params_last_step)\n",
      "C:\\Users\\asus\\AppData\\Local\\Temp\\ipykernel_15312\\3306509223.py:9: FutureWarning: The frame.append method is deprecated and will be removed from pandas in a future version. Use pandas.concat instead.\n",
      "  results = results.append({\"Model\":    model_name,\n",
      "C:\\Users\\asus\\anaconda3\\envs\\school\\lib\\site-packages\\sklearn\\utils\\validation.py:63: DataConversionWarning: A column-vector y was passed when a 1d array was expected. Please change the shape of y to (n_samples, ), for example using ravel().\n",
      "  return f(*args, **kwargs)\n",
      "C:\\Users\\asus\\AppData\\Local\\Temp\\ipykernel_15312\\3306509223.py:9: FutureWarning: The frame.append method is deprecated and will be removed from pandas in a future version. Use pandas.concat instead.\n",
      "  results = results.append({\"Model\":    model_name,\n",
      "C:\\Users\\asus\\anaconda3\\envs\\school\\lib\\site-packages\\sklearn\\utils\\validation.py:63: DataConversionWarning: A column-vector y was passed when a 1d array was expected. Please change the shape of y to (n_samples, ), for example using ravel().\n",
      "  return f(*args, **kwargs)\n",
      "C:\\Users\\asus\\AppData\\Local\\Temp\\ipykernel_15312\\3306509223.py:9: FutureWarning: The frame.append method is deprecated and will be removed from pandas in a future version. Use pandas.concat instead.\n",
      "  results = results.append({\"Model\":    model_name,\n",
      "C:\\Users\\asus\\AppData\\Local\\Temp\\ipykernel_15312\\3306509223.py:9: FutureWarning: The frame.append method is deprecated and will be removed from pandas in a future version. Use pandas.concat instead.\n",
      "  results = results.append({\"Model\":    model_name,\n",
      "C:\\Users\\asus\\anaconda3\\envs\\school\\lib\\site-packages\\sklearn\\utils\\validation.py:63: DataConversionWarning: A column-vector y was passed when a 1d array was expected. Please change the shape of y to (n_samples, ), for example using ravel().\n",
      "  return f(*args, **kwargs)\n",
      "C:\\Users\\asus\\AppData\\Local\\Temp\\ipykernel_15312\\3306509223.py:9: FutureWarning: The frame.append method is deprecated and will be removed from pandas in a future version. Use pandas.concat instead.\n",
      "  results = results.append({\"Model\":    model_name,\n"
     ]
    },
    {
     "name": "stdout",
     "output_type": "stream",
     "text": [
      "Learning rate set to 0.381903\n",
      "0:\tlearn: 0.8981769\ttotal: 4.57ms\tremaining: 452ms\n",
      "1:\tlearn: 0.8524330\ttotal: 9.82ms\tremaining: 481ms\n",
      "2:\tlearn: 0.8285188\ttotal: 13.7ms\tremaining: 444ms\n",
      "3:\tlearn: 0.8130659\ttotal: 17.6ms\tremaining: 423ms\n",
      "4:\tlearn: 0.8025043\ttotal: 22.2ms\tremaining: 421ms\n",
      "5:\tlearn: 0.7954566\ttotal: 28.5ms\tremaining: 447ms\n",
      "6:\tlearn: 0.7882785\ttotal: 35.5ms\tremaining: 471ms\n",
      "7:\tlearn: 0.7864546\ttotal: 41.3ms\tremaining: 474ms\n",
      "8:\tlearn: 0.7827960\ttotal: 46.9ms\tremaining: 474ms\n",
      "9:\tlearn: 0.7810627\ttotal: 50.8ms\tremaining: 457ms\n",
      "10:\tlearn: 0.7778876\ttotal: 55.2ms\tremaining: 446ms\n",
      "11:\tlearn: 0.7758583\ttotal: 62.1ms\tremaining: 456ms\n",
      "12:\tlearn: 0.7742224\ttotal: 66.3ms\tremaining: 444ms\n",
      "13:\tlearn: 0.7728942\ttotal: 70.6ms\tremaining: 434ms\n",
      "14:\tlearn: 0.7720692\ttotal: 78.2ms\tremaining: 443ms\n",
      "15:\tlearn: 0.7707991\ttotal: 82.6ms\tremaining: 434ms\n",
      "16:\tlearn: 0.7687112\ttotal: 87.3ms\tremaining: 426ms\n",
      "17:\tlearn: 0.7681782\ttotal: 92.6ms\tremaining: 422ms\n",
      "18:\tlearn: 0.7671501\ttotal: 96.6ms\tremaining: 412ms\n",
      "19:\tlearn: 0.7654569\ttotal: 101ms\tremaining: 403ms\n",
      "20:\tlearn: 0.7646604\ttotal: 106ms\tremaining: 399ms\n",
      "21:\tlearn: 0.7638317\ttotal: 110ms\tremaining: 390ms\n",
      "22:\tlearn: 0.7631808\ttotal: 115ms\tremaining: 383ms\n",
      "23:\tlearn: 0.7617322\ttotal: 120ms\tremaining: 380ms\n",
      "24:\tlearn: 0.7602187\ttotal: 124ms\tremaining: 372ms\n",
      "25:\tlearn: 0.7591861\ttotal: 128ms\tremaining: 363ms\n",
      "26:\tlearn: 0.7579768\ttotal: 131ms\tremaining: 355ms\n",
      "27:\tlearn: 0.7564728\ttotal: 138ms\tremaining: 354ms\n",
      "28:\tlearn: 0.7546980\ttotal: 144ms\tremaining: 352ms\n",
      "29:\tlearn: 0.7536970\ttotal: 151ms\tremaining: 353ms\n",
      "30:\tlearn: 0.7521646\ttotal: 156ms\tremaining: 347ms\n",
      "31:\tlearn: 0.7510384\ttotal: 160ms\tremaining: 341ms\n",
      "32:\tlearn: 0.7496424\ttotal: 165ms\tremaining: 335ms\n",
      "33:\tlearn: 0.7479137\ttotal: 170ms\tremaining: 331ms\n",
      "34:\tlearn: 0.7467188\ttotal: 174ms\tremaining: 324ms\n",
      "35:\tlearn: 0.7453116\ttotal: 178ms\tremaining: 316ms\n",
      "36:\tlearn: 0.7446116\ttotal: 181ms\tremaining: 308ms\n",
      "37:\tlearn: 0.7433854\ttotal: 185ms\tremaining: 302ms\n",
      "38:\tlearn: 0.7422032\ttotal: 189ms\tremaining: 296ms\n",
      "39:\tlearn: 0.7410179\ttotal: 193ms\tremaining: 289ms\n",
      "40:\tlearn: 0.7402926\ttotal: 196ms\tremaining: 282ms\n",
      "41:\tlearn: 0.7388081\ttotal: 201ms\tremaining: 277ms\n",
      "42:\tlearn: 0.7377616\ttotal: 205ms\tremaining: 272ms\n",
      "43:\tlearn: 0.7366277\ttotal: 209ms\tremaining: 266ms\n",
      "44:\tlearn: 0.7355474\ttotal: 213ms\tremaining: 261ms\n",
      "45:\tlearn: 0.7348305\ttotal: 218ms\tremaining: 256ms\n",
      "46:\tlearn: 0.7337090\ttotal: 222ms\tremaining: 251ms\n",
      "47:\tlearn: 0.7329055\ttotal: 226ms\tremaining: 245ms\n",
      "48:\tlearn: 0.7321931\ttotal: 231ms\tremaining: 240ms\n",
      "49:\tlearn: 0.7311854\ttotal: 240ms\tremaining: 240ms\n",
      "50:\tlearn: 0.7306690\ttotal: 244ms\tremaining: 234ms\n",
      "51:\tlearn: 0.7290667\ttotal: 250ms\tremaining: 231ms\n",
      "52:\tlearn: 0.7279971\ttotal: 257ms\tremaining: 227ms\n",
      "53:\tlearn: 0.7273641\ttotal: 263ms\tremaining: 224ms\n",
      "54:\tlearn: 0.7263842\ttotal: 269ms\tremaining: 220ms\n",
      "55:\tlearn: 0.7255615\ttotal: 272ms\tremaining: 214ms\n",
      "56:\tlearn: 0.7247656\ttotal: 276ms\tremaining: 208ms\n",
      "57:\tlearn: 0.7243998\ttotal: 281ms\tremaining: 203ms\n",
      "58:\tlearn: 0.7237044\ttotal: 284ms\tremaining: 197ms\n",
      "59:\tlearn: 0.7227334\ttotal: 288ms\tremaining: 192ms\n",
      "60:\tlearn: 0.7219073\ttotal: 291ms\tremaining: 186ms\n",
      "61:\tlearn: 0.7212825\ttotal: 295ms\tremaining: 181ms\n",
      "62:\tlearn: 0.7208212\ttotal: 299ms\tremaining: 176ms\n",
      "63:\tlearn: 0.7198676\ttotal: 302ms\tremaining: 170ms\n",
      "64:\tlearn: 0.7185787\ttotal: 306ms\tremaining: 165ms\n",
      "65:\tlearn: 0.7180210\ttotal: 309ms\tremaining: 159ms\n",
      "66:\tlearn: 0.7167999\ttotal: 314ms\tremaining: 155ms\n",
      "67:\tlearn: 0.7155523\ttotal: 318ms\tremaining: 150ms\n",
      "68:\tlearn: 0.7147827\ttotal: 321ms\tremaining: 144ms\n",
      "69:\tlearn: 0.7135340\ttotal: 326ms\tremaining: 140ms\n",
      "70:\tlearn: 0.7131730\ttotal: 331ms\tremaining: 135ms\n",
      "71:\tlearn: 0.7122113\ttotal: 334ms\tremaining: 130ms\n",
      "72:\tlearn: 0.7117419\ttotal: 338ms\tremaining: 125ms\n",
      "73:\tlearn: 0.7105529\ttotal: 342ms\tremaining: 120ms\n",
      "74:\tlearn: 0.7093557\ttotal: 346ms\tremaining: 115ms\n",
      "75:\tlearn: 0.7078136\ttotal: 350ms\tremaining: 110ms\n",
      "76:\tlearn: 0.7071152\ttotal: 353ms\tremaining: 106ms\n",
      "77:\tlearn: 0.7065309\ttotal: 357ms\tremaining: 101ms\n",
      "78:\tlearn: 0.7060506\ttotal: 361ms\tremaining: 96ms\n",
      "79:\tlearn: 0.7055149\ttotal: 365ms\tremaining: 91.1ms\n",
      "80:\tlearn: 0.7042213\ttotal: 368ms\tremaining: 86.4ms\n",
      "81:\tlearn: 0.7034365\ttotal: 372ms\tremaining: 81.6ms\n",
      "82:\tlearn: 0.7026887\ttotal: 376ms\tremaining: 77.1ms\n",
      "83:\tlearn: 0.7019385\ttotal: 380ms\tremaining: 72.3ms\n",
      "84:\tlearn: 0.7017525\ttotal: 383ms\tremaining: 67.6ms\n",
      "85:\tlearn: 0.7012151\ttotal: 387ms\tremaining: 63ms\n",
      "86:\tlearn: 0.7006830\ttotal: 390ms\tremaining: 58.3ms\n",
      "87:\tlearn: 0.7004595\ttotal: 394ms\tremaining: 53.7ms\n",
      "88:\tlearn: 0.6996054\ttotal: 398ms\tremaining: 49.2ms\n",
      "89:\tlearn: 0.6987533\ttotal: 402ms\tremaining: 44.7ms\n",
      "90:\tlearn: 0.6978011\ttotal: 405ms\tremaining: 40.1ms\n",
      "91:\tlearn: 0.6972189\ttotal: 410ms\tremaining: 35.7ms\n",
      "92:\tlearn: 0.6966051\ttotal: 414ms\tremaining: 31.2ms\n",
      "93:\tlearn: 0.6959040\ttotal: 418ms\tremaining: 26.7ms\n",
      "94:\tlearn: 0.6948834\ttotal: 423ms\tremaining: 22.3ms\n",
      "95:\tlearn: 0.6941832\ttotal: 428ms\tremaining: 17.8ms\n",
      "96:\tlearn: 0.6934042\ttotal: 433ms\tremaining: 13.4ms\n",
      "97:\tlearn: 0.6923922\ttotal: 440ms\tremaining: 8.97ms\n",
      "98:\tlearn: 0.6912037\ttotal: 445ms\tremaining: 4.49ms\n",
      "99:\tlearn: 0.6900710\ttotal: 449ms\tremaining: 0us\n"
     ]
    },
    {
     "name": "stderr",
     "output_type": "stream",
     "text": [
      "C:\\Users\\asus\\AppData\\Local\\Temp\\ipykernel_15312\\3306509223.py:9: FutureWarning: The frame.append method is deprecated and will be removed from pandas in a future version. Use pandas.concat instead.\n",
      "  results = results.append({\"Model\":    model_name,\n"
     ]
    },
    {
     "data": {
      "text/html": [
       "<style type=\"text/css\">\n",
       "#T_16414_row0_col2, #T_16414_row0_col3, #T_16414_row1_col2 {\n",
       "  width: 10em;\n",
       "  background: linear-gradient(90deg, #5fba7d 0.4%, transparent 0.4%);\n",
       "}\n",
       "#T_16414_row1_col3, #T_16414_row2_col2, #T_16414_row7_col3 {\n",
       "  width: 10em;\n",
       "  background: linear-gradient(90deg, #5fba7d 0.5%, transparent 0.5%);\n",
       "}\n",
       "#T_16414_row2_col3, #T_16414_row3_col2, #T_16414_row3_col3, #T_16414_row4_col2, #T_16414_row4_col3, #T_16414_row5_col2, #T_16414_row5_col3 {\n",
       "  width: 10em;\n",
       "  background: linear-gradient(90deg, #5fba7d 0.6%, transparent 0.6%);\n",
       "}\n",
       "#T_16414_row6_col2, #T_16414_row6_col3, #T_16414_row7_col2 {\n",
       "  width: 10em;\n",
       "  background: linear-gradient(90deg, #5fba7d 0.7%, transparent 0.7%);\n",
       "}\n",
       "</style>\n",
       "<table id=\"T_16414\">\n",
       "  <thead>\n",
       "    <tr>\n",
       "      <th class=\"blank level0\" >&nbsp;</th>\n",
       "      <th id=\"T_16414_level0_col0\" class=\"col_heading level0 col0\" >Model</th>\n",
       "      <th id=\"T_16414_level0_col1\" class=\"col_heading level0 col1\" >AC</th>\n",
       "      <th id=\"T_16414_level0_col2\" class=\"col_heading level0 col2\" >MSE</th>\n",
       "      <th id=\"T_16414_level0_col3\" class=\"col_heading level0 col3\" >MAB</th>\n",
       "      <th id=\"T_16414_level0_col4\" class=\"col_heading level0 col4\" > % error</th>\n",
       "      <th id=\"T_16414_level0_col5\" class=\"col_heading level0 col5\" >Time</th>\n",
       "    </tr>\n",
       "  </thead>\n",
       "  <tbody>\n",
       "    <tr>\n",
       "      <th id=\"T_16414_level0_row0\" class=\"row_heading level0 row0\" >1</th>\n",
       "      <td id=\"T_16414_row0_col0\" class=\"data row0 col0\" >Extra Trees</td>\n",
       "      <td id=\"T_16414_row0_col1\" class=\"data row0 col1\" >nan</td>\n",
       "      <td id=\"T_16414_row0_col2\" class=\"data row0 col2\" >0.383524</td>\n",
       "      <td id=\"T_16414_row0_col3\" class=\"data row0 col3\" >0.371588</td>\n",
       "      <td id=\"T_16414_row0_col4\" class=\"data row0 col4\" >0.069469</td>\n",
       "      <td id=\"T_16414_row0_col5\" class=\"data row0 col5\" >4.202806</td>\n",
       "    </tr>\n",
       "    <tr>\n",
       "      <th id=\"T_16414_level0_row1\" class=\"row_heading level0 row1\" >2</th>\n",
       "      <td id=\"T_16414_row1_col0\" class=\"data row1 col0\" >Random Forest</td>\n",
       "      <td id=\"T_16414_row1_col1\" class=\"data row1 col1\" >nan</td>\n",
       "      <td id=\"T_16414_row1_col2\" class=\"data row1 col2\" >0.425495</td>\n",
       "      <td id=\"T_16414_row1_col3\" class=\"data row1 col3\" >0.454480</td>\n",
       "      <td id=\"T_16414_row1_col4\" class=\"data row1 col4\" >0.077072</td>\n",
       "      <td id=\"T_16414_row1_col5\" class=\"data row1 col5\" >6.306145</td>\n",
       "    </tr>\n",
       "    <tr>\n",
       "      <th id=\"T_16414_level0_row2\" class=\"row_heading level0 row2\" >3</th>\n",
       "      <td id=\"T_16414_row2_col0\" class=\"data row2 col0\" >XGBoost</td>\n",
       "      <td id=\"T_16414_row2_col1\" class=\"data row2 col1\" >nan</td>\n",
       "      <td id=\"T_16414_row2_col2\" class=\"data row2 col2\" >0.532979</td>\n",
       "      <td id=\"T_16414_row2_col3\" class=\"data row2 col3\" >0.554602</td>\n",
       "      <td id=\"T_16414_row2_col4\" class=\"data row2 col4\" >0.096540</td>\n",
       "      <td id=\"T_16414_row2_col5\" class=\"data row2 col5\" >0.652257</td>\n",
       "    </tr>\n",
       "    <tr>\n",
       "      <th id=\"T_16414_level0_row3\" class=\"row_heading level0 row3\" >4</th>\n",
       "      <td id=\"T_16414_row3_col0\" class=\"data row3 col0\" >LightGBM</td>\n",
       "      <td id=\"T_16414_row3_col1\" class=\"data row3 col1\" >nan</td>\n",
       "      <td id=\"T_16414_row3_col2\" class=\"data row3 col2\" >0.563719</td>\n",
       "      <td id=\"T_16414_row3_col3\" class=\"data row3 col3\" >0.577875</td>\n",
       "      <td id=\"T_16414_row3_col4\" class=\"data row3 col4\" >0.102109</td>\n",
       "      <td id=\"T_16414_row3_col5\" class=\"data row3 col5\" >0.247339</td>\n",
       "    </tr>\n",
       "    <tr>\n",
       "      <th id=\"T_16414_level0_row4\" class=\"row_heading level0 row4\" >5</th>\n",
       "      <td id=\"T_16414_row4_col0\" class=\"data row4 col0\" >CatBoost</td>\n",
       "      <td id=\"T_16414_row4_col1\" class=\"data row4 col1\" >nan</td>\n",
       "      <td id=\"T_16414_row4_col2\" class=\"data row4 col2\" >0.577734</td>\n",
       "      <td id=\"T_16414_row4_col3\" class=\"data row4 col3\" >0.583242</td>\n",
       "      <td id=\"T_16414_row4_col4\" class=\"data row4 col4\" >0.104647</td>\n",
       "      <td id=\"T_16414_row4_col5\" class=\"data row4 col5\" >0.950517</td>\n",
       "    </tr>\n",
       "    <tr>\n",
       "      <th id=\"T_16414_level0_row5\" class=\"row_heading level0 row5\" >6</th>\n",
       "      <td id=\"T_16414_row5_col0\" class=\"data row5 col0\" >Skl GBM</td>\n",
       "      <td id=\"T_16414_row5_col1\" class=\"data row5 col1\" >nan</td>\n",
       "      <td id=\"T_16414_row5_col2\" class=\"data row5 col2\" >0.625755</td>\n",
       "      <td id=\"T_16414_row5_col3\" class=\"data row5 col3\" >0.614863</td>\n",
       "      <td id=\"T_16414_row5_col4\" class=\"data row5 col4\" >0.113345</td>\n",
       "      <td id=\"T_16414_row5_col5\" class=\"data row5 col5\" >2.001641</td>\n",
       "    </tr>\n",
       "    <tr>\n",
       "      <th id=\"T_16414_level0_row6\" class=\"row_heading level0 row6\" >7</th>\n",
       "      <td id=\"T_16414_row6_col0\" class=\"data row6 col0\" >AdaBoost</td>\n",
       "      <td id=\"T_16414_row6_col1\" class=\"data row6 col1\" >nan</td>\n",
       "      <td id=\"T_16414_row6_col2\" class=\"data row6 col2\" >0.695454</td>\n",
       "      <td id=\"T_16414_row6_col3\" class=\"data row6 col3\" >0.664843</td>\n",
       "      <td id=\"T_16414_row6_col4\" class=\"data row6 col4\" >0.125970</td>\n",
       "      <td id=\"T_16414_row6_col5\" class=\"data row6 col5\" >0.524561</td>\n",
       "    </tr>\n",
       "    <tr>\n",
       "      <th id=\"T_16414_level0_row7\" class=\"row_heading level0 row7\" >8</th>\n",
       "      <td id=\"T_16414_row7_col0\" class=\"data row7 col0\" >Decision Tree</td>\n",
       "      <td id=\"T_16414_row7_col1\" class=\"data row7 col1\" >nan</td>\n",
       "      <td id=\"T_16414_row7_col2\" class=\"data row7 col2\" >0.747092</td>\n",
       "      <td id=\"T_16414_row7_col3\" class=\"data row7 col3\" >0.519064</td>\n",
       "      <td id=\"T_16414_row7_col4\" class=\"data row7 col4\" >0.135324</td>\n",
       "      <td id=\"T_16414_row7_col5\" class=\"data row7 col5\" >0.203455</td>\n",
       "    </tr>\n",
       "  </tbody>\n",
       "</table>\n"
      ],
      "text/plain": [
       "<pandas.io.formats.style.Styler at 0x2013af126a0>"
      ]
     },
     "execution_count": 70,
     "metadata": {},
     "output_type": "execute_result"
    }
   ],
   "source": [
    "rang = abs(y_train.max())+ abs(y_train.min())\n",
    "results = pd.DataFrame({'Model': [], 'AC':[], 'MSE': [], 'MAB': [], \" % error\": [], 'Time': []})\n",
    "\n",
    "for model_name, model in tree_classifiers.items():\n",
    "    start_time = time.time()\n",
    "    model.fit(x_train,y_train)\n",
    "    total_time = time.time()-start_time\n",
    "    pred = model.predict(x_val)\n",
    "    results = results.append({\"Model\":    model_name,\n",
    "                            # \"AC\": metrics.accuracy_score(y_val, pred)*100,\n",
    "                            \"MSE\": metrics.mean_squared_error(y_val, pred),\n",
    "                            \"MAB\": metrics.mean_absolute_error(y_val, pred),\n",
    "                            \" % error\": metrics.mean_squared_error(y_val, pred) / rang,\n",
    "                            \"Time\":     total_time},\n",
    "                            ignore_index=True)\n",
    "\n",
    "results_ord = results.sort_values(by=['MSE'], ascending=True, ignore_index=True)\n",
    "results_ord.index += 1 \n",
    "results_ord.style.bar(subset=['MSE', 'MAB'], vmin=0, vmax=100, color='#5fba7d')                            "
   ]
  },
  {
   "cell_type": "code",
   "execution_count": 77,
   "metadata": {},
   "outputs": [
    {
     "name": "stderr",
     "output_type": "stream",
     "text": [
      "C:\\Users\\asus\\anaconda3\\envs\\school\\lib\\site-packages\\sklearn\\pipeline.py:346: DataConversionWarning: A column-vector y was passed when a 1d array was expected. Please change the shape of y to (n_samples,), for example using ravel().\n",
      "  self._final_estimator.fit(Xt, y, **fit_params_last_step)\n"
     ]
    }
   ],
   "source": [
    "best_model = tree_classifiers['Extra Trees']\n",
    "best_model.fit(x_train,y_train)\n",
    "predic = best_model.predict(x_val)\n"
   ]
  },
  {
   "cell_type": "code",
   "execution_count": 78,
   "metadata": {},
   "outputs": [
    {
     "data": {
      "text/plain": [
       "['model_joblib']"
      ]
     },
     "execution_count": 78,
     "metadata": {},
     "output_type": "execute_result"
    }
   ],
   "source": [
    "import joblib\n",
    "joblib.dump(best_model, 'model_joblib')"
   ]
  },
  {
   "cell_type": "code",
   "execution_count": 85,
   "metadata": {},
   "outputs": [
    {
     "data": {
      "text/plain": [
       "array([-1.39971744,  0.78062771, -0.4544557 , ..., -0.83900744,\n",
       "        0.37616379, -0.49983833])"
      ]
     },
     "execution_count": 85,
     "metadata": {},
     "output_type": "execute_result"
    }
   ],
   "source": [
    "mp = joblib.load('model_joblib')\n",
    "mp.predict(x_val)\n"
   ]
  }
 ],
 "metadata": {
  "interpreter": {
   "hash": "a46b90219676627a72d3a91274f779bf31e1b3152ef0e373c362fa37b00172ba"
  },
  "kernelspec": {
   "display_name": "Python 3.8.2 ('school')",
   "language": "python",
   "name": "python3"
  },
  "language_info": {
   "codemirror_mode": {
    "name": "ipython",
    "version": 3
   },
   "file_extension": ".py",
   "mimetype": "text/x-python",
   "name": "python",
   "nbconvert_exporter": "python",
   "pygments_lexer": "ipython3",
   "version": "3.8.2"
  },
  "orig_nbformat": 4
 },
 "nbformat": 4,
 "nbformat_minor": 2
}
