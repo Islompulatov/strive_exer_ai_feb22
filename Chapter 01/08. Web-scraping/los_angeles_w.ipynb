{
 "cells": [
  {
   "cell_type": "code",
   "execution_count": 318,
   "metadata": {},
   "outputs": [],
   "source": [
    "import requests\n",
    "from bs4 import BeautifulSoup\n",
    "import pandas as pd\n"
   ]
  },
  {
   "cell_type": "code",
   "execution_count": 319,
   "metadata": {},
   "outputs": [],
   "source": [
    "url = \"https://forecast.weather.gov/MapClick.php?x=276&y=148&site=lox&zmx=&zmy=&map_x=276&map_y=148#.YistZ3rMJPZ\""
   ]
  },
  {
   "cell_type": "code",
   "execution_count": 320,
   "metadata": {},
   "outputs": [
    {
     "data": {
      "text/plain": [
       "<Response [200]>"
      ]
     },
     "execution_count": 320,
     "metadata": {},
     "output_type": "execute_result"
    }
   ],
   "source": [
    "page = requests.get(url)\n",
    "page"
   ]
  },
  {
   "cell_type": "code",
   "execution_count": 326,
   "metadata": {},
   "outputs": [
    {
     "name": "stdout",
     "output_type": "stream",
     "text": [
      "TonightMostly clear, with a low around 45. Northwest wind around 5 mph becoming northeast after midnight. \n",
      "Saturday NightPartly cloudy, with a low around 49. West southwest wind around 5 mph becoming northeast after midnight. \n",
      "Sunday NightPartly cloudy, with a low around 49.\n",
      "Monday NightMostly clear, with a low around 53.\n",
      "Tuesday NightPartly cloudy, with a low around 52.\n",
      "Wednesday NightMostly clear, with a low around 52.\n",
      "['Tonight', 'Sa', '', '', 'T', 'Wed']\n"
     ]
    }
   ],
   "source": [
    "soup = BeautifulSoup(page.content, \"html.parser\")\n",
    "\n",
    "day = soup.find_all('div', class_='row row-even row-forecast')\n",
    "\n",
    "\n",
    "week_names = []\n",
    "for i in day:\n",
    "    week_names.append(i.text.split()[0][:-6])\n",
    "    print(i.text)    \n",
    "print(week_names)\n",
    "    \n"
   ]
  },
  {
   "cell_type": "code",
   "execution_count": 323,
   "metadata": {},
   "outputs": [
    {
     "name": "stdout",
     "output_type": "stream",
     "text": [
      "['Mostly', 'turday', 'Sunday', 'Monday', 'uesday', 'nesday']\n"
     ]
    }
   ],
   "source": [
    "des = []\n",
    "for i in day:\n",
    "    des.append(i.text.split()[0][-6:])\n",
    "print(des)    "
   ]
  },
  {
   "cell_type": "code",
   "execution_count": 263,
   "metadata": {},
   "outputs": [
    {
     "name": "stdout",
     "output_type": "stream",
     "text": [
      "[['with', 'a', 'high', 'near', '74.', 'North', 'wind', '5', 'to', '10', 'mph', 'becoming', 'south', 'southeast', 'in', 'the', 'morning.'], ['with', 'a', 'high', 'near', '76.', 'North', 'northeast', 'wind', '5', 'to', '10', 'mph', 'becoming', 'west', 'southwest', 'in', 'the', 'afternoon.', 'Winds', 'could', 'gust', 'as', 'high', 'as', '15', 'mph.'], ['sunny,', 'with', 'a', 'high', 'near', '71.'], ['with', 'a', 'high', 'near', '76.'], ['sunny,', 'with', 'a', 'high', 'near', '75.'], ['with', 'a', 'high', 'near', '76.'], ['with', 'a', 'high', 'near', '79.']]\n"
     ]
    }
   ],
   "source": [
    "des1 = []\n",
    "for i in day:\n",
    "    des1.append(i.text.split()[1:])\n",
    "print(des1)   "
   ]
  },
  {
   "cell_type": "code",
   "execution_count": 264,
   "metadata": {},
   "outputs": [
    {
     "name": "stdout",
     "output_type": "stream",
     "text": [
      "[['Sunny,', 'with', 'a', 'high', 'near', '74.', 'North', 'wind', '5', 'to', '10', 'mph', 'becoming', 'south', 'southeast', 'in', 'the', 'morning.'], ['Sunny,', 'with', 'a', 'high', 'near', '76.', 'North', 'northeast', 'wind', '5', 'to', '10', 'mph', 'becoming', 'west', 'southwest', 'in', 'the', 'afternoon.', 'Winds', 'could', 'gust', 'as', 'high', 'as', '15', 'mph.'], ['Mostly', 'sunny,', 'with', 'a', 'high', 'near', '71.'], ['Sunny,', 'with', 'a', 'high', 'near', '76.'], ['Mostly', 'sunny,', 'with', 'a', 'high', 'near', '75.'], ['with', 'a', 'high', 'near', '76.'], ['with', 'a', 'high', 'near', '79.']]\n"
     ]
    }
   ],
   "source": [
    "\n",
    "for i in range(5):\n",
    "    des1[i].insert(0, des[i])\n",
    "print(des1)    \n",
    "    \n",
    "   \n",
    "   \n",
    "  "
   ]
  },
  {
   "cell_type": "code",
   "execution_count": 265,
   "metadata": {},
   "outputs": [
    {
     "data": {
      "text/plain": [
       "['Sunny, with a high near 74. North wind 5 to 10 mph becoming south southeast in the morning.',\n",
       " 'Sunny, with a high near 76. North northeast wind 5 to 10 mph becoming west southwest in the afternoon. Winds could gust as high as 15 mph.',\n",
       " 'Mostly sunny, with a high near 71.',\n",
       " 'Sunny, with a high near 76.',\n",
       " 'Mostly sunny, with a high near 75.']"
      ]
     },
     "execution_count": 265,
     "metadata": {},
     "output_type": "execute_result"
    }
   ],
   "source": [
    "description = []\n",
    "for i in range(5):\n",
    "    description.append(' '.join(des1[i]))\n",
    "description    "
   ]
  },
  {
   "cell_type": "code",
   "execution_count": 219,
   "metadata": {},
   "outputs": [
    {
     "name": "stdout",
     "output_type": "stream",
     "text": [
      "[',', 'Mostly', 'Partly', 'Partly', 'Mostly', 'Partly', 'Mostly']\n"
     ]
    }
   ],
   "source": [
    "night = soup.find_all('div', class_='row row-odd row-forecast')\n",
    "\n",
    "\n",
    "night_des = []\n",
    "for i in night:\n",
    "    night_des.append(i.text.split()[1][5:])\n",
    "print(night_des)"
   ]
  },
  {
   "cell_type": "code",
   "execution_count": 233,
   "metadata": {},
   "outputs": [
    {
     "name": "stdout",
     "output_type": "stream",
     "text": [
      "[['with', 'a', 'low', 'around', '47.', 'Northeast', 'wind', 'around', '5', 'mph.'], ['clear,', 'with', 'a', 'low', 'around', '45.', 'Northwest', 'wind', 'around', '5', 'mph', 'becoming', 'northeast', 'after', 'midnight.'], ['cloudy,', 'with', 'a', 'low', 'around', '49.', 'West', 'southwest', 'wind', 'around', '5', 'mph', 'becoming', 'northeast', 'after', 'midnight.'], ['cloudy,', 'with', 'a', 'low', 'around', '49.'], ['clear,', 'with', 'a', 'low', 'around', '53.'], ['cloudy,', 'with', 'a', 'low', 'around', '52.'], ['clear,', 'with', 'a', 'low', 'around', '52.']]\n"
     ]
    }
   ],
   "source": [
    "night_des1 = []\n",
    "for i in night:\n",
    "    night_des1.append(i.text.split()[2:])\n",
    "print(night_des1)    \n"
   ]
  },
  {
   "cell_type": "code",
   "execution_count": 234,
   "metadata": {},
   "outputs": [],
   "source": [
    "for i in range(1,6):\n",
    "    night_des1[i].insert(0, night_des[i])"
   ]
  },
  {
   "cell_type": "code",
   "execution_count": 235,
   "metadata": {},
   "outputs": [
    {
     "data": {
      "text/plain": [
       "['Mostly clear, with a low around 45. Northwest wind around 5 mph becoming northeast after midnight.',\n",
       " 'Partly cloudy, with a low around 49. West southwest wind around 5 mph becoming northeast after midnight.',\n",
       " 'Partly cloudy, with a low around 49.',\n",
       " 'Mostly clear, with a low around 53.',\n",
       " 'Partly cloudy, with a low around 52.']"
      ]
     },
     "execution_count": 235,
     "metadata": {},
     "output_type": "execute_result"
    }
   ],
   "source": [
    "description_night = []\n",
    "for i in range(1,6):\n",
    "    description_night.append(' '.join(night_des1[i]))\n",
    "\n",
    "description_night    "
   ]
  },
  {
   "cell_type": "code",
   "execution_count": 298,
   "metadata": {},
   "outputs": [
    {
     "name": "stdout",
     "output_type": "stream",
     "text": [
      "[45, 49, 49, 53, 52]\n",
      "[27.22, 31.22, 31.22, 35.22, 34.22]\n"
     ]
    }
   ],
   "source": [
    "import re\n",
    "temp_night = []\n",
    "low_temp = []\n",
    "for i in description_night:\n",
    "    temp_night.append(int(re.findall(r'\\d+', i)[0]))\n",
    "\n",
    "for j in temp_night:\n",
    "    low_temp.append(round(float(j)-32*(5/9),2))\n",
    "print(temp_night)    \n",
    "print(low_temp)\n"
   ]
  },
  {
   "cell_type": "code",
   "execution_count": 296,
   "metadata": {},
   "outputs": [
    {
     "name": "stdout",
     "output_type": "stream",
     "text": [
      "[74, 76, 71, 76, 75]\n",
      "[56.22, 58.22, 53.22, 58.22, 57.22]\n"
     ]
    }
   ],
   "source": [
    "import re\n",
    "temp_day = []\n",
    "high_temp = []\n",
    "for i in description:\n",
    "    temp_day.append(int(re.findall(r'\\d+', i)[0]))\n",
    "    \n",
    "for j in temp_day:\n",
    "    high_temp.append(round(float(j)-32*(5/9),2))\n",
    "        \n",
    "print(temp_day)\n",
    "print(high_temp)"
   ]
  },
  {
   "cell_type": "code",
   "execution_count": 308,
   "metadata": {},
   "outputs": [
    {
     "data": {
      "text/html": [
       "<div>\n",
       "<style scoped>\n",
       "    .dataframe tbody tr th:only-of-type {\n",
       "        vertical-align: middle;\n",
       "    }\n",
       "\n",
       "    .dataframe tbody tr th {\n",
       "        vertical-align: top;\n",
       "    }\n",
       "\n",
       "    .dataframe thead th {\n",
       "        text-align: right;\n",
       "    }\n",
       "</style>\n",
       "<table border=\"1\" class=\"dataframe\">\n",
       "  <thead>\n",
       "    <tr style=\"text-align: right;\">\n",
       "      <th></th>\n",
       "      <th>Days</th>\n",
       "      <th>High temperature</th>\n",
       "      <th>Low temperature</th>\n",
       "      <th>Day Description</th>\n",
       "      <th>Night Description</th>\n",
       "    </tr>\n",
       "  </thead>\n",
       "  <tbody>\n",
       "    <tr>\n",
       "      <th>0</th>\n",
       "      <td>week_of_names</td>\n",
       "      <td>high_temp</td>\n",
       "      <td>low_temp</td>\n",
       "      <td>description</td>\n",
       "      <td>description_night</td>\n",
       "    </tr>\n",
       "    <tr>\n",
       "      <th>1</th>\n",
       "      <td>week_of_names</td>\n",
       "      <td>high_temp</td>\n",
       "      <td>low_temp</td>\n",
       "      <td>description</td>\n",
       "      <td>description_night</td>\n",
       "    </tr>\n",
       "    <tr>\n",
       "      <th>2</th>\n",
       "      <td>week_of_names</td>\n",
       "      <td>high_temp</td>\n",
       "      <td>low_temp</td>\n",
       "      <td>description</td>\n",
       "      <td>description_night</td>\n",
       "    </tr>\n",
       "    <tr>\n",
       "      <th>3</th>\n",
       "      <td>week_of_names</td>\n",
       "      <td>high_temp</td>\n",
       "      <td>low_temp</td>\n",
       "      <td>description</td>\n",
       "      <td>description_night</td>\n",
       "    </tr>\n",
       "    <tr>\n",
       "      <th>4</th>\n",
       "      <td>week_of_names</td>\n",
       "      <td>high_temp</td>\n",
       "      <td>low_temp</td>\n",
       "      <td>description</td>\n",
       "      <td>description_night</td>\n",
       "    </tr>\n",
       "  </tbody>\n",
       "</table>\n",
       "</div>"
      ],
      "text/plain": [
       "            Days High temperature Low temperature Day Description  \\\n",
       "0  week_of_names        high_temp        low_temp     description   \n",
       "1  week_of_names        high_temp        low_temp     description   \n",
       "2  week_of_names        high_temp        low_temp     description   \n",
       "3  week_of_names        high_temp        low_temp     description   \n",
       "4  week_of_names        high_temp        low_temp     description   \n",
       "\n",
       "   Night Description  \n",
       "0  description_night  \n",
       "1  description_night  \n",
       "2  description_night  \n",
       "3  description_night  \n",
       "4  description_night  "
      ]
     },
     "execution_count": 308,
     "metadata": {},
     "output_type": "execute_result"
    }
   ],
   "source": [
    "data = {'Days':'week_of_names', 'High temperature':'high_temp', 'Low temperature':'low_temp', \n",
    "       'Day Description':'description', 'Night Description':'description_night' }\n",
    "labels = [0,1,2,3,4]\n",
    "df = pd.DataFrame(data, index=labels)    \n",
    "df   "
   ]
  },
  {
   "cell_type": "code",
   "execution_count": 245,
   "metadata": {},
   "outputs": [],
   "source": [
    "\n",
    "day = soup.find_all('div', class_='row row-even row-forecast')\n",
    "\n",
    "\n",
    "for i in day:\n",
    "    if i.text.isdigit():\n",
    "print(i)"
   ]
  }
 ],
 "metadata": {
  "interpreter": {
   "hash": "770021e68aae5e5bc49f7a3b6edb919a4a251fef8e7696fd47196c25263b13c4"
  },
  "kernelspec": {
   "display_name": "Python 3.9.7 ('base')",
   "language": "python",
   "name": "python3"
  },
  "language_info": {
   "codemirror_mode": {
    "name": "ipython",
    "version": 3
   },
   "file_extension": ".py",
   "mimetype": "text/x-python",
   "name": "python",
   "nbconvert_exporter": "python",
   "pygments_lexer": "ipython3",
   "version": "3.9.7"
  },
  "orig_nbformat": 4
 },
 "nbformat": 4,
 "nbformat_minor": 2
}
