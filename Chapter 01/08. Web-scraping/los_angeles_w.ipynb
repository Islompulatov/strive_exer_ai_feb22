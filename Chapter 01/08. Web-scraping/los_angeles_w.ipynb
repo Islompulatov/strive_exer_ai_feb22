{
 "cells": [
  {
   "cell_type": "code",
   "execution_count": 2,
   "metadata": {},
   "outputs": [],
   "source": [
    "import requests\n",
    "from bs4 import BeautifulSoup\n",
    "import pandas as pd\n"
   ]
  },
  {
   "cell_type": "code",
   "execution_count": 3,
   "metadata": {},
   "outputs": [],
   "source": [
    "url = \"https://forecast.weather.gov/MapClick.php?x=276&y=148&site=lox&zmx=&zmy=&map_x=276&map_y=148#.YistZ3rMJPZ\""
   ]
  },
  {
   "cell_type": "code",
   "execution_count": 4,
   "metadata": {},
   "outputs": [
    {
     "data": {
      "text/plain": [
       "<Response [200]>"
      ]
     },
     "execution_count": 4,
     "metadata": {},
     "output_type": "execute_result"
    }
   ],
   "source": [
    "page = requests.get(url)\n",
    "page"
   ]
  },
  {
   "cell_type": "code",
   "execution_count": 5,
   "metadata": {},
   "outputs": [
    {
     "name": "stdout",
     "output_type": "stream",
     "text": [
      "['Today', 'Wednesday', 'Thursday', 'Friday', 'Saturday']\n"
     ]
    }
   ],
   "source": [
    "soup = BeautifulSoup(page.content, \"html.parser\")\n",
    "\n",
    "day = soup.find_all('div', class_='row row-odd row-forecast')\n",
    "\n",
    "\n",
    "week_names = []\n",
    "for i in day:\n",
    "    week_names.append(i.text.split()[0][:-6])\n",
    "    a = week_names[:5]\n",
    "        \n",
    "print(a)\n",
    "    \n"
   ]
  },
  {
   "cell_type": "code",
   "execution_count": 6,
   "metadata": {},
   "outputs": [
    {
     "name": "stdout",
     "output_type": "stream",
     "text": [
      "['Sunny,', 'Sunny,', 'Sunny,', 'Mostly', 'Patchy', 'Patchy', 'ondayA']\n"
     ]
    }
   ],
   "source": [
    "des = []\n",
    "for i in day:\n",
    "    des.append(i.text.split()[0][-6:])\n",
    "print(des)    "
   ]
  },
  {
   "cell_type": "code",
   "execution_count": 7,
   "metadata": {},
   "outputs": [
    {
     "name": "stdout",
     "output_type": "stream",
     "text": [
      "[['with', 'a', 'high', 'near', '83.', 'North', 'northeast', 'wind', '5', 'to', '10', 'mph', 'becoming', 'west', 'southwest', 'in', 'the', 'afternoon.', 'Winds', 'could', 'gust', 'as', 'high', 'as', '15', 'mph.'], ['with', 'a', 'high', 'near', '89.', 'North', 'northeast', 'wind', '5', 'to', '10', 'mph', 'becoming', 'south', 'southwest', 'in', 'the', 'afternoon.', 'Winds', 'could', 'gust', 'as', 'high', 'as', '15', 'mph.'], ['with', 'a', 'high', 'near', '83.', 'Northeast', 'wind', '5', 'to', '10', 'mph', 'becoming', 'southwest', 'in', 'the', 'afternoon.', 'Winds', 'could', 'gust', 'as', 'high', 'as', '15', 'mph.'], ['sunny,', 'with', 'a', 'high', 'near', '78.'], ['fog', 'before', '11am.', 'Otherwise,', 'partly', 'sunny,', 'with', 'a', 'high', 'near', '76.'], ['fog.', 'Otherwise,', 'mostly', 'cloudy,', 'with', 'a', 'high', 'near', '70.'], ['chance', 'of', 'rain.', 'Partly', 'sunny,', 'with', 'a', 'high', 'near', '70.']]\n"
     ]
    }
   ],
   "source": [
    "des1 = []\n",
    "for i in day:\n",
    "    des1.append(i.text.split()[1:])\n",
    "print(des1)   "
   ]
  },
  {
   "cell_type": "code",
   "execution_count": 8,
   "metadata": {},
   "outputs": [
    {
     "name": "stdout",
     "output_type": "stream",
     "text": [
      "[['Sunny,', 'with', 'a', 'high', 'near', '83.', 'North', 'northeast', 'wind', '5', 'to', '10', 'mph', 'becoming', 'west', 'southwest', 'in', 'the', 'afternoon.', 'Winds', 'could', 'gust', 'as', 'high', 'as', '15', 'mph.'], ['Sunny,', 'with', 'a', 'high', 'near', '89.', 'North', 'northeast', 'wind', '5', 'to', '10', 'mph', 'becoming', 'south', 'southwest', 'in', 'the', 'afternoon.', 'Winds', 'could', 'gust', 'as', 'high', 'as', '15', 'mph.'], ['Sunny,', 'with', 'a', 'high', 'near', '83.', 'Northeast', 'wind', '5', 'to', '10', 'mph', 'becoming', 'southwest', 'in', 'the', 'afternoon.', 'Winds', 'could', 'gust', 'as', 'high', 'as', '15', 'mph.'], ['Mostly', 'sunny,', 'with', 'a', 'high', 'near', '78.'], ['Patchy', 'fog', 'before', '11am.', 'Otherwise,', 'partly', 'sunny,', 'with', 'a', 'high', 'near', '76.'], ['fog.', 'Otherwise,', 'mostly', 'cloudy,', 'with', 'a', 'high', 'near', '70.'], ['chance', 'of', 'rain.', 'Partly', 'sunny,', 'with', 'a', 'high', 'near', '70.']]\n"
     ]
    }
   ],
   "source": [
    "\n",
    "for i in range(5):\n",
    "    des1[i].insert(0, des[i])\n",
    "print(des1)    \n",
    "    \n",
    "   \n",
    "   \n",
    "  "
   ]
  },
  {
   "cell_type": "code",
   "execution_count": 13,
   "metadata": {},
   "outputs": [
    {
     "data": {
      "text/plain": [
       "['Sunny, with a high near 76. Northeast wind 5 to 15 mph becoming south southwest in the morning.',\n",
       " 'Mostly sunny, with a high near 71. East wind 5 to 15 mph becoming west southwest in the afternoon. Winds could gust as high as 20 mph.',\n",
       " 'Sunny, with a high near 75. Northeast wind 5 to 10 mph becoming southwest in the afternoon. Winds could gust as high as 15 mph.',\n",
       " 'Mostly sunny, with a high near 71.',\n",
       " 'Sunny, with a high near 78.']"
      ]
     },
     "execution_count": 13,
     "metadata": {},
     "output_type": "execute_result"
    }
   ],
   "source": [
    "description = []\n",
    "for i in range(5):\n",
    "    description.append(' '.join(des1[i]))\n",
    "description    "
   ]
  },
  {
   "cell_type": "code",
   "execution_count": 15,
   "metadata": {},
   "outputs": [
    {
     "name": "stdout",
     "output_type": "stream",
     "text": [
      "[',', 'Mostly', 'Mostly', 'Partly', 'Mostly', 'Mostly']\n"
     ]
    }
   ],
   "source": [
    "night = soup.find_all('div', class_='row row-even row-forecast')\n",
    "\n",
    "\n",
    "night_des = []\n",
    "for i in night:\n",
    "    night_des.append(i.text.split()[1][5:])\n",
    "print(night_des)"
   ]
  },
  {
   "cell_type": "code",
   "execution_count": 16,
   "metadata": {},
   "outputs": [
    {
     "name": "stdout",
     "output_type": "stream",
     "text": [
      "[['with', 'a', 'low', 'around', '49.', 'West', 'southwest', 'wind', 'around', '5', 'mph', 'becoming', 'east', 'after', 'midnight.'], ['clear,', 'with', 'a', 'low', 'around', '50.', 'Northwest', 'wind', 'around', '10', 'mph', 'becoming', 'east', 'northeast', 'after', 'midnight.', 'Winds', 'could', 'gust', 'as', 'high', 'as', '15', 'mph.'], ['clear,', 'with', 'a', 'low', 'around', '54.'], ['cloudy,', 'with', 'a', 'low', 'around', '53.'], ['clear,', 'with', 'a', 'low', 'around', '54.'], ['clear,', 'with', 'a', 'low', 'around', '55.']]\n"
     ]
    }
   ],
   "source": [
    "night_des1 = []\n",
    "for i in night:\n",
    "    night_des1.append(i.text.split()[2:])\n",
    "print(night_des1)    \n"
   ]
  },
  {
   "cell_type": "code",
   "execution_count": 17,
   "metadata": {},
   "outputs": [],
   "source": [
    "for i in range(1,6):\n",
    "    night_des1[i].insert(0, night_des[i])"
   ]
  },
  {
   "cell_type": "code",
   "execution_count": 18,
   "metadata": {},
   "outputs": [
    {
     "data": {
      "text/plain": [
       "['Mostly clear, with a low around 50. Northwest wind around 10 mph becoming east northeast after midnight. Winds could gust as high as 15 mph.',\n",
       " 'Mostly clear, with a low around 54.',\n",
       " 'Partly cloudy, with a low around 53.',\n",
       " 'Mostly clear, with a low around 54.',\n",
       " 'Mostly clear, with a low around 55.']"
      ]
     },
     "execution_count": 18,
     "metadata": {},
     "output_type": "execute_result"
    }
   ],
   "source": [
    "description_night = []\n",
    "for i in range(1,6):\n",
    "    description_night.append(' '.join(night_des1[i]))\n",
    "\n",
    "description_night    "
   ]
  },
  {
   "cell_type": "code",
   "execution_count": 19,
   "metadata": {},
   "outputs": [
    {
     "name": "stdout",
     "output_type": "stream",
     "text": [
      "[50, 54, 53, 54, 55]\n",
      "[32.22, 36.22, 35.22, 36.22, 37.22]\n"
     ]
    }
   ],
   "source": [
    "import re\n",
    "temp_night = []\n",
    "low_temp = []\n",
    "for i in description_night:\n",
    "    temp_night.append(int(re.findall(r'\\d+', i)[0]))\n",
    "\n",
    "for j in temp_night:\n",
    "    low_temp.append(round(float(j)-32*(5/9),2))\n",
    "print(temp_night)    \n",
    "print(low_temp)\n"
   ]
  },
  {
   "cell_type": "code",
   "execution_count": 20,
   "metadata": {},
   "outputs": [
    {
     "name": "stdout",
     "output_type": "stream",
     "text": [
      "[76, 71, 75, 71, 78]\n",
      "[58.22, 53.22, 57.22, 53.22, 60.22]\n"
     ]
    }
   ],
   "source": [
    "import re\n",
    "temp_day = []\n",
    "high_temp = []\n",
    "for i in description:\n",
    "    temp_day.append(int(re.findall(r'\\d+', i)[0]))\n",
    "    \n",
    "for j in temp_day:\n",
    "    high_temp.append(round(float(j)-32*(5/9),2))\n",
    "        \n",
    "print(temp_day)\n",
    "print(high_temp)"
   ]
  },
  {
   "cell_type": "code",
   "execution_count": 44,
   "metadata": {},
   "outputs": [
    {
     "name": "stdout",
     "output_type": "stream",
     "text": [
      "DatetimeIndex(['2022-03-12 15:05:21.957040', '2022-03-13 15:05:21.957040',\n",
      "               '2022-03-14 15:05:21.957040', '2022-03-15 15:05:21.957040',\n",
      "               '2022-03-16 15:05:21.957040'],\n",
      "              dtype='datetime64[ns]', freq='D')\n"
     ]
    }
   ],
   "source": [
    "\n",
    "dates = pd.date_range(start=pd.to_datetime('today'), periods=5)\n",
    "print(dates)\n"
   ]
  },
  {
   "cell_type": "code",
   "execution_count": 46,
   "metadata": {},
   "outputs": [
    {
     "data": {
      "text/html": [
       "<div>\n",
       "<style scoped>\n",
       "    .dataframe tbody tr th:only-of-type {\n",
       "        vertical-align: middle;\n",
       "    }\n",
       "\n",
       "    .dataframe tbody tr th {\n",
       "        vertical-align: top;\n",
       "    }\n",
       "\n",
       "    .dataframe thead th {\n",
       "        text-align: right;\n",
       "    }\n",
       "</style>\n",
       "<table border=\"1\" class=\"dataframe\">\n",
       "  <thead>\n",
       "    <tr style=\"text-align: right;\">\n",
       "      <th></th>\n",
       "      <th>Dates</th>\n",
       "      <th>Days</th>\n",
       "      <th>High temperature, C</th>\n",
       "      <th>Low temperature, C</th>\n",
       "      <th>Day Description</th>\n",
       "      <th>Night Description</th>\n",
       "    </tr>\n",
       "  </thead>\n",
       "  <tbody>\n",
       "    <tr>\n",
       "      <th>0</th>\n",
       "      <td>2022-03-12 15:05:21.957040</td>\n",
       "      <td>Today</td>\n",
       "      <td>58.22</td>\n",
       "      <td>32.22</td>\n",
       "      <td>Sunny, with a high near 76. Northeast wind 5 t...</td>\n",
       "      <td>Mostly clear, with a low around 50. Northwest ...</td>\n",
       "    </tr>\n",
       "    <tr>\n",
       "      <th>1</th>\n",
       "      <td>2022-03-13 15:05:21.957040</td>\n",
       "      <td>Sunday</td>\n",
       "      <td>53.22</td>\n",
       "      <td>36.22</td>\n",
       "      <td>Mostly sunny, with a high near 71. East wind 5...</td>\n",
       "      <td>Mostly clear, with a low around 54.</td>\n",
       "    </tr>\n",
       "    <tr>\n",
       "      <th>2</th>\n",
       "      <td>2022-03-14 15:05:21.957040</td>\n",
       "      <td>Monday</td>\n",
       "      <td>57.22</td>\n",
       "      <td>35.22</td>\n",
       "      <td>Sunny, with a high near 75. Northeast wind 5 t...</td>\n",
       "      <td>Partly cloudy, with a low around 53.</td>\n",
       "    </tr>\n",
       "    <tr>\n",
       "      <th>3</th>\n",
       "      <td>2022-03-15 15:05:21.957040</td>\n",
       "      <td>Tuesday</td>\n",
       "      <td>53.22</td>\n",
       "      <td>36.22</td>\n",
       "      <td>Mostly sunny, with a high near 71.</td>\n",
       "      <td>Mostly clear, with a low around 54.</td>\n",
       "    </tr>\n",
       "    <tr>\n",
       "      <th>4</th>\n",
       "      <td>2022-03-16 15:05:21.957040</td>\n",
       "      <td>Wednesday</td>\n",
       "      <td>60.22</td>\n",
       "      <td>37.22</td>\n",
       "      <td>Sunny, with a high near 78.</td>\n",
       "      <td>Mostly clear, with a low around 55.</td>\n",
       "    </tr>\n",
       "  </tbody>\n",
       "</table>\n",
       "</div>"
      ],
      "text/plain": [
       "                       Dates       Days  High temperature, C  \\\n",
       "0 2022-03-12 15:05:21.957040      Today                58.22   \n",
       "1 2022-03-13 15:05:21.957040     Sunday                53.22   \n",
       "2 2022-03-14 15:05:21.957040     Monday                57.22   \n",
       "3 2022-03-15 15:05:21.957040    Tuesday                53.22   \n",
       "4 2022-03-16 15:05:21.957040  Wednesday                60.22   \n",
       "\n",
       "   Low temperature, C                                    Day Description  \\\n",
       "0               32.22  Sunny, with a high near 76. Northeast wind 5 t...   \n",
       "1               36.22  Mostly sunny, with a high near 71. East wind 5...   \n",
       "2               35.22  Sunny, with a high near 75. Northeast wind 5 t...   \n",
       "3               36.22                 Mostly sunny, with a high near 71.   \n",
       "4               37.22                        Sunny, with a high near 78.   \n",
       "\n",
       "                                   Night Description  \n",
       "0  Mostly clear, with a low around 50. Northwest ...  \n",
       "1                Mostly clear, with a low around 54.  \n",
       "2               Partly cloudy, with a low around 53.  \n",
       "3                Mostly clear, with a low around 54.  \n",
       "4                Mostly clear, with a low around 55.  "
      ]
     },
     "execution_count": 46,
     "metadata": {},
     "output_type": "execute_result"
    }
   ],
   "source": [
    "data = { 'Dates':dates,\n",
    "        'Days':a, \n",
    "        'High temperature, C':high_temp, \n",
    "        'Low temperature, C':low_temp, \n",
    "       'Day Description':description, \n",
    "       'Night Description':description_night \n",
    "}\n",
    "\n",
    "df = pd.DataFrame(data)    \n",
    "df   "
   ]
  }
 ],
 "metadata": {
  "interpreter": {
   "hash": "770021e68aae5e5bc49f7a3b6edb919a4a251fef8e7696fd47196c25263b13c4"
  },
  "kernelspec": {
   "display_name": "Python 3.9.7 ('base')",
   "language": "python",
   "name": "python3"
  },
  "language_info": {
   "codemirror_mode": {
    "name": "ipython",
    "version": 3
   },
   "file_extension": ".py",
   "mimetype": "text/x-python",
   "name": "python",
   "nbconvert_exporter": "python",
   "pygments_lexer": "ipython3",
   "version": "3.9.7"
  },
  "orig_nbformat": 4
 },
 "nbformat": 4,
 "nbformat_minor": 2
}
