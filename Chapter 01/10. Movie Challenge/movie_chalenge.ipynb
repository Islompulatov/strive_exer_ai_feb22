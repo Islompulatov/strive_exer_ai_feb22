{
  "cells": [
    {
      "cell_type": "code",
      "execution_count": 2,
      "metadata": {
        "id": "J1LA3OkD7j-1"
      },
      "outputs": [],
      "source": [
        "import requests\n",
        "from bs4 import BeautifulSoup\n",
        "import pandas as pd"
      ]
    },
    {
      "cell_type": "code",
      "execution_count": 3,
      "metadata": {
        "colab": {
          "base_uri": "https://localhost:8080/"
        },
        "id": "zytrHL_o_YLk",
        "outputId": "68c781df-4331-4c54-ab91-42e38ec6431f"
      },
      "outputs": [
        {
          "ename": "MemoryError",
          "evalue": "",
          "output_type": "error",
          "traceback": [
            "\u001b[1;31m---------------------------------------------------------------------------\u001b[0m",
            "\u001b[1;31mMemoryError\u001b[0m                               Traceback (most recent call last)",
            "\u001b[1;32m~\\AppData\\Local\\Temp/ipykernel_2752/1637598539.py\u001b[0m in \u001b[0;36m<module>\u001b[1;34m\u001b[0m\n\u001b[0;32m     22\u001b[0m     \u001b[0mrate\u001b[0m\u001b[1;33m=\u001b[0m \u001b[0mall_items\u001b[0m\u001b[1;33m[\u001b[0m\u001b[0mj\u001b[0m\u001b[1;33m]\u001b[0m\u001b[1;33m.\u001b[0m\u001b[0mfind_all\u001b[0m\u001b[1;33m(\u001b[0m\u001b[1;34m'strong'\u001b[0m\u001b[1;33m)\u001b[0m\u001b[1;33m[\u001b[0m\u001b[1;36m0\u001b[0m\u001b[1;33m]\u001b[0m\u001b[1;33m.\u001b[0m\u001b[0mtext\u001b[0m\u001b[1;33m\u001b[0m\u001b[1;33m\u001b[0m\u001b[0m\n\u001b[0;32m     23\u001b[0m     \u001b[1;32mwhile\u001b[0m \u001b[0mrate\u001b[0m\u001b[1;33m:\u001b[0m\u001b[1;33m\u001b[0m\u001b[1;33m\u001b[0m\u001b[0m\n\u001b[1;32m---> 24\u001b[1;33m       \u001b[0mrating\u001b[0m\u001b[1;33m.\u001b[0m\u001b[0mappend\u001b[0m\u001b[1;33m(\u001b[0m\u001b[0mrate\u001b[0m\u001b[1;33m)\u001b[0m\u001b[1;33m\u001b[0m\u001b[1;33m\u001b[0m\u001b[0m\n\u001b[0m\u001b[0;32m     25\u001b[0m     \u001b[0mrating\u001b[0m\u001b[1;33m.\u001b[0m\u001b[0mappend\u001b[0m\u001b[1;33m(\u001b[0m\u001b[1;34m'NaN'\u001b[0m\u001b[1;33m)\u001b[0m\u001b[1;33m\u001b[0m\u001b[1;33m\u001b[0m\u001b[0m\n\u001b[0;32m     26\u001b[0m   \u001b[1;32mfor\u001b[0m \u001b[0mk\u001b[0m \u001b[1;32min\u001b[0m \u001b[0mrange\u001b[0m\u001b[1;33m(\u001b[0m\u001b[0mlen\u001b[0m\u001b[1;33m(\u001b[0m\u001b[0mitems\u001b[0m\u001b[1;33m)\u001b[0m\u001b[1;33m)\u001b[0m\u001b[1;33m:\u001b[0m\u001b[1;33m\u001b[0m\u001b[1;33m\u001b[0m\u001b[0m\n",
            "\u001b[1;31mMemoryError\u001b[0m: "
          ]
        }
      ],
      "source": [
        "for i in range(1,100,50):\n",
        "  url = f\"https://www.imdb.com/search/title/?genres=action&start={i}&explore=title_type,genres&ref_=adv_nxt\"\n",
        "  page = requests.get(url)\n",
        "  page\n",
        "  soup = BeautifulSoup(page.content, 'html.parser')\n",
        "\n",
        "  items = soup.find_all(class_='lister-item mode-advanced')\n",
        "\n",
        "  all_items = soup.find_all('div', class_='lister-item-content')\n",
        "  details = all_items[0].find_all('a')\n",
        "  movie_names = []\n",
        "  release_year = []\n",
        "  duration = []\n",
        "  genre = []\n",
        "  \n",
        "  rating = []  \n",
        "  \n",
        "  for j in range(len(all_items)):\n",
        "   \n",
        "    movie_names.append(all_items[j].find_all('a')[0].text)\n",
        "    release_year.append(all_items[j].find_all('span', class_='lister-item-year text-muted unbold')[0].text)\n",
        "    rate= all_items[j].find_all('strong')[0].text\n",
        "    while rate:\n",
        "      rating.append(rate)\n",
        "    rating.append('NaN')  \n",
        "  for k in range(len(items)):\n",
        "    duration.append(items[j].find(class_='runtime').text)\n",
        "    genre.append(items[j].find(class_='genre').text.strip())\n",
        "    \n",
        "\n",
        "\n",
        "  \n",
        "  \n",
        "  # while rate\n",
        "  # rating.append(nan)  \n",
        "\n",
        "  # for l in range(len(rate)):\n",
        "  #   rating.append(rate[l].find_all('strong')[0].text)\n",
        "\n",
        "# data = {\"Movies name\":movie_names, \"Release year\":release_year, \"Duration\":duration,\"Genre\":genre}\n",
        "# df = pd.DataFrame(data)\n",
        "  print(rating)\n",
        "  \n"
      ]
    }
  ],
  "metadata": {
    "colab": {
      "collapsed_sections": [],
      "name": "movie_chalenge.ipynb",
      "provenance": []
    },
    "kernelspec": {
      "display_name": "Python 3",
      "name": "python3"
    },
    "language_info": {
      "codemirror_mode": {
        "name": "ipython",
        "version": 3
      },
      "file_extension": ".py",
      "mimetype": "text/x-python",
      "name": "python",
      "nbconvert_exporter": "python",
      "pygments_lexer": "ipython3",
      "version": "3.9.7"
    }
  },
  "nbformat": 4,
  "nbformat_minor": 0
}
