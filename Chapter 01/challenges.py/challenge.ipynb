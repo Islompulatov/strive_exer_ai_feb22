{
 "cells": [
  {
   "cell_type": "code",
   "execution_count": null,
   "metadata": {},
   "outputs": [],
   "source": [
    "def top(a,k):\n",
    "    "
   ]
  },
  {
   "cell_type": "code",
   "execution_count": 17,
   "metadata": {},
   "outputs": [
    {
     "name": "stdout",
     "output_type": "stream",
     "text": [
      "3\n",
      "1\n",
      "1\n",
      "1\n",
      "1\n",
      "1\n",
      "3\n",
      "1\n",
      "1\n",
      "3\n"
     ]
    }
   ],
   "source": [
    "\n",
    "count = 0\n",
    "def top(a,k):\n",
    "    num = a[0]\n",
    "    for i in a:\n",
    "        frequency = a.count(i)\n",
    "        if frequency > count:\n",
    "            count = frequency\n",
    "            num = i\n",
    "    return num        \n",
    "\n",
    "\n",
    "top([1,2,3,4,6,8,1,7,9,1])       \n",
    "    \n",
    "    \n",
    "    "
   ]
  },
  {
   "cell_type": "code",
   "execution_count": 6,
   "metadata": {},
   "outputs": [
    {
     "name": "stdout",
     "output_type": "stream",
     "text": [
      "[1, 12, 3, 4, 5, 7, 2, 8, 9]\n"
     ]
    }
   ],
   "source": [
    "def duplicate(list):\n",
    "    list1 = []\n",
    "    for i in list:\n",
    "        if i not in list1:\n",
    "            list1.append(i)\n",
    "    return list1    \n",
    "\n",
    "list = [1,12,3,4,5,7,2,3,5,4,8,9]\n",
    "print(duplicate(list))\n",
    "        "
   ]
  },
  {
   "cell_type": "markdown",
   "metadata": {},
   "source": []
  }
 ],
 "metadata": {
  "interpreter": {
   "hash": "770021e68aae5e5bc49f7a3b6edb919a4a251fef8e7696fd47196c25263b13c4"
  },
  "kernelspec": {
   "display_name": "Python 3.9.7 ('base')",
   "language": "python",
   "name": "python3"
  },
  "language_info": {
   "codemirror_mode": {
    "name": "ipython",
    "version": 3
   },
   "file_extension": ".py",
   "mimetype": "text/x-python",
   "name": "python",
   "nbconvert_exporter": "python",
   "pygments_lexer": "ipython3",
   "version": "3.9.7"
  },
  "orig_nbformat": 4
 },
 "nbformat": 4,
 "nbformat_minor": 2
}
