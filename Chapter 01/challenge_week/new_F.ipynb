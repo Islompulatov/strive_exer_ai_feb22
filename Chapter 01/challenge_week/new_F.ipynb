{
 "cells": [
  {
   "cell_type": "code",
   "execution_count": 1,
   "metadata": {},
   "outputs": [],
   "source": [
    "import requests\n",
    "from bs4 import BeautifulSoup\n",
    "import pandas as pd\n"
   ]
  },
  {
   "cell_type": "code",
   "execution_count": 10,
   "metadata": {},
   "outputs": [
    {
     "ename": "AttributeError",
     "evalue": "ResultSet object has no attribute 'text'. You're probably treating a list of elements like a single element. Did you call find_all() when you meant to call find()?",
     "output_type": "error",
     "traceback": [
      "\u001b[1;31m---------------------------------------------------------------------------\u001b[0m",
      "\u001b[1;31mAttributeError\u001b[0m                            Traceback (most recent call last)",
      "\u001b[1;32m~\\AppData\\Local\\Temp/ipykernel_22160/583770091.py\u001b[0m in \u001b[0;36m<module>\u001b[1;34m\u001b[0m\n\u001b[0;32m      6\u001b[0m \u001b[0mall_names\u001b[0m \u001b[1;33m=\u001b[0m \u001b[0msoup\u001b[0m\u001b[1;33m.\u001b[0m\u001b[0mfind_all\u001b[0m\u001b[1;33m(\u001b[0m\u001b[1;34m\"div\"\u001b[0m\u001b[1;33m,\u001b[0m \u001b[0mclass_\u001b[0m\u001b[1;33m=\u001b[0m\u001b[1;34m\"arrange-unit__09f24__rqHTg arrange-unit-fill__09f24__CUubG border-color--default__09f24__NPAKY\"\u001b[0m\u001b[1;33m)\u001b[0m\u001b[1;33m\u001b[0m\u001b[1;33m\u001b[0m\u001b[0m\n\u001b[0;32m      7\u001b[0m \u001b[1;32mfor\u001b[0m \u001b[0mi\u001b[0m \u001b[1;32min\u001b[0m \u001b[0mrange\u001b[0m\u001b[1;33m(\u001b[0m\u001b[0mlen\u001b[0m\u001b[1;33m(\u001b[0m\u001b[0mall_names\u001b[0m\u001b[1;33m)\u001b[0m\u001b[1;33m)\u001b[0m\u001b[1;33m:\u001b[0m\u001b[1;33m\u001b[0m\u001b[1;33m\u001b[0m\u001b[0m\n\u001b[1;32m----> 8\u001b[1;33m     \u001b[0mnames\u001b[0m\u001b[1;33m.\u001b[0m\u001b[0mappend\u001b[0m\u001b[1;33m(\u001b[0m\u001b[0mall_names\u001b[0m\u001b[1;33m[\u001b[0m\u001b[0mi\u001b[0m\u001b[1;33m]\u001b[0m\u001b[1;33m.\u001b[0m\u001b[0mfind_all\u001b[0m\u001b[1;33m(\u001b[0m\u001b[1;34m'a'\u001b[0m\u001b[1;33m)\u001b[0m\u001b[1;33m.\u001b[0m\u001b[0mtext\u001b[0m\u001b[1;33m(\u001b[0m\u001b[1;33m)\u001b[0m\u001b[1;33m)\u001b[0m\u001b[1;33m\u001b[0m\u001b[1;33m\u001b[0m\u001b[0m\n\u001b[0m",
      "\u001b[1;32m~\\anaconda3\\lib\\site-packages\\bs4\\element.py\u001b[0m in \u001b[0;36m__getattr__\u001b[1;34m(self, key)\u001b[0m\n\u001b[0;32m   2251\u001b[0m     \u001b[1;32mdef\u001b[0m \u001b[0m__getattr__\u001b[0m\u001b[1;33m(\u001b[0m\u001b[0mself\u001b[0m\u001b[1;33m,\u001b[0m \u001b[0mkey\u001b[0m\u001b[1;33m)\u001b[0m\u001b[1;33m:\u001b[0m\u001b[1;33m\u001b[0m\u001b[1;33m\u001b[0m\u001b[0m\n\u001b[0;32m   2252\u001b[0m         \u001b[1;34m\"\"\"Raise a helpful exception to explain a common code fix.\"\"\"\u001b[0m\u001b[1;33m\u001b[0m\u001b[1;33m\u001b[0m\u001b[0m\n\u001b[1;32m-> 2253\u001b[1;33m         raise AttributeError(\n\u001b[0m\u001b[0;32m   2254\u001b[0m             \u001b[1;34m\"ResultSet object has no attribute '%s'. You're probably treating a list of elements like a single element. Did you call find_all() when you meant to call find()?\"\u001b[0m \u001b[1;33m%\u001b[0m \u001b[0mkey\u001b[0m\u001b[1;33m\u001b[0m\u001b[1;33m\u001b[0m\u001b[0m\n\u001b[0;32m   2255\u001b[0m         )\n",
      "\u001b[1;31mAttributeError\u001b[0m: ResultSet object has no attribute 'text'. You're probably treating a list of elements like a single element. Did you call find_all() when you meant to call find()?"
     ]
    }
   ],
   "source": [
    "for i in range(1):\n",
    "    url = \"https://www.yelp.co.uk/search?find_desc=hotels&find_loc=London%2C+United+Kingdom&start=\"+str(i)\n",
    "page = requests.get(url)\n",
    "soup = BeautifulSoup(page.content, \"html.parser\")\n",
    "names = []\n",
    "all_names = soup.find_all(\"div\", class_=\"arrange-unit__09f24__rqHTg arrange-unit-fill__09f24__CUubG border-color--default__09f24__NPAKY\")\n",
    "for i in range(len(all_names)):\n",
    "    names.append(all_names[i].find_all('a').text())\n"
   ]
  },
  {
   "cell_type": "code",
   "execution_count": 8,
   "metadata": {},
   "outputs": [
    {
     "data": {
      "text/plain": [
       "['/',\n",
       " '#',\n",
       " '/advertise/consumer_header_redirect',\n",
       " '/writeareview',\n",
       " '/login?return_url=https://www.yelp.co.uk/search?find_desc=hotels&find_loc=London%2C+United+Kingdom&start=0',\n",
       " '/signup?return_url=https://www.yelp.co.uk/search?find_desc=hotels&find_loc=London%2C+United+Kingdom&start=0',\n",
       " '/search?cflt=restaurants&find_loc=London%2C%20United%20Kingdom',\n",
       " '/search?cflt=homeservices&find_loc=London%2C%20United%20Kingdom',\n",
       " '/search?cflt=auto&find_loc=London%2C%20United%20Kingdom',\n",
       " '',\n",
       " '',\n",
       " '',\n",
       " '',\n",
       " '/biz/the-hoxton-shoreditch-london?osq=hotels',\n",
       " '/biz/the-hoxton-shoreditch-london?osq=hotels',\n",
       " '/search?cflt=hotels&find_loc=London%2C+United+Kingdom',\n",
       " '/search?cflt=venues&find_loc=London%2C+United+Kingdom',\n",
       " '/biz/the-hoxton-shoreditch-london?hrid=ejqJLu1cdKvEd-OK-yLRSg&osq=hotels',\n",
       " '/biz/london-marriott-hotel-park-lane-london?osq=hotels',\n",
       " '/biz/london-marriott-hotel-park-lane-london?osq=hotels',\n",
       " '/search?cflt=hotels&find_loc=London%2C+United+Kingdom',\n",
       " '/search?cflt=venues&find_loc=London%2C+United+Kingdom',\n",
       " '/biz/london-marriott-hotel-park-lane-london?hrid=4ofjm6Ete7WR169rpcRfrA&osq=hotels',\n",
       " '/biz/doubletree-by-hilton-hotel-london-hyde-park-london-3?osq=hotels',\n",
       " '/biz/doubletree-by-hilton-hotel-london-hyde-park-london-3?osq=hotels',\n",
       " '/search?cflt=hotels&find_loc=London%2C+United+Kingdom',\n",
       " '/biz/doubletree-by-hilton-hotel-london-hyde-park-london-3?hrid=WwkZ1Dq3KTF7z7kpilo8cA&osq=hotels',\n",
       " '/biz/savoy-hotel-london?osq=hotels',\n",
       " '/biz/savoy-hotel-london?osq=hotels',\n",
       " '/search?cflt=hotels&find_loc=London%2C+United+Kingdom',\n",
       " '/biz/savoy-grill-london-2',\n",
       " '/biz/savoy-hotel-london?hrid=SAOVO6mnofw5eO0Fam3k2w&osq=hotels',\n",
       " '/biz/the-z-hotel-piccadilly-london?osq=hotels',\n",
       " '/biz/the-z-hotel-piccadilly-london?osq=hotels',\n",
       " '/search?cflt=hotels&find_loc=London%2C+United+Kingdom',\n",
       " '/biz/the-z-hotel-piccadilly-london?hrid=rA5tr62KlVUDUdmNf_Zqjg&osq=hotels',\n",
       " '/biz/the-ritz-london-london-2?osq=hotels',\n",
       " '/biz/the-ritz-london-london-2?osq=hotels',\n",
       " '/search?cflt=hotels&find_loc=London%2C+United+Kingdom',\n",
       " '/biz/the-ritz-london-london-2?hrid=UFK56AGA1egTK1DR56OyGA&osq=hotels',\n",
       " '/biz/the-soho-hotel-london?osq=hotels',\n",
       " '/biz/the-soho-hotel-london?osq=hotels',\n",
       " '/search?cflt=hotels&find_loc=London%2C+United+Kingdom',\n",
       " '/biz/the-soho-hotel-london?hrid=o-df2QLvY9qOqRzHzwA8gA&osq=hotels',\n",
       " '/biz/hotel-41-london?osq=hotels',\n",
       " '/biz/hotel-41-london?osq=hotels',\n",
       " '/search?cflt=hotels&find_loc=London%2C+United+Kingdom',\n",
       " '/biz/hotel-41-london?hrid=JrSNwhU6t7MSD3qFt7X0Dw&osq=hotels',\n",
       " '/biz/kimpton-fitzroy-london-london?osq=hotels',\n",
       " '/biz/kimpton-fitzroy-london-london?osq=hotels',\n",
       " '/search?cflt=hotels&find_loc=London%2C+United+Kingdom',\n",
       " '/biz/kimpton-fitzroy-london-london?hrid=j0TuVaNbh1St51fFPvpXAw&osq=hotels',\n",
       " '/biz/hub-premier-inn-london?osq=hotels',\n",
       " '/biz/hub-premier-inn-london?osq=hotels',\n",
       " '/search?cflt=hotels&find_loc=London%2C+United+Kingdom',\n",
       " '/biz/hub-premier-inn-london?hrid=Hdq8bsQL-M4K3MhOct2dsg&osq=hotels',\n",
       " 'https://www.yelp.co.uk/search?find_desc=hotels&find_loc=London%2C%20United%20Kingdom&start=10',\n",
       " 'https://www.yelp.co.uk/search?find_desc=hotels&find_loc=London%2C%20United%20Kingdom&start=20',\n",
       " 'https://www.yelp.co.uk/search?find_desc=hotels&find_loc=London%2C%20United%20Kingdom&start=30',\n",
       " 'https://www.yelp.co.uk/search?find_desc=hotels&find_loc=London%2C%20United%20Kingdom&start=40',\n",
       " 'https://www.yelp.co.uk/search?find_desc=hotels&find_loc=London%2C%20United%20Kingdom&start=50',\n",
       " 'https://www.yelp.co.uk/search?find_desc=hotels&find_loc=London%2C%20United%20Kingdom&start=60',\n",
       " 'https://www.yelp.co.uk/search?find_desc=hotels&find_loc=London%2C%20United%20Kingdom&start=70',\n",
       " 'https://www.yelp.co.uk/search?find_desc=hotels&find_loc=London%2C%20United%20Kingdom&start=80',\n",
       " 'https://www.yelp.co.uk/search?find_desc=hotels&find_loc=London%2C%20United%20Kingdom&start=10',\n",
       " '/search/add_business/search_button_www?find_loc=London%2C+United+Kingdom&find_loc=London%2C+United+Kingdom',\n",
       " '/contact?topic=feedback',\n",
       " '/topic/london-hotels-west-end',\n",
       " '/topic/london-hotels',\n",
       " '/topic/london-hotels-near-bush-hall',\n",
       " 'https://www.yelp.co.uk/about',\n",
       " 'https://www.yelp.co.uk/careers/home',\n",
       " 'https://www.yelp.co.uk/press',\n",
       " 'http://yelp-ir.com/',\n",
       " 'https://trust.yelp.com',\n",
       " 'https://www.yelp.co.uk/guidelines',\n",
       " 'https://www.yelp.co.uk/static?p=tos',\n",
       " 'https://www.yelp.co.uk/tos/privacy_policy',\n",
       " 'https://www.yelp.co.uk/static?p=tos#third-parties',\n",
       " 'https://www.yelp.co.uk/collections',\n",
       " 'https://www.yelp.co.uk/talk',\n",
       " 'https://www.yelp.co.uk/events',\n",
       " 'https://blog.yelp.com/',\n",
       " 'https://www.yelp-support.com/',\n",
       " 'https://www.yelp.co.uk/yelpmobile?source=footer',\n",
       " 'https://www.yelp.co.uk/developers?country=US',\n",
       " 'https://www.yelp.co.uk/rss',\n",
       " 'https://biz.yelp.com/claim?utm_source=footer&utm_medium=www&utm_content=claim_footer_link&utm_campaign=claim_business',\n",
       " 'https://www.yelp.co.uk/advertise',\n",
       " 'https://biz.yelp.com/support/case_studies',\n",
       " 'https://www.yelp-support.com/Yelp_for_Business?l=en_GB',\n",
       " 'https://www.yelpblog.com/section/business',\n",
       " '',\n",
       " '',\n",
       " 'https://www.yelp.co.uk/about',\n",
       " 'https://blog.yelp.com/',\n",
       " 'https://www.yelp-support.com/',\n",
       " 'https://www.yelp.co.uk/static?p=tos',\n",
       " 'https://www.yelp.co.uk/tos/privacy_policy']"
      ]
     },
     "execution_count": 8,
     "metadata": {},
     "output_type": "execute_result"
    }
   ],
   "source": [
    "week_names"
   ]
  },
  {
   "cell_type": "code",
   "execution_count": 6,
   "metadata": {},
   "outputs": [
    {
     "data": {
      "text/plain": [
       "<Response [200]>"
      ]
     },
     "execution_count": 6,
     "metadata": {},
     "output_type": "execute_result"
    }
   ],
   "source": [
    "\n",
    "page"
   ]
  },
  {
   "cell_type": "markdown",
   "metadata": {},
   "source": [
    "html = '''<a href=\"some_url\">next</a>\n",
    "<span class=\"class\"><a href=\"another_url\">later</a></span>'''\n",
    "\n",
    "soup = BeautifulSoup(html)\n",
    "\n",
    "for a in soup.find_all('a', href=True):\n",
    "    print \"Found the URL:\", a['href']"
   ]
  },
  {
   "cell_type": "code",
   "execution_count": null,
   "metadata": {},
   "outputs": [],
   "source": [
    "\n",
    "    print \"Found the URL:\", a['href']\n",
    "for i in day:\n",
    "    week_names.append(i.text.split()[0][:-6])\n",
    "    a = week_names[:5]        \n",
    "print(a)"
   ]
  }
 ],
 "metadata": {
  "interpreter": {
   "hash": "770021e68aae5e5bc49f7a3b6edb919a4a251fef8e7696fd47196c25263b13c4"
  },
  "kernelspec": {
   "display_name": "Python 3.9.7 ('base')",
   "language": "python",
   "name": "python3"
  },
  "language_info": {
   "codemirror_mode": {
    "name": "ipython",
    "version": 3
   },
   "file_extension": ".py",
   "mimetype": "text/x-python",
   "name": "python",
   "nbconvert_exporter": "python",
   "pygments_lexer": "ipython3",
   "version": "3.9.7"
  },
  "orig_nbformat": 4
 },
 "nbformat": 4,
 "nbformat_minor": 2
}
