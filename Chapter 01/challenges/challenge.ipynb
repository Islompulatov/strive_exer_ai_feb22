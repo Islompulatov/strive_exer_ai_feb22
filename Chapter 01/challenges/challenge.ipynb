{
 "cells": [
  {
   "cell_type": "code",
   "execution_count": null,
   "metadata": {},
   "outputs": [],
   "source": [
    "def top(a,k):\n",
    "    "
   ]
  },
  {
   "cell_type": "code",
   "execution_count": 17,
   "metadata": {},
   "outputs": [
    {
     "name": "stdout",
     "output_type": "stream",
     "text": [
      "3\n",
      "1\n",
      "1\n",
      "1\n",
      "1\n",
      "1\n",
      "3\n",
      "1\n",
      "1\n",
      "3\n"
     ]
    }
   ],
   "source": [
    "\n",
    "count = 0\n",
    "def top(a,k):\n",
    "    num = a[0]\n",
    "    for i in a:\n",
    "        frequency = a.count(i)\n",
    "        if frequency > count:\n",
    "            count = frequency\n",
    "            num = i\n",
    "    return num        \n",
    "\n",
    "\n",
    "top([1,2,3,4,6,8,1,7,9,1])       \n",
    "    \n",
    "    \n",
    "    "
   ]
  },
  {
   "cell_type": "code",
   "execution_count": 6,
   "metadata": {},
   "outputs": [
    {
     "name": "stdout",
     "output_type": "stream",
     "text": [
      "[1, 12, 3, 4, 5, 7, 2, 8, 9]\n"
     ]
    }
   ],
   "source": [
    "def duplicate(list):\n",
    "    list1 = []\n",
    "    for i in list:\n",
    "        if i not in list1:\n",
    "            list1.append(i)\n",
    "    return list1    \n",
    "\n",
    "list = [1,12,3,4,5,7,2,3,5,4,8,9]\n",
    "print(duplicate(list))\n",
    "        "
   ]
  },
  {
   "cell_type": "markdown",
   "metadata": {},
   "source": []
  },
  {
   "cell_type": "code",
   "execution_count": 5,
   "metadata": {},
   "outputs": [
    {
     "ename": "SyntaxError",
     "evalue": "invalid syntax (Temp/ipykernel_15648/2316248147.py, line 3)",
     "output_type": "error",
     "traceback": [
      "\u001b[1;36m  File \u001b[1;32m\"C:\\Users\\asus\\AppData\\Local\\Temp/ipykernel_15648/2316248147.py\"\u001b[1;36m, line \u001b[1;32m3\u001b[0m\n\u001b[1;33m    df[if 'Robert Pattinson' in df['Stars']]\u001b[0m\n\u001b[1;37m       ^\u001b[0m\n\u001b[1;31mSyntaxError\u001b[0m\u001b[1;31m:\u001b[0m invalid syntax\n"
     ]
    }
   ],
   "source": [
    "import pandas as pd\n",
    "df= pd.read_csv('data_action.csv')\n",
    "df[if 'Robert Pattinson' in df['Stars']]\n"
   ]
  },
  {
   "cell_type": "code",
   "execution_count": 4,
   "metadata": {},
   "outputs": [
    {
     "data": {
      "text/html": [
       "<div>\n",
       "<style scoped>\n",
       "    .dataframe tbody tr th:only-of-type {\n",
       "        vertical-align: middle;\n",
       "    }\n",
       "\n",
       "    .dataframe tbody tr th {\n",
       "        vertical-align: top;\n",
       "    }\n",
       "\n",
       "    .dataframe thead th {\n",
       "        text-align: right;\n",
       "    }\n",
       "</style>\n",
       "<table border=\"1\" class=\"dataframe\">\n",
       "  <thead>\n",
       "    <tr style=\"text-align: right;\">\n",
       "      <th></th>\n",
       "      <th>Title</th>\n",
       "      <th>Description</th>\n",
       "      <th>Release</th>\n",
       "      <th>Director</th>\n",
       "      <th>Rating</th>\n",
       "      <th>Duration</th>\n",
       "      <th>Votes</th>\n",
       "      <th>Genre</th>\n",
       "      <th>Stars</th>\n",
       "    </tr>\n",
       "  </thead>\n",
       "  <tbody>\n",
       "    <tr>\n",
       "      <th>0</th>\n",
       "      <td>The Batman</td>\n",
       "      <td>When the Riddler, a sadistic serial killer, be...</td>\n",
       "      <td>2022</td>\n",
       "      <td>Matt Reeves</td>\n",
       "      <td>8.4</td>\n",
       "      <td>176.0</td>\n",
       "      <td>261605.0</td>\n",
       "      <td>Action, Crime, Drama</td>\n",
       "      <td>Robert Pattinson, Zoë Kravitz, Jeffrey Wright,...</td>\n",
       "    </tr>\n",
       "    <tr>\n",
       "      <th>28</th>\n",
       "      <td>Il cavaliere oscuro - Il ritorno</td>\n",
       "      <td>Eight years after the Joker's reign of anarchy...</td>\n",
       "      <td>2012</td>\n",
       "      <td>Christopher Nolan</td>\n",
       "      <td>8.4</td>\n",
       "      <td>164.0</td>\n",
       "      <td>1634.0</td>\n",
       "      <td>Action, Crime, Drama</td>\n",
       "      <td>Christian Bale, Tom Hardy, Anne Hathaway, Gary...</td>\n",
       "    </tr>\n",
       "    <tr>\n",
       "      <th>61</th>\n",
       "      <td>Avengers: Endgame</td>\n",
       "      <td>After the devastating events of Avengers: Infi...</td>\n",
       "      <td>2019</td>\n",
       "      <td>Anthony Russo</td>\n",
       "      <td>8.4</td>\n",
       "      <td>181.0</td>\n",
       "      <td>1028.0</td>\n",
       "      <td>Action, Adventure, Drama</td>\n",
       "      <td>Robert Downey Jr., Chris Evans, Mark Ruffalo, ...</td>\n",
       "    </tr>\n",
       "    <tr>\n",
       "      <th>92</th>\n",
       "      <td>Star Wars: The Clone Wars</td>\n",
       "      <td>Jedi Knights lead the Grand Army of the Republ...</td>\n",
       "      <td>2008</td>\n",
       "      <td>Tom Kane</td>\n",
       "      <td>8.4</td>\n",
       "      <td>23.0</td>\n",
       "      <td>83220.0</td>\n",
       "      <td>Animation, Action, Adventure</td>\n",
       "      <td>Tom Kane, Dee Bradley Baker, Matt Lanter, Jame...</td>\n",
       "    </tr>\n",
       "  </tbody>\n",
       "</table>\n",
       "</div>"
      ],
      "text/plain": [
       "                               Title  \\\n",
       "0                         The Batman   \n",
       "28  Il cavaliere oscuro - Il ritorno   \n",
       "61                 Avengers: Endgame   \n",
       "92         Star Wars: The Clone Wars   \n",
       "\n",
       "                                          Description Release  \\\n",
       "0   When the Riddler, a sadistic serial killer, be...    2022   \n",
       "28  Eight years after the Joker's reign of anarchy...    2012   \n",
       "61  After the devastating events of Avengers: Infi...    2019   \n",
       "92  Jedi Knights lead the Grand Army of the Republ...    2008   \n",
       "\n",
       "             Director  Rating  Duration     Votes  \\\n",
       "0         Matt Reeves     8.4     176.0  261605.0   \n",
       "28  Christopher Nolan     8.4     164.0    1634.0   \n",
       "61      Anthony Russo     8.4     181.0    1028.0   \n",
       "92           Tom Kane     8.4      23.0   83220.0   \n",
       "\n",
       "                           Genre  \\\n",
       "0           Action, Crime, Drama   \n",
       "28          Action, Crime, Drama   \n",
       "61      Action, Adventure, Drama   \n",
       "92  Animation, Action, Adventure   \n",
       "\n",
       "                                                Stars  \n",
       "0   Robert Pattinson, Zoë Kravitz, Jeffrey Wright,...  \n",
       "28  Christian Bale, Tom Hardy, Anne Hathaway, Gary...  \n",
       "61  Robert Downey Jr., Chris Evans, Mark Ruffalo, ...  \n",
       "92  Tom Kane, Dee Bradley Baker, Matt Lanter, Jame...  "
      ]
     },
     "execution_count": 4,
     "metadata": {},
     "output_type": "execute_result"
    }
   ],
   "source": [
    "df[df['Rating'] == 8.4]"
   ]
  },
  {
   "cell_type": "code",
   "execution_count": 3,
   "metadata": {},
   "outputs": [
    {
     "data": {
      "text/html": [
       "<div>\n",
       "<style scoped>\n",
       "    .dataframe tbody tr th:only-of-type {\n",
       "        vertical-align: middle;\n",
       "    }\n",
       "\n",
       "    .dataframe tbody tr th {\n",
       "        vertical-align: top;\n",
       "    }\n",
       "\n",
       "    .dataframe thead th {\n",
       "        text-align: right;\n",
       "    }\n",
       "</style>\n",
       "<table border=\"1\" class=\"dataframe\">\n",
       "  <thead>\n",
       "    <tr style=\"text-align: right;\">\n",
       "      <th></th>\n",
       "      <th>Title</th>\n",
       "      <th>Description</th>\n",
       "      <th>Release</th>\n",
       "      <th>Director</th>\n",
       "      <th>Rating</th>\n",
       "      <th>Duration</th>\n",
       "      <th>Votes</th>\n",
       "      <th>Genre</th>\n",
       "      <th>Stars</th>\n",
       "    </tr>\n",
       "  </thead>\n",
       "  <tbody>\n",
       "    <tr>\n",
       "      <th>0</th>\n",
       "      <td>The Batman</td>\n",
       "      <td>When the Riddler, a sadistic serial killer, be...</td>\n",
       "      <td>2022</td>\n",
       "      <td>Matt Reeves</td>\n",
       "      <td>8.4</td>\n",
       "      <td>176.0</td>\n",
       "      <td>261605.0</td>\n",
       "      <td>Action, Crime, Drama</td>\n",
       "      <td>Robert Pattinson, Zoë Kravitz, Jeffrey Wright,...</td>\n",
       "    </tr>\n",
       "    <tr>\n",
       "      <th>1</th>\n",
       "      <td>The Adam Project</td>\n",
       "      <td>\"After accidentally crash-landing in 2022, tim...</td>\n",
       "      <td>2022</td>\n",
       "      <td>Shawn Levy</td>\n",
       "      <td>6.8</td>\n",
       "      <td>106.0</td>\n",
       "      <td>81268.0</td>\n",
       "      <td>Action, Adventure, Comedy</td>\n",
       "      <td>Ryan Reynolds, Walker Scobell, Mark Ruffalo, J...</td>\n",
       "    </tr>\n",
       "  </tbody>\n",
       "</table>\n",
       "</div>"
      ],
      "text/plain": [
       "              Title                                        Description  \\\n",
       "0        The Batman  When the Riddler, a sadistic serial killer, be...   \n",
       "1  The Adam Project  \"After accidentally crash-landing in 2022, tim...   \n",
       "\n",
       "  Release     Director  Rating  Duration     Votes                      Genre  \\\n",
       "0    2022  Matt Reeves     8.4     176.0  261605.0       Action, Crime, Drama   \n",
       "1    2022   Shawn Levy     6.8     106.0   81268.0  Action, Adventure, Comedy   \n",
       "\n",
       "                                               Stars  \n",
       "0  Robert Pattinson, Zoë Kravitz, Jeffrey Wright,...  \n",
       "1  Ryan Reynolds, Walker Scobell, Mark Ruffalo, J...  "
      ]
     },
     "execution_count": 3,
     "metadata": {},
     "output_type": "execute_result"
    }
   ],
   "source": [
    "df.head(2)"
   ]
  }
 ],
 "metadata": {
  "interpreter": {
   "hash": "770021e68aae5e5bc49f7a3b6edb919a4a251fef8e7696fd47196c25263b13c4"
  },
  "kernelspec": {
   "display_name": "Python 3.9.7 ('base')",
   "language": "python",
   "name": "python3"
  },
  "language_info": {
   "codemirror_mode": {
    "name": "ipython",
    "version": 3
   },
   "file_extension": ".py",
   "mimetype": "text/x-python",
   "name": "python",
   "nbconvert_exporter": "python",
   "pygments_lexer": "ipython3",
   "version": "3.9.7"
  },
  "orig_nbformat": 4
 },
 "nbformat": 4,
 "nbformat_minor": 2
}
