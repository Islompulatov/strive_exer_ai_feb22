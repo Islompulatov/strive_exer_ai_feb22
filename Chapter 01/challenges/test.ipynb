{
 "cells": [
  {
   "cell_type": "code",
   "execution_count": 4,
   "metadata": {},
   "outputs": [
    {
     "name": "stdout",
     "output_type": "stream",
     "text": [
      "A= 2\n",
      "B= 1 \n",
      "C= 7 \n",
      "D= 8\n"
     ]
    }
   ],
   "source": [
    "from time import time\n",
    "def nested_nest():\n",
    "    for a in range(1,9):\n",
    "        for b in range(0,9):\n",
    "            for c in range(0,9):\n",
    "                for d in range(1,9):\n",
    "                    if 4*(a*1000+b*100+c*10+d) == (a+b*10+c*100+d*1000):\n",
    "                        print(\"A= \"+str(a)+\"\\nB= \"+str(b),\"\\nC= \"+str(c),\"\\nD= \"+str(d))\n",
    "nested_nest() \n",
    " \n",
    "\n"
   ]
  },
  {
   "cell_type": "code",
   "execution_count": 12,
   "metadata": {},
   "outputs": [
    {
     "name": "stdout",
     "output_type": "stream",
     "text": [
      "['2178']\n"
     ]
    }
   ],
   "source": [
    "tt = [str(a)+str(b)+str(c)+str(d)  for a in range(1,9) for b in range(1,9) for c in range(1,9) \n",
    "for d in range(1,9) if 4*(a*1000+b*100+c*10+d) == (a+b*10+c*100+d*1000)]\n",
    "print(tt)"
   ]
  },
  {
   "cell_type": "code",
   "execution_count": 5,
   "metadata": {},
   "outputs": [
    {
     "name": "stdout",
     "output_type": "stream",
     "text": [
      "A= 2\n",
      "B= 1 \n",
      "C= 7 \n",
      "D= 8\n",
      "time eclapsed 0.0019884109497070312 s\n"
     ]
    }
   ],
   "source": [
    "t0 = time()\n",
    "nested_nest()\n",
    "t1 =time()-t0\n",
    "print('time eclapsed', t1, 's')"
   ]
  },
  {
   "cell_type": "code",
   "execution_count": 10,
   "metadata": {},
   "outputs": [
    {
     "name": "stdout",
     "output_type": "stream",
     "text": [
      "time eclapsed 0.0 s\n"
     ]
    }
   ],
   "source": [
    "t0 = time()\n",
    "tt\n",
    "t1 = time() - t0\n",
    "print('time eclapsed', t1, 's')"
   ]
  },
  {
   "cell_type": "code",
   "execution_count": 1,
   "metadata": {},
   "outputs": [
    {
     "name": "stderr",
     "output_type": "stream",
     "text": [
      "2022-03-25 11:55:50.260 INFO    numexpr.utils: NumExpr defaulting to 8 threads.\n",
      "2022-03-25 11:55:52.859 \n",
      "  \u001b[33m\u001b[1mWarning:\u001b[0m to view this Streamlit app on a browser, run it with the following\n",
      "  command:\n",
      "\n",
      "    streamlit run C:\\Users\\asus\\anaconda3\\lib\\site-packages\\ipykernel_launcher.py [ARGUMENTS]\n"
     ]
    },
    {
     "data": {
      "text/plain": [
       "DeltaGenerator(_root_container=0, _provided_cursor=None, _parent=None, _block_type=None, _form_data=None)"
      ]
     },
     "execution_count": 1,
     "metadata": {},
     "output_type": "execute_result"
    }
   ],
   "source": [
    "from sre_constants import SUCCESS\n",
    "import streamlit as st\n",
    "from PIL import Image\n",
    "import numpy as np\n",
    "import pandas as pd\n",
    "df =pd.read_csv('./data_action.csv')\n",
    "\n",
    "st.title('The Best Action Movie')\n",
    "st.header('Choose your best movie')\n",
    "st.subheader('Good Luck')\n",
    "st.write('Have a fun!')\n",
    "img = Image.open(\"action.webp\")\n",
    "st.image(img, width = 700, caption=\"Action Image\")\n",
    "status = st.sidebar.radio('How is your mood today?',('Good','Bad'))\n",
    "if status == 'Good':\n",
    "    st.success('You can watch movie today')\n",
    "else:\n",
    "    st.warning('You can movie another day, go to sleep')    \n",
    "select_classifier = st.sidebar.selectbox('select your favourite actor/actress',('Tom Hardy','Ben Affleck','Charlize Theron','Natalie Portman'))\n",
    "\n",
    "    \n",
    "st.write(select_classifier)\n",
    "data_set=st.sidebar.selectbox('select the director',('James Cameron', 'David Fincher', 'George Miller','Pierre Morel'))\n",
    "st.write(data_set)\n",
    "level = st.sidebar.slider('Choose your amount of movie', 1,100)\n",
    "\n",
    "\n",
    "\n",
    "vid_file = open(\"file.mp4\",\"rb\").read()\n",
    "st.video(vid_file)"
   ]
  },
  {
   "cell_type": "code",
   "execution_count": 72,
   "metadata": {},
   "outputs": [],
   "source": [
    "import numpy as np\n",
    "import matplotlib.pyplot as plt\n"
   ]
  },
  {
   "cell_type": "code",
   "execution_count": 17,
   "metadata": {},
   "outputs": [
    {
     "data": {
      "text/plain": [
       "array([1, 2, 3, 4, 5])"
      ]
     },
     "execution_count": 17,
     "metadata": {},
     "output_type": "execute_result"
    }
   ],
   "source": [
    "a = np.array([1,2,3,4,5])\n",
    "a"
   ]
  },
  {
   "cell_type": "code",
   "execution_count": 18,
   "metadata": {},
   "outputs": [
    {
     "data": {
      "text/plain": [
       "array([-1.41421356, -0.70710678,  0.        ,  0.70710678,  1.41421356])"
      ]
     },
     "execution_count": 18,
     "metadata": {},
     "output_type": "execute_result"
    }
   ],
   "source": [
    "b = (a-np.mean(a))/np.std(a)\n",
    "b"
   ]
  },
  {
   "cell_type": "code",
   "execution_count": 19,
   "metadata": {},
   "outputs": [
    {
     "data": {
      "text/plain": [
       "0.9999999999999999"
      ]
     },
     "execution_count": 19,
     "metadata": {},
     "output_type": "execute_result"
    }
   ],
   "source": [
    "np.std(b)"
   ]
  },
  {
   "cell_type": "code",
   "execution_count": 20,
   "metadata": {},
   "outputs": [
    {
     "data": {
      "text/plain": [
       "0.0"
      ]
     },
     "execution_count": 20,
     "metadata": {},
     "output_type": "execute_result"
    }
   ],
   "source": [
    "np.mean(b)"
   ]
  },
  {
   "cell_type": "code",
   "execution_count": 21,
   "metadata": {},
   "outputs": [],
   "source": [
    "from sklearn.preprocessing import StandardScaler"
   ]
  },
  {
   "cell_type": "code",
   "execution_count": 22,
   "metadata": {},
   "outputs": [
    {
     "data": {
      "text/plain": [
       "array([1, 2, 3, 4, 5])"
      ]
     },
     "execution_count": 22,
     "metadata": {},
     "output_type": "execute_result"
    }
   ],
   "source": [
    "a"
   ]
  },
  {
   "cell_type": "code",
   "execution_count": 23,
   "metadata": {},
   "outputs": [],
   "source": [
    "scaler = StandardScaler()"
   ]
  },
  {
   "cell_type": "code",
   "execution_count": 25,
   "metadata": {},
   "outputs": [
    {
     "ename": "ValueError",
     "evalue": "Expected 2D array, got 1D array instead:\narray=[1. 2. 3. 4. 5.].\nReshape your data either using array.reshape(-1, 1) if your data has a single feature or array.reshape(1, -1) if it contains a single sample.",
     "output_type": "error",
     "traceback": [
      "\u001b[1;31m---------------------------------------------------------------------------\u001b[0m",
      "\u001b[1;31mValueError\u001b[0m                                Traceback (most recent call last)",
      "\u001b[1;32mc:\\Users\\asus\\Documents\\GitHub\\strive_exer_ai_feb22\\Chapter 01\\challenges\\test.ipynb Cell 14'\u001b[0m in \u001b[0;36m<cell line: 1>\u001b[1;34m()\u001b[0m\n\u001b[1;32m----> <a href='vscode-notebook-cell:/c%3A/Users/asus/Documents/GitHub/strive_exer_ai_feb22/Chapter%2001/challenges/test.ipynb#ch0000014?line=0'>1</a>\u001b[0m scaler\u001b[39m.\u001b[39;49mfit(a)\n",
      "File \u001b[1;32m~\\anaconda3\\envs\\school\\lib\\site-packages\\sklearn\\preprocessing\\_data.py:730\u001b[0m, in \u001b[0;36mStandardScaler.fit\u001b[1;34m(self, X, y, sample_weight)\u001b[0m\n\u001b[0;32m    <a href='file:///c%3A/Users/asus/anaconda3/envs/school/lib/site-packages/sklearn/preprocessing/_data.py?line=727'>728</a>\u001b[0m \u001b[39m# Reset internal state before fitting\u001b[39;00m\n\u001b[0;32m    <a href='file:///c%3A/Users/asus/anaconda3/envs/school/lib/site-packages/sklearn/preprocessing/_data.py?line=728'>729</a>\u001b[0m \u001b[39mself\u001b[39m\u001b[39m.\u001b[39m_reset()\n\u001b[1;32m--> <a href='file:///c%3A/Users/asus/anaconda3/envs/school/lib/site-packages/sklearn/preprocessing/_data.py?line=729'>730</a>\u001b[0m \u001b[39mreturn\u001b[39;00m \u001b[39mself\u001b[39;49m\u001b[39m.\u001b[39;49mpartial_fit(X, y, sample_weight)\n",
      "File \u001b[1;32m~\\anaconda3\\envs\\school\\lib\\site-packages\\sklearn\\preprocessing\\_data.py:766\u001b[0m, in \u001b[0;36mStandardScaler.partial_fit\u001b[1;34m(self, X, y, sample_weight)\u001b[0m\n\u001b[0;32m    <a href='file:///c%3A/Users/asus/anaconda3/envs/school/lib/site-packages/sklearn/preprocessing/_data.py?line=732'>733</a>\u001b[0m \u001b[39m\"\"\"\u001b[39;00m\n\u001b[0;32m    <a href='file:///c%3A/Users/asus/anaconda3/envs/school/lib/site-packages/sklearn/preprocessing/_data.py?line=733'>734</a>\u001b[0m \u001b[39mOnline computation of mean and std on X for later scaling.\u001b[39;00m\n\u001b[0;32m    <a href='file:///c%3A/Users/asus/anaconda3/envs/school/lib/site-packages/sklearn/preprocessing/_data.py?line=734'>735</a>\u001b[0m \n\u001b[1;32m   (...)\u001b[0m\n\u001b[0;32m    <a href='file:///c%3A/Users/asus/anaconda3/envs/school/lib/site-packages/sklearn/preprocessing/_data.py?line=762'>763</a>\u001b[0m \u001b[39m    Fitted scaler.\u001b[39;00m\n\u001b[0;32m    <a href='file:///c%3A/Users/asus/anaconda3/envs/school/lib/site-packages/sklearn/preprocessing/_data.py?line=763'>764</a>\u001b[0m \u001b[39m\"\"\"\u001b[39;00m\n\u001b[0;32m    <a href='file:///c%3A/Users/asus/anaconda3/envs/school/lib/site-packages/sklearn/preprocessing/_data.py?line=764'>765</a>\u001b[0m first_call \u001b[39m=\u001b[39m \u001b[39mnot\u001b[39;00m \u001b[39mhasattr\u001b[39m(\u001b[39mself\u001b[39m, \u001b[39m\"\u001b[39m\u001b[39mn_samples_seen_\u001b[39m\u001b[39m\"\u001b[39m)\n\u001b[1;32m--> <a href='file:///c%3A/Users/asus/anaconda3/envs/school/lib/site-packages/sklearn/preprocessing/_data.py?line=765'>766</a>\u001b[0m X \u001b[39m=\u001b[39m \u001b[39mself\u001b[39;49m\u001b[39m.\u001b[39;49m_validate_data(X, accept_sparse\u001b[39m=\u001b[39;49m(\u001b[39m'\u001b[39;49m\u001b[39mcsr\u001b[39;49m\u001b[39m'\u001b[39;49m, \u001b[39m'\u001b[39;49m\u001b[39mcsc\u001b[39;49m\u001b[39m'\u001b[39;49m),\n\u001b[0;32m    <a href='file:///c%3A/Users/asus/anaconda3/envs/school/lib/site-packages/sklearn/preprocessing/_data.py?line=766'>767</a>\u001b[0m                         estimator\u001b[39m=\u001b[39;49m\u001b[39mself\u001b[39;49m, dtype\u001b[39m=\u001b[39;49mFLOAT_DTYPES,\n\u001b[0;32m    <a href='file:///c%3A/Users/asus/anaconda3/envs/school/lib/site-packages/sklearn/preprocessing/_data.py?line=767'>768</a>\u001b[0m                         force_all_finite\u001b[39m=\u001b[39;49m\u001b[39m'\u001b[39;49m\u001b[39mallow-nan\u001b[39;49m\u001b[39m'\u001b[39;49m, reset\u001b[39m=\u001b[39;49mfirst_call)\n\u001b[0;32m    <a href='file:///c%3A/Users/asus/anaconda3/envs/school/lib/site-packages/sklearn/preprocessing/_data.py?line=768'>769</a>\u001b[0m n_features \u001b[39m=\u001b[39m X\u001b[39m.\u001b[39mshape[\u001b[39m1\u001b[39m]\n\u001b[0;32m    <a href='file:///c%3A/Users/asus/anaconda3/envs/school/lib/site-packages/sklearn/preprocessing/_data.py?line=770'>771</a>\u001b[0m \u001b[39mif\u001b[39;00m sample_weight \u001b[39mis\u001b[39;00m \u001b[39mnot\u001b[39;00m \u001b[39mNone\u001b[39;00m:\n",
      "File \u001b[1;32m~\\anaconda3\\envs\\school\\lib\\site-packages\\sklearn\\base.py:421\u001b[0m, in \u001b[0;36mBaseEstimator._validate_data\u001b[1;34m(self, X, y, reset, validate_separately, **check_params)\u001b[0m\n\u001b[0;32m    <a href='file:///c%3A/Users/asus/anaconda3/envs/school/lib/site-packages/sklearn/base.py?line=418'>419</a>\u001b[0m     out \u001b[39m=\u001b[39m X\n\u001b[0;32m    <a href='file:///c%3A/Users/asus/anaconda3/envs/school/lib/site-packages/sklearn/base.py?line=419'>420</a>\u001b[0m \u001b[39melif\u001b[39;00m \u001b[39misinstance\u001b[39m(y, \u001b[39mstr\u001b[39m) \u001b[39mand\u001b[39;00m y \u001b[39m==\u001b[39m \u001b[39m'\u001b[39m\u001b[39mno_validation\u001b[39m\u001b[39m'\u001b[39m:\n\u001b[1;32m--> <a href='file:///c%3A/Users/asus/anaconda3/envs/school/lib/site-packages/sklearn/base.py?line=420'>421</a>\u001b[0m     X \u001b[39m=\u001b[39m check_array(X, \u001b[39m*\u001b[39;49m\u001b[39m*\u001b[39;49mcheck_params)\n\u001b[0;32m    <a href='file:///c%3A/Users/asus/anaconda3/envs/school/lib/site-packages/sklearn/base.py?line=421'>422</a>\u001b[0m     out \u001b[39m=\u001b[39m X\n\u001b[0;32m    <a href='file:///c%3A/Users/asus/anaconda3/envs/school/lib/site-packages/sklearn/base.py?line=422'>423</a>\u001b[0m \u001b[39melse\u001b[39;00m:\n",
      "File \u001b[1;32m~\\anaconda3\\envs\\school\\lib\\site-packages\\sklearn\\utils\\validation.py:63\u001b[0m, in \u001b[0;36m_deprecate_positional_args.<locals>._inner_deprecate_positional_args.<locals>.inner_f\u001b[1;34m(*args, **kwargs)\u001b[0m\n\u001b[0;32m     <a href='file:///c%3A/Users/asus/anaconda3/envs/school/lib/site-packages/sklearn/utils/validation.py?line=60'>61</a>\u001b[0m extra_args \u001b[39m=\u001b[39m \u001b[39mlen\u001b[39m(args) \u001b[39m-\u001b[39m \u001b[39mlen\u001b[39m(all_args)\n\u001b[0;32m     <a href='file:///c%3A/Users/asus/anaconda3/envs/school/lib/site-packages/sklearn/utils/validation.py?line=61'>62</a>\u001b[0m \u001b[39mif\u001b[39;00m extra_args \u001b[39m<\u001b[39m\u001b[39m=\u001b[39m \u001b[39m0\u001b[39m:\n\u001b[1;32m---> <a href='file:///c%3A/Users/asus/anaconda3/envs/school/lib/site-packages/sklearn/utils/validation.py?line=62'>63</a>\u001b[0m     \u001b[39mreturn\u001b[39;00m f(\u001b[39m*\u001b[39;49margs, \u001b[39m*\u001b[39;49m\u001b[39m*\u001b[39;49mkwargs)\n\u001b[0;32m     <a href='file:///c%3A/Users/asus/anaconda3/envs/school/lib/site-packages/sklearn/utils/validation.py?line=64'>65</a>\u001b[0m \u001b[39m# extra_args > 0\u001b[39;00m\n\u001b[0;32m     <a href='file:///c%3A/Users/asus/anaconda3/envs/school/lib/site-packages/sklearn/utils/validation.py?line=65'>66</a>\u001b[0m args_msg \u001b[39m=\u001b[39m [\u001b[39m'\u001b[39m\u001b[39m{}\u001b[39;00m\u001b[39m=\u001b[39m\u001b[39m{}\u001b[39;00m\u001b[39m'\u001b[39m\u001b[39m.\u001b[39mformat(name, arg)\n\u001b[0;32m     <a href='file:///c%3A/Users/asus/anaconda3/envs/school/lib/site-packages/sklearn/utils/validation.py?line=66'>67</a>\u001b[0m             \u001b[39mfor\u001b[39;00m name, arg \u001b[39min\u001b[39;00m \u001b[39mzip\u001b[39m(kwonly_args[:extra_args],\n\u001b[0;32m     <a href='file:///c%3A/Users/asus/anaconda3/envs/school/lib/site-packages/sklearn/utils/validation.py?line=67'>68</a>\u001b[0m                                  args[\u001b[39m-\u001b[39mextra_args:])]\n",
      "File \u001b[1;32m~\\anaconda3\\envs\\school\\lib\\site-packages\\sklearn\\utils\\validation.py:694\u001b[0m, in \u001b[0;36mcheck_array\u001b[1;34m(array, accept_sparse, accept_large_sparse, dtype, order, copy, force_all_finite, ensure_2d, allow_nd, ensure_min_samples, ensure_min_features, estimator)\u001b[0m\n\u001b[0;32m    <a href='file:///c%3A/Users/asus/anaconda3/envs/school/lib/site-packages/sklearn/utils/validation.py?line=691'>692</a>\u001b[0m     \u001b[39m# If input is 1D raise error\u001b[39;00m\n\u001b[0;32m    <a href='file:///c%3A/Users/asus/anaconda3/envs/school/lib/site-packages/sklearn/utils/validation.py?line=692'>693</a>\u001b[0m     \u001b[39mif\u001b[39;00m array\u001b[39m.\u001b[39mndim \u001b[39m==\u001b[39m \u001b[39m1\u001b[39m:\n\u001b[1;32m--> <a href='file:///c%3A/Users/asus/anaconda3/envs/school/lib/site-packages/sklearn/utils/validation.py?line=693'>694</a>\u001b[0m         \u001b[39mraise\u001b[39;00m \u001b[39mValueError\u001b[39;00m(\n\u001b[0;32m    <a href='file:///c%3A/Users/asus/anaconda3/envs/school/lib/site-packages/sklearn/utils/validation.py?line=694'>695</a>\u001b[0m             \u001b[39m\"\u001b[39m\u001b[39mExpected 2D array, got 1D array instead:\u001b[39m\u001b[39m\\n\u001b[39;00m\u001b[39marray=\u001b[39m\u001b[39m{}\u001b[39;00m\u001b[39m.\u001b[39m\u001b[39m\\n\u001b[39;00m\u001b[39m\"\u001b[39m\n\u001b[0;32m    <a href='file:///c%3A/Users/asus/anaconda3/envs/school/lib/site-packages/sklearn/utils/validation.py?line=695'>696</a>\u001b[0m             \u001b[39m\"\u001b[39m\u001b[39mReshape your data either using array.reshape(-1, 1) if \u001b[39m\u001b[39m\"\u001b[39m\n\u001b[0;32m    <a href='file:///c%3A/Users/asus/anaconda3/envs/school/lib/site-packages/sklearn/utils/validation.py?line=696'>697</a>\u001b[0m             \u001b[39m\"\u001b[39m\u001b[39myour data has a single feature or array.reshape(1, -1) \u001b[39m\u001b[39m\"\u001b[39m\n\u001b[0;32m    <a href='file:///c%3A/Users/asus/anaconda3/envs/school/lib/site-packages/sklearn/utils/validation.py?line=697'>698</a>\u001b[0m             \u001b[39m\"\u001b[39m\u001b[39mif it contains a single sample.\u001b[39m\u001b[39m\"\u001b[39m\u001b[39m.\u001b[39mformat(array))\n\u001b[0;32m    <a href='file:///c%3A/Users/asus/anaconda3/envs/school/lib/site-packages/sklearn/utils/validation.py?line=699'>700</a>\u001b[0m \u001b[39m# make sure we actually converted to numeric:\u001b[39;00m\n\u001b[0;32m    <a href='file:///c%3A/Users/asus/anaconda3/envs/school/lib/site-packages/sklearn/utils/validation.py?line=700'>701</a>\u001b[0m \u001b[39mif\u001b[39;00m dtype_numeric \u001b[39mand\u001b[39;00m array\u001b[39m.\u001b[39mdtype\u001b[39m.\u001b[39mkind \u001b[39min\u001b[39;00m \u001b[39m\"\u001b[39m\u001b[39mOUSV\u001b[39m\u001b[39m\"\u001b[39m:\n",
      "\u001b[1;31mValueError\u001b[0m: Expected 2D array, got 1D array instead:\narray=[1. 2. 3. 4. 5.].\nReshape your data either using array.reshape(-1, 1) if your data has a single feature or array.reshape(1, -1) if it contains a single sample."
     ]
    }
   ],
   "source": [
    "scaler.fit(a)"
   ]
  },
  {
   "cell_type": "code",
   "execution_count": 31,
   "metadata": {},
   "outputs": [],
   "source": [
    "a = a.reshape(-1,1)"
   ]
  },
  {
   "cell_type": "code",
   "execution_count": 33,
   "metadata": {},
   "outputs": [
    {
     "data": {
      "text/plain": [
       "(5, 1)"
      ]
     },
     "execution_count": 33,
     "metadata": {},
     "output_type": "execute_result"
    }
   ],
   "source": [
    "a.shape"
   ]
  },
  {
   "cell_type": "code",
   "execution_count": 34,
   "metadata": {},
   "outputs": [
    {
     "data": {
      "text/plain": [
       "StandardScaler()"
      ]
     },
     "execution_count": 34,
     "metadata": {},
     "output_type": "execute_result"
    }
   ],
   "source": [
    "scaler.fit(a)"
   ]
  },
  {
   "cell_type": "code",
   "execution_count": 35,
   "metadata": {},
   "outputs": [
    {
     "data": {
      "text/plain": [
       "['__class__',\n",
       " '__delattr__',\n",
       " '__dict__',\n",
       " '__dir__',\n",
       " '__doc__',\n",
       " '__eq__',\n",
       " '__format__',\n",
       " '__ge__',\n",
       " '__getattribute__',\n",
       " '__getstate__',\n",
       " '__gt__',\n",
       " '__hash__',\n",
       " '__init__',\n",
       " '__init_subclass__',\n",
       " '__le__',\n",
       " '__lt__',\n",
       " '__module__',\n",
       " '__ne__',\n",
       " '__new__',\n",
       " '__reduce__',\n",
       " '__reduce_ex__',\n",
       " '__repr__',\n",
       " '__setattr__',\n",
       " '__setstate__',\n",
       " '__sizeof__',\n",
       " '__str__',\n",
       " '__subclasshook__',\n",
       " '__weakref__',\n",
       " '_check_n_features',\n",
       " '_get_param_names',\n",
       " '_get_tags',\n",
       " '_more_tags',\n",
       " '_repr_html_',\n",
       " '_repr_html_inner',\n",
       " '_repr_mimebundle_',\n",
       " '_reset',\n",
       " '_validate_data',\n",
       " 'copy',\n",
       " 'fit',\n",
       " 'fit_transform',\n",
       " 'get_params',\n",
       " 'inverse_transform',\n",
       " 'mean_',\n",
       " 'n_features_in_',\n",
       " 'n_samples_seen_',\n",
       " 'partial_fit',\n",
       " 'scale_',\n",
       " 'set_params',\n",
       " 'transform',\n",
       " 'var_',\n",
       " 'with_mean',\n",
       " 'with_std']"
      ]
     },
     "execution_count": 35,
     "metadata": {},
     "output_type": "execute_result"
    }
   ],
   "source": [
    "dir(scaler)"
   ]
  },
  {
   "cell_type": "code",
   "execution_count": 36,
   "metadata": {},
   "outputs": [
    {
     "data": {
      "text/plain": [
       "array([3.])"
      ]
     },
     "execution_count": 36,
     "metadata": {},
     "output_type": "execute_result"
    }
   ],
   "source": [
    "scaler.mean_"
   ]
  },
  {
   "cell_type": "code",
   "execution_count": 37,
   "metadata": {},
   "outputs": [
    {
     "data": {
      "text/plain": [
       "array([2.])"
      ]
     },
     "execution_count": 37,
     "metadata": {},
     "output_type": "execute_result"
    }
   ],
   "source": [
    "scaler.var_"
   ]
  },
  {
   "cell_type": "code",
   "execution_count": 38,
   "metadata": {},
   "outputs": [
    {
     "data": {
      "text/plain": [
       "True"
      ]
     },
     "execution_count": 38,
     "metadata": {},
     "output_type": "execute_result"
    }
   ],
   "source": [
    "scaler.with_std"
   ]
  },
  {
   "cell_type": "code",
   "execution_count": 39,
   "metadata": {},
   "outputs": [
    {
     "data": {
      "text/plain": [
       "array([[-1.41421356],\n",
       "       [-0.70710678],\n",
       "       [ 0.        ],\n",
       "       [ 0.70710678],\n",
       "       [ 1.41421356]])"
      ]
     },
     "execution_count": 39,
     "metadata": {},
     "output_type": "execute_result"
    }
   ],
   "source": [
    "scaler.transform(a)"
   ]
  },
  {
   "cell_type": "code",
   "execution_count": 40,
   "metadata": {},
   "outputs": [
    {
     "data": {
      "text/plain": [
       "array([[-1.41421356],\n",
       "       [-0.70710678],\n",
       "       [ 0.        ],\n",
       "       [ 0.70710678],\n",
       "       [ 1.41421356]])"
      ]
     },
     "execution_count": 40,
     "metadata": {},
     "output_type": "execute_result"
    }
   ],
   "source": [
    "scaler.fit_transform(a)"
   ]
  },
  {
   "cell_type": "code",
   "execution_count": 41,
   "metadata": {},
   "outputs": [
    {
     "data": {
      "text/plain": [
       "array([[1.],\n",
       "       [2.],\n",
       "       [3.],\n",
       "       [4.],\n",
       "       [5.]])"
      ]
     },
     "execution_count": 41,
     "metadata": {},
     "output_type": "execute_result"
    }
   ],
   "source": [
    "scaler.inverse_transform(scaler.fit_transform(a))"
   ]
  },
  {
   "cell_type": "code",
   "execution_count": 47,
   "metadata": {},
   "outputs": [
    {
     "data": {
      "text/plain": [
       "(500, 1)"
      ]
     },
     "execution_count": 47,
     "metadata": {},
     "output_type": "execute_result"
    }
   ],
   "source": [
    "x = np.random.random(500)\n",
    "y = np.random.random(500)\n",
    "X = x.reshape(-1,1)\n",
    "X.shape\n",
    "Y = y.reshape(-1,1)\n",
    "Y.shape"
   ]
  },
  {
   "cell_type": "code",
   "execution_count": 56,
   "metadata": {},
   "outputs": [
    {
     "data": {
      "text/plain": [
       "(array([ 6.,  5.,  3.,  7.,  3.,  3.,  5.,  6.,  5.,  3., 10.,  2.,  3.,\n",
       "         9.,  5.,  5.,  8.,  6.,  2.,  5.,  6.,  4.,  9.,  4.,  0., 12.,\n",
       "         4.,  7.,  6.,  5.,  5.,  5.,  5.,  3.,  5.,  4.,  6.,  5.,  7.,\n",
       "         7., 10.,  4.,  6.,  5.,  8.,  3.,  4.,  3.,  1.,  5.,  2.,  2.,\n",
       "         4.,  6.,  3.,  7.,  1.,  3., 11.,  8.,  4.,  9.,  5.,  8.,  2.,\n",
       "         5.,  3.,  6.,  4.,  9.,  5.,  2.,  5.,  5.,  5.,  6.,  5.,  6.,\n",
       "         5.,  4.,  4.,  5.,  7.,  4.,  9.,  5.,  4.,  3.,  1.,  2.,  2.,\n",
       "         2.,  7.,  9.,  7.,  4.,  5.,  2.,  6.,  3.]),\n",
       " array([0.  , 0.01, 0.02, 0.03, 0.04, 0.05, 0.06, 0.07, 0.08, 0.09, 0.1 ,\n",
       "        0.11, 0.12, 0.13, 0.14, 0.15, 0.16, 0.17, 0.18, 0.19, 0.2 , 0.21,\n",
       "        0.22, 0.23, 0.24, 0.25, 0.26, 0.27, 0.28, 0.29, 0.3 , 0.31, 0.32,\n",
       "        0.33, 0.34, 0.35, 0.36, 0.37, 0.38, 0.39, 0.4 , 0.41, 0.42, 0.43,\n",
       "        0.44, 0.45, 0.46, 0.47, 0.48, 0.49, 0.5 , 0.51, 0.52, 0.53, 0.54,\n",
       "        0.55, 0.56, 0.57, 0.58, 0.59, 0.6 , 0.61, 0.62, 0.63, 0.64, 0.65,\n",
       "        0.66, 0.67, 0.68, 0.69, 0.7 , 0.71, 0.72, 0.73, 0.74, 0.75, 0.76,\n",
       "        0.77, 0.78, 0.79, 0.8 , 0.81, 0.82, 0.83, 0.84, 0.85, 0.86, 0.87,\n",
       "        0.88, 0.89, 0.9 , 0.91, 0.92, 0.93, 0.94, 0.95, 0.96, 0.97, 0.98,\n",
       "        0.99, 1.  ]),\n",
       " <BarContainer object of 100 artists>)"
      ]
     },
     "execution_count": 56,
     "metadata": {},
     "output_type": "execute_result"
    },
    {
     "data": {
      "image/png": "[encoded data removed]",
      "text/plain": [
       "<Figure size 432x288 with 1 Axes>"
      ]
     },
     "metadata": {
      "needs_background": "light"
     },
     "output_type": "display_data"
    }
   ],
   "source": [
    "from sklearn.preprocessing import MinMaxScaler\n",
    "x_scaler = MinMaxScaler()\n",
    "x_minmax_scalered = x_scaler.fit_transform(X)\n",
    "plt.hist(x_minmax_scalered, bins=100)\n",
    "y_scaler = MinMaxScaler()\n",
    "y_minmax_scalered = y_scaler.fit_transform(Y)\n",
    "plt.hist(y_minmax_scalered, bins=100)"
   ]
  },
  {
   "cell_type": "code",
   "execution_count": 55,
   "metadata": {},
   "outputs": [
    {
     "data": {
      "text/plain": [
       "(array([ 6.,  5.,  3.,  7.,  3.,  3.,  5.,  6.,  5.,  3., 10.,  2.,  3.,\n",
       "         9.,  5.,  5.,  8.,  6.,  2.,  5.,  6.,  4.,  9.,  4.,  0., 12.,\n",
       "         4.,  7.,  6.,  5.,  5.,  5.,  5.,  3.,  5.,  4.,  6.,  5.,  7.,\n",
       "         7., 10.,  4.,  6.,  5.,  8.,  3.,  4.,  3.,  1.,  5.,  2.,  2.,\n",
       "         4.,  6.,  3.,  7.,  1.,  3., 11.,  8.,  4.,  9.,  5.,  8.,  2.,\n",
       "         5.,  3.,  6.,  4.,  9.,  5.,  2.,  5.,  5.,  5.,  6.,  5.,  6.,\n",
       "         5.,  4.,  4.,  5.,  7.,  4.,  9.,  5.,  4.,  3.,  1.,  2.,  2.,\n",
       "         2.,  7.,  9.,  7.,  4.,  5.,  2.,  6.,  3.]),\n",
       " array([0.  , 0.01, 0.02, 0.03, 0.04, 0.05, 0.06, 0.07, 0.08, 0.09, 0.1 ,\n",
       "        0.11, 0.12, 0.13, 0.14, 0.15, 0.16, 0.17, 0.18, 0.19, 0.2 , 0.21,\n",
       "        0.22, 0.23, 0.24, 0.25, 0.26, 0.27, 0.28, 0.29, 0.3 , 0.31, 0.32,\n",
       "        0.33, 0.34, 0.35, 0.36, 0.37, 0.38, 0.39, 0.4 , 0.41, 0.42, 0.43,\n",
       "        0.44, 0.45, 0.46, 0.47, 0.48, 0.49, 0.5 , 0.51, 0.52, 0.53, 0.54,\n",
       "        0.55, 0.56, 0.57, 0.58, 0.59, 0.6 , 0.61, 0.62, 0.63, 0.64, 0.65,\n",
       "        0.66, 0.67, 0.68, 0.69, 0.7 , 0.71, 0.72, 0.73, 0.74, 0.75, 0.76,\n",
       "        0.77, 0.78, 0.79, 0.8 , 0.81, 0.82, 0.83, 0.84, 0.85, 0.86, 0.87,\n",
       "        0.88, 0.89, 0.9 , 0.91, 0.92, 0.93, 0.94, 0.95, 0.96, 0.97, 0.98,\n",
       "        0.99, 1.  ]),\n",
       " <BarContainer object of 100 artists>)"
      ]
     },
     "execution_count": 55,
     "metadata": {},
     "output_type": "execute_result"
    },
    {
     "data": {
      "image/png": "[encoded data removed]",
      "text/plain": [
       "<Figure size 432x288 with 1 Axes>"
      ]
     },
     "metadata": {
      "needs_background": "light"
     },
     "output_type": "display_data"
    }
   ],
   "source": [
    "y_scaler = MinMaxScaler()\n",
    "y_minmax_scalered = y_scaler.fit_transform(Y)\n",
    "plt.hist(y_minmax_scalered, bins=100)"
   ]
  },
  {
   "cell_type": "code",
   "execution_count": 74,
   "metadata": {},
   "outputs": [],
   "source": [
    "from sklearn.model_selection import train_test_split\n",
    "import pandas as pd"
   ]
  },
  {
   "cell_type": "code",
   "execution_count": 58,
   "metadata": {},
   "outputs": [],
   "source": [
    "X = np.random.rand(100)"
   ]
  },
  {
   "cell_type": "code",
   "execution_count": 59,
   "metadata": {},
   "outputs": [],
   "source": [
    "y = np.zeros(100)"
   ]
  },
  {
   "cell_type": "code",
   "execution_count": 62,
   "metadata": {},
   "outputs": [],
   "source": [
    "y[np.random.randint(0,50, size=[20])] = 1 "
   ]
  },
  {
   "cell_type": "code",
   "execution_count": 80,
   "metadata": {},
   "outputs": [
    {
     "data": {
      "text/plain": [
       "array([2., 1., 0., 2., 2., 0., 1., 2., 0., 0., 1., 1., 1., 1., 0., 1., 1.,\n",
       "       1., 0., 0., 1., 1., 0., 0., 2., 2., 0., 2., 1., 1., 1., 2., 2., 0.,\n",
       "       2., 1., 0., 0., 1., 0., 1., 1., 1., 0., 0., 2., 1., 2., 1., 0., 2.,\n",
       "       0., 0., 0., 0., 0., 0., 0., 0., 0., 0., 0., 2., 0., 0., 0., 2., 0.,\n",
       "       0., 0., 2., 0., 2., 0., 0., 0., 0., 0., 0., 2., 0., 2., 0., 0., 0.,\n",
       "       0., 0., 0., 2., 0., 2., 2., 0., 2., 0., 0., 2., 0., 0., 2.])"
      ]
     },
     "execution_count": 80,
     "metadata": {},
     "output_type": "execute_result"
    }
   ],
   "source": [
    "y[np.random.randint(0,100, size = [10])] = 2\n",
    "y"
   ]
  },
  {
   "cell_type": "code",
   "execution_count": 79,
   "metadata": {},
   "outputs": [],
   "source": [
    "X_train, X_test, y_train, y_test = train_test_split(X,y, random_state=42, test_size=0.3, stratify=y)\n"
   ]
  },
  {
   "cell_type": "code",
   "execution_count": 81,
   "metadata": {},
   "outputs": [
    {
     "data": {
      "text/plain": [
       "array([0., 1., 0., 0., 0., 2., 0., 1., 0., 1., 1., 0., 0., 0., 0., 0., 2.,\n",
       "       0., 0., 0., 0., 1., 2., 2., 0., 0., 1., 0., 0., 2., 1., 0., 2., 0.,\n",
       "       0., 1., 1., 0., 1., 0., 0., 1., 2., 2., 0., 2., 0., 1., 0., 0., 1.,\n",
       "       0., 1., 0., 1., 0., 2., 0., 1., 0., 0., 0., 0., 0., 2., 1., 0., 0.,\n",
       "       0., 2.])"
      ]
     },
     "execution_count": 81,
     "metadata": {},
     "output_type": "execute_result"
    }
   ],
   "source": [
    "y_train"
   ]
  },
  {
   "cell_type": "code",
   "execution_count": 82,
   "metadata": {},
   "outputs": [
    {
     "data": {
      "text/plain": [
       "array([0., 0., 1., 0., 0., 2., 0., 0., 0., 1., 0., 1., 1., 0., 2., 1., 0.,\n",
       "       0., 2., 2., 0., 0., 0., 1., 2., 0., 0., 1., 1., 0.])"
      ]
     },
     "execution_count": 82,
     "metadata": {},
     "output_type": "execute_result"
    }
   ],
   "source": [
    "y_test"
   ]
  },
  {
   "cell_type": "code",
   "execution_count": 83,
   "metadata": {},
   "outputs": [
    {
     "data": {
      "text/plain": [
       "0.0    17\n",
       "1.0     8\n",
       "2.0     5\n",
       "dtype: int64"
      ]
     },
     "execution_count": 83,
     "metadata": {},
     "output_type": "execute_result"
    }
   ],
   "source": [
    "pd.Series(y_test).value_counts()"
   ]
  },
  {
   "cell_type": "code",
   "execution_count": 84,
   "metadata": {},
   "outputs": [
    {
     "data": {
      "text/plain": [
       "0.0    41\n",
       "1.0    17\n",
       "2.0    12\n",
       "dtype: int64"
      ]
     },
     "execution_count": 84,
     "metadata": {},
     "output_type": "execute_result"
    }
   ],
   "source": [
    "pd.Series(y_train).value_counts()"
   ]
  }
 ],
 "metadata": {
  "interpreter": {
   "hash": "770021e68aae5e5bc49f7a3b6edb919a4a251fef8e7696fd47196c25263b13c4"
  },
  "kernelspec": {
   "display_name": "Python 3.9.7 ('base')",
   "language": "python",
   "name": "python3"
  },
  "language_info": {
   "codemirror_mode": {
    "name": "ipython",
    "version": 3
   },
   "file_extension": ".py",
   "mimetype": "text/x-python",
   "name": "python",
   "nbconvert_exporter": "python",
   "pygments_lexer": "ipython3",
   "version": "3.8.2"
  },
  "orig_nbformat": 4
 },
 "nbformat": 4,
 "nbformat_minor": 2
}
