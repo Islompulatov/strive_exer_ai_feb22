{
 "cells": [
  {
   "cell_type": "code",
   "execution_count": 4,
   "metadata": {},
   "outputs": [
    {
     "name": "stdout",
     "output_type": "stream",
     "text": [
      "A= 2\n",
      "B= 1 \n",
      "C= 7 \n",
      "D= 8\n"
     ]
    }
   ],
   "source": [
    "from time import time\n",
    "def nested_nest():\n",
    "    for a in range(1,9):\n",
    "        for b in range(0,9):\n",
    "            for c in range(0,9):\n",
    "                for d in range(1,9):\n",
    "                    if 4*(a*1000+b*100+c*10+d) == (a+b*10+c*100+d*1000):\n",
    "                        print(\"A= \"+str(a)+\"\\nB= \"+str(b),\"\\nC= \"+str(c),\"\\nD= \"+str(d))\n",
    "nested_nest() \n",
    " \n",
    "\n"
   ]
  },
  {
   "cell_type": "code",
   "execution_count": 12,
   "metadata": {},
   "outputs": [
    {
     "name": "stdout",
     "output_type": "stream",
     "text": [
      "['2178']\n"
     ]
    }
   ],
   "source": [
    "tt = [str(a)+str(b)+str(c)+str(d)  for a in range(1,9) for b in range(1,9) for c in range(1,9) \n",
    "for d in range(1,9) if 4*(a*1000+b*100+c*10+d) == (a+b*10+c*100+d*1000)]\n",
    "print(tt)"
   ]
  },
  {
   "cell_type": "code",
   "execution_count": 5,
   "metadata": {},
   "outputs": [
    {
     "name": "stdout",
     "output_type": "stream",
     "text": [
      "A= 2\n",
      "B= 1 \n",
      "C= 7 \n",
      "D= 8\n",
      "time eclapsed 0.0019884109497070312 s\n"
     ]
    }
   ],
   "source": [
    "t0 = time()\n",
    "nested_nest()\n",
    "t1 =time()-t0\n",
    "print('time eclapsed', t1, 's')"
   ]
  },
  {
   "cell_type": "code",
   "execution_count": 10,
   "metadata": {},
   "outputs": [
    {
     "name": "stdout",
     "output_type": "stream",
     "text": [
      "time eclapsed 0.0 s\n"
     ]
    }
   ],
   "source": [
    "t0 = time()\n",
    "tt\n",
    "t1 = time() - t0\n",
    "print('time eclapsed', t1, 's')"
   ]
  },
  {
   "cell_type": "code",
   "execution_count": 1,
   "metadata": {},
   "outputs": [
    {
     "name": "stderr",
     "output_type": "stream",
     "text": [
      "2022-03-25 11:55:50.260 INFO    numexpr.utils: NumExpr defaulting to 8 threads.\n",
      "2022-03-25 11:55:52.859 \n",
      "  \u001b[33m\u001b[1mWarning:\u001b[0m to view this Streamlit app on a browser, run it with the following\n",
      "  command:\n",
      "\n",
      "    streamlit run C:\\Users\\asus\\anaconda3\\lib\\site-packages\\ipykernel_launcher.py [ARGUMENTS]\n"
     ]
    },
    {
     "data": {
      "text/plain": [
       "DeltaGenerator(_root_container=0, _provided_cursor=None, _parent=None, _block_type=None, _form_data=None)"
      ]
     },
     "execution_count": 1,
     "metadata": {},
     "output_type": "execute_result"
    }
   ],
   "source": [
    "from sre_constants import SUCCESS\n",
    "import streamlit as st\n",
    "from PIL import Image\n",
    "import numpy as np\n",
    "import pandas as pd\n",
    "df =pd.read_csv('./data_action.csv')\n",
    "\n",
    "st.title('The Best Action Movie')\n",
    "st.header('Choose your best movie')\n",
    "st.subheader('Good Luck')\n",
    "st.write('Have a fun!')\n",
    "img = Image.open(\"action.webp\")\n",
    "st.image(img, width = 700, caption=\"Action Image\")\n",
    "status = st.sidebar.radio('How is your mood today?',('Good','Bad'))\n",
    "if status == 'Good':\n",
    "    st.success('You can watch movie today')\n",
    "else:\n",
    "    st.warning('You can movie another day, go to sleep')    \n",
    "select_classifier = st.sidebar.selectbox('select your favourite actor/actress',('Tom Hardy','Ben Affleck','Charlize Theron','Natalie Portman'))\n",
    "\n",
    "    \n",
    "st.write(select_classifier)\n",
    "data_set=st.sidebar.selectbox('select the director',('James Cameron', 'David Fincher', 'George Miller','Pierre Morel'))\n",
    "st.write(data_set)\n",
    "level = st.sidebar.slider('Choose your amount of movie', 1,100)\n",
    "\n",
    "\n",
    "\n",
    "vid_file = open(\"file.mp4\",\"rb\").read()\n",
    "st.video(vid_file)"
   ]
  }
 ],
 "metadata": {
  "interpreter": {
   "hash": "770021e68aae5e5bc49f7a3b6edb919a4a251fef8e7696fd47196c25263b13c4"
  },
  "kernelspec": {
   "display_name": "Python 3.9.7 ('base')",
   "language": "python",
   "name": "python3"
  },
  "language_info": {
   "codemirror_mode": {
    "name": "ipython",
    "version": 3
   },
   "file_extension": ".py",
   "mimetype": "text/x-python",
   "name": "python",
   "nbconvert_exporter": "python",
   "pygments_lexer": "ipython3",
   "version": "3.9.7"
  },
  "orig_nbformat": 4
 },
 "nbformat": 4,
 "nbformat_minor": 2
}
