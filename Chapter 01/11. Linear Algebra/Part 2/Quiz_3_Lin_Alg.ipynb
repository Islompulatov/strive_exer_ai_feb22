{
 "cells": [
  {
   "cell_type": "markdown",
   "metadata": {},
   "source": [
    "## Linear Algebra Quiz #3\n",
    "\n",
    "![title](./img/3_0.jpeg)\n",
    "\n",
    "We strongly suggest working with numpy :)"
   ]
  },
  {
   "cell_type": "code",
   "execution_count": 1,
   "metadata": {},
   "outputs": [],
   "source": [
    "#Do your imports here\n",
    "import numpy as np"
   ]
  },
  {
   "cell_type": "markdown",
   "metadata": {},
   "source": [
    "![title](./img/3_2.png)\n",
    "![title](./img/3_3.png)\n",
    "Create a program that can output\n",
    "\n",
    "- What is the value of element c23​ of Matrix C where C=A x B ?\n",
    "- What is the value of element c23​ of Matrix C where C=B x A ?"
   ]
  },
  {
   "cell_type": "code",
   "execution_count": 17,
   "metadata": {},
   "outputs": [
    {
     "data": {
      "text/plain": [
       "(array([[   1.2, -135. ,   26. ,    5. ,    0. ],\n",
       "        [   1.2,  210. ,   -1. ,   45. ,    0. ],\n",
       "        [  -2.4,   -0. ,   88. ,   20. ,  490. ]]),\n",
       " -1.0,\n",
       " array([[   1.2, -135. ,   26. ,    5. ,    0. ],\n",
       "        [   1.2,  210. ,   -1. ,   45. ,    0. ],\n",
       "        [  -2.4,   -0. ,   88. ,   20. ,  490. ]]))"
      ]
     },
     "execution_count": 17,
     "metadata": {},
     "output_type": "execute_result"
    }
   ],
   "source": [
    "# okay numpy is great but... how would you inverse a matrix by hand?\n",
    "\n",
    "def inverse_matrix(A,B):\n",
    "    \n",
    "    A = np.array([[0.6, -15, 2, 5, 98]])\n",
    "    B = np.array([[2,9,13,1,0],[2,-14,-0.5,9,0],[-4,0,44,4,5]])\n",
    "    C = A*B\n",
    "    C1 = B*A\n",
    "    return C, C[1][2], C1\n",
    "inverse_matrix(A,B)\n",
    "\n",
    "    "
   ]
  },
  {
   "cell_type": "markdown",
   "metadata": {},
   "source": [
    "![title](./img/3_1.png)\n",
    "Create a program that can output\n",
    "\n",
    "- What is the value of the ijth element if i = 2 and j=3?\n",
    "- What is the value of the ijth element if i = 3 and j=1?"
   ]
  },
  {
   "cell_type": "code",
   "execution_count": 19,
   "metadata": {},
   "outputs": [
    {
     "name": "stdout",
     "output_type": "stream",
     "text": [
      "[[ 6.000000e+00  7.000000e-01  5.700000e+00]\n",
      " [-1.014160e+03 -3.000000e+00  0.000000e+00]\n",
      " [ 1.157849e+02 -2.700000e+00 -8.000000e+00]\n",
      " [-9.300000e+01  1.767000e+01  6.000000e-03]]\n",
      "0.0\n"
     ]
    },
    {
     "data": {
      "text/plain": [
       "115.7849"
      ]
     },
     "execution_count": 19,
     "metadata": {},
     "output_type": "execute_result"
    }
   ],
   "source": [
    "# Just answer using code --> easy stuff!\n",
    "A = np.array([[3,-1.3,7],[0.6,4,0],[4,0,-8],[-3,8.6,0.006]])\n",
    "B = np.array([[3,2,-9],[-5.76,-2,0],[45,1.3,0],[0,9,0]])\n",
    "C = np.array([[0,0,-7.7],[1009,5,0],[-66.7849,4,0],[90,-0.07,0]])\n",
    "D = A+B-C\n",
    "print(D)\n",
    "print(D[1][2])\n",
    "D[2][0]\n",
    "\n",
    "# Can you build a matrix solver that can do output the result given n matrices and a sequence of operations such as [add subtract multiply transpose?]\n",
    "#Some ideas on valid operations: Multiplication Addition Subtraction Inverstion Transposed. "
   ]
  },
  {
   "cell_type": "markdown",
   "metadata": {},
   "source": [
    "![title](./img/3_3.png)\n",
    "Create a program that can output\n",
    "- How many rows will C have?\n",
    "- How many columns will C have?\n",
    "- What will be the value of c13​?"
   ]
  },
  {
   "cell_type": "code",
   "execution_count": 26,
   "metadata": {},
   "outputs": [
    {
     "name": "stdout",
     "output_type": "stream",
     "text": [
      "[[   1.2 -135.    26.     5.     0. ]\n",
      " [   1.2  210.    -1.    45.     0. ]\n",
      " [  -2.4   -0.    88.    20.   490. ]]\n",
      "(3, 5)\n"
     ]
    },
    {
     "data": {
      "text/plain": [
       "26.0"
      ]
     },
     "execution_count": 26,
     "metadata": {},
     "output_type": "execute_result"
    }
   ],
   "source": [
    "A = np.array([[0.6, -15, 2, 5, 98]])\n",
    "B = np.array([[2,9,13,1,0],[2,-14,-0.5,9,0],[-4,0,44,4,5]])\n",
    "C = A*B\n",
    "print(C)\n",
    "print(C.shape)\n",
    "C[0][2]\n"
   ]
  }
 ],
 "metadata": {
  "kernelspec": {
   "display_name": "Python 3",
   "language": "python",
   "name": "python3"
  },
  "language_info": {
   "codemirror_mode": {
    "name": "ipython",
    "version": 3
   },
   "file_extension": ".py",
   "mimetype": "text/x-python",
   "name": "python",
   "nbconvert_exporter": "python",
   "pygments_lexer": "ipython3",
   "version": "3.7.9"
  },
  "varInspector": {
   "cols": {
    "lenName": 16,
    "lenType": 16,
    "lenVar": 40
   },
   "kernels_config": {
    "python": {
     "delete_cmd_postfix": "",
     "delete_cmd_prefix": "del ",
     "library": "var_list.py",
     "varRefreshCmd": "print(var_dic_list())"
    },
    "r": {
     "delete_cmd_postfix": ") ",
     "delete_cmd_prefix": "rm(",
     "library": "var_list.r",
     "varRefreshCmd": "cat(var_dic_list()) "
    }
   },
   "types_to_exclude": [
    "module",
    "function",
    "builtin_function_or_method",
    "instance",
    "_Feature"
   ],
   "window_display": false
  }
 },
 "nbformat": 4,
 "nbformat_minor": 2
}
