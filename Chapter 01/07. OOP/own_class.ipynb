{
 "cells": [
  {
   "cell_type": "code",
   "execution_count": 26,
   "metadata": {},
   "outputs": [],
   "source": [
    "import math\n",
    "import numpy as np\n",
    "class Sphere:\n",
    "    def __init__(self, name, color, line, radius):\n",
    "        self.name = name\n",
    "        self.line = line\n",
    "        self.color = color\n",
    "        self.radius= radius\n",
    "        self_rating_stars = []\n",
    "    \n",
    "\n",
    "    \n",
    "    def shape_radius(self,radius):\n",
    "        self.radius = radius\n",
    "        if radius < 0:\n",
    "            raise ValueError('Radius cannot be negative')\n",
    "\n",
    "        elif radius == 0:\n",
    "            return  'Oops! Radius must be greater than zero'\n",
    "        else:\n",
    "            return self.radius\n",
    "\n",
    "    def sphere_area(self,radius):\n",
    "        self.radius  = radius\n",
    "        s = 4*math.pi*(radius**2)\n",
    "        return s\n",
    "\n",
    "    def  sphere_volume(self,radius):\n",
    "        self.radius = radius\n",
    "        v = 4*math.pi*(radius**3)\n",
    "        return v/3\n",
    "                  \n",
    "\n",
    "\n",
    "class Cylinder(Sphere):\n",
    "    def __init__(self, name, color, line, radius, big_or_small):\n",
    "        super().__init__(name, color, line, radius)\n",
    "        self.size = big_or_small\n",
    "\n",
    "    def cylinder_square(self, height):\n",
    "        self.height = height\n",
    "        s1 = 2*math.pi*self.radius(self.radius+height)\n",
    "        return s1\n",
    "\n",
    "    def cylinder_volume(self):\n",
    "        v1 = math.pi*(self.radius**2)*self.height  \n",
    "        return v1\n",
    "\n",
    "\n",
    "\n",
    "class Cone(Cylinder):\n",
    "    def __init__(self, name, color, line, radius, height, vertex):\n",
    "        super().__init__(name, color, line, radius,height)\n",
    "        self.vertex = vertex\n",
    "        \n",
    "\n",
    "    def cone_area(self, radius, vertex):\n",
    "        s2 = math.pi*radius(vertex+radius)  \n",
    "        return s2   \n",
    "\n",
    "    def cone_volume(self, radius, height):\n",
    "        v2 = math.pi*(radius**2)*height/3\n",
    "        return v2\n",
    "\n",
    "\n",
    "\n"
   ]
  },
  {
   "cell_type": "code",
   "execution_count": 8,
   "metadata": {},
   "outputs": [
    {
     "data": {
      "text/plain": [
       "28.274333882308138"
      ]
     },
     "execution_count": 8,
     "metadata": {},
     "output_type": "execute_result"
    }
   ],
   "source": [
    "figures = Sphere('Ball', 'green', 0.15, 3)\n",
    "figures.sphere_area(1.5)\n"
   ]
  },
  {
   "cell_type": "code",
   "execution_count": 10,
   "metadata": {},
   "outputs": [
    {
     "data": {
      "text/plain": [
       "'Oops! Radius must be greater than zero'"
      ]
     },
     "execution_count": 10,
     "metadata": {},
     "output_type": "execute_result"
    }
   ],
   "source": [
    "figures.shape_radius(0)"
   ]
  },
  {
   "cell_type": "code",
   "execution_count": 11,
   "metadata": {},
   "outputs": [
    {
     "data": {
      "text/plain": [
       "14.137166941154069"
      ]
     },
     "execution_count": 11,
     "metadata": {},
     "output_type": "execute_result"
    }
   ],
   "source": [
    "figures.sphere_volume(1.5)"
   ]
  },
  {
   "cell_type": "code",
   "execution_count": 12,
   "metadata": {},
   "outputs": [],
   "source": [
    "figure1 = Cylinder('Ball', 'green', 0.15, 5, 'big')"
   ]
  },
  {
   "cell_type": "code",
   "execution_count": 13,
   "metadata": {},
   "outputs": [
    {
     "data": {
      "text/plain": [
       "'green'"
      ]
     },
     "execution_count": 13,
     "metadata": {},
     "output_type": "execute_result"
    }
   ],
   "source": [
    "figure1.color"
   ]
  },
  {
   "cell_type": "code",
   "execution_count": 15,
   "metadata": {},
   "outputs": [
    {
     "data": {
      "text/plain": [
       "1099.5574287564277"
      ]
     },
     "execution_count": 15,
     "metadata": {},
     "output_type": "execute_result"
    }
   ],
   "source": [
    "figure1.cylinder_volume()"
   ]
  },
  {
   "cell_type": "code",
   "execution_count": 28,
   "metadata": {},
   "outputs": [],
   "source": [
    "figure2 = Cone('Ball', 'green', 0.15, 6, 8, 10)"
   ]
  }
 ],
 "metadata": {
  "interpreter": {
   "hash": "770021e68aae5e5bc49f7a3b6edb919a4a251fef8e7696fd47196c25263b13c4"
  },
  "kernelspec": {
   "display_name": "Python 3.9.7 ('base')",
   "language": "python",
   "name": "python3"
  },
  "language_info": {
   "codemirror_mode": {
    "name": "ipython",
    "version": 3
   },
   "file_extension": ".py",
   "mimetype": "text/x-python",
   "name": "python",
   "nbconvert_exporter": "python",
   "pygments_lexer": "ipython3",
   "version": "3.9.7"
  },
  "orig_nbformat": 4
 },
 "nbformat": 4,
 "nbformat_minor": 2
}
